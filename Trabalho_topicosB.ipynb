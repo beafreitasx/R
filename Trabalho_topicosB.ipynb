{
  "nbformat": 4,
  "nbformat_minor": 0,
  "metadata": {
    "colab": {
      "name": "Trabalho_topicosB.ipynb",
      "provenance": [],
      "collapsed_sections": [
        "5UXHG9lOlcnj",
        "YT9QFaymK3mD",
        "OOHv3xkfPS7c",
        "IZYl_uU6Rf0l",
        "cVDj4_GTbWVQ",
        "PuMdvWrfFzcl",
        "FESsyxHzQ4S1",
        "thR9vij_nEAO"
      ],
      "toc_visible": true,
      "include_colab_link": true
    },
    "kernelspec": {
      "name": "ir",
      "display_name": "R"
    }
  },
  "cells": [
    {
      "cell_type": "markdown",
      "metadata": {
        "id": "view-in-github",
        "colab_type": "text"
      },
      "source": [
        "<a href=\"https://colab.research.google.com/github/beafreitasx/R/blob/master/Trabalho_topicosB.ipynb\" target=\"_parent\"><img src=\"https://colab.research.google.com/assets/colab-badge.svg\" alt=\"Open In Colab\"/></a>"
      ]
    },
    {
      "cell_type": "markdown",
      "metadata": {
        "id": "jmidJiJtmXZV"
      },
      "source": [
        "# MATE56 - TÓPICOS B\n",
        "\n",
        "***Alunos: Antonio de S. Cruz Neto; e Beatriz de J. Freitas;***\n",
        "## **TRABALHO VALENDO NOTA**\n",
        "\n",
        "- Grupos de no máximo 3 pessoas.\n",
        "- Cada grupo deve procurar um conjunto de dados com no minimo 2000 linhas e 10 variaveis e com uma variável resposta do tipo binária. \n",
        "- Assim que encontrar o dataset, enviar pra mim pra eu dar um ok. \n",
        "- Objetivo: encontrar a melhor solução dentre os modelos que conhecemos para esse conjunto de dados\n",
        "- Entregar o trabalho na forma de relatório feito no google colab (arquivo ipynb) \n",
        "- **Data de entrega: 15/11/2020**\n",
        "\n",
        "- Sugestão de onde procurar conjunto de dados: kaggle\n",
        "\n",
        "- Entregar anexando link ou arquivos no Google Classroom (tarefas)\n",
        "\n",
        "- Objetivo: encontrar a melhor solução dentre os modelos que conhecemos para esse conjunto de dados.\n",
        "\n"
      ]
    },
    {
      "cell_type": "markdown",
      "metadata": {
        "id": "VAUBvl6_atf4"
      },
      "source": [
        "# *SOBREVIVENDO AO TITANIC*\n",
        "\n",
        "O desafio de Machine Learning para prever a sobrvivencia de passageiros no Titanic é um dos mais clássicos, e parada quase que obrigatória para quem está começando a ingressar no mundo da Ciência de dados.\n",
        " \n",
        "Quando pensamos no Titanic logo asossiamos sua imagem ao desastre que culminou em seu naufrágio e na morte de várias de pessoas. Considerado um grande avanço na epoca, o navio era tido como a mais segura e luxuosa embarcação que existia. Com 269 metros de comprimento, 28 metros de largura e 53 metros de altura, detinha cerca de 892 funcionários e poderia levar até 2435 passageiros divididos em três classes;\n",
        " \n",
        "O \"Inafundável\" ganhou grande fama por ter afundado. E a partir desse acontecimento iremos explorar alguns dados existentes e disponibilizados em uma plataforma de competições de data science, o Kaggle: https://www.kaggle.com/\n"
      ]
    },
    {
      "cell_type": "markdown",
      "metadata": {
        "id": "Gal3YCUFatcd"
      },
      "source": [
        "## 1. Definindo o Problema\n",
        "\n",
        "O Grande desafio aqui é tentar prever se um determinado grupo de pessoas sobreviveria ao naufragio ocorrido em 15 de abril de 1912.\n",
        "\n",
        "Usaremos também algumas tecnicas de análise de dados para verificar os fatores que realmente impactaram e serviram para definir a sobrevivencia de alguem. Sabemos que o desastre foi ainda maior pois não existiam boate salva-vidas para todos os passageiros, assim, foi necessario priorizar o embarque de mulheres e crianças nos botes exitentes.\n",
        "\n",
        "Posteriormente, também será possivel saber se você sobreviveria. Vamos começar?\n"
      ]
    },
    {
      "cell_type": "markdown",
      "metadata": {
        "id": "C8fbXOIagm9r"
      },
      "source": [
        "## 2. Obtendo os Dados\n",
        "Iremos trabalhar com dois arquivos que são disponibilizados pelo kaggle:\n",
        "\n",
        "1. Dados para Treino do modelo; (train)\n",
        "2. Dados para teste/prova do modelo; (test)\n",
        "\n",
        "obs: Também é disponibilizado um modelo 'gabarito' (gender_submission).\n",
        "\n",
        "Os dados e outras informações sobre o desafio podem ser encontradas em: \n",
        "https://www.kaggle.com/c/titanic\n",
        "\n"
      ]
    },
    {
      "cell_type": "markdown",
      "metadata": {
        "id": "5UXHG9lOlcnj"
      },
      "source": [
        "## 3. Instalando bibliotecas e dados\n"
      ]
    },
    {
      "cell_type": "code",
      "metadata": {
        "id": "Z7nb_-omFUbj",
        "outputId": "ecaa6bdc-c68b-4a70-9a34-473f0c972ef4",
        "colab": {
          "base_uri": "https://localhost:8080/"
        }
      },
      "source": [
        "#Instalando biblitecas usadas\n",
        "install.packages(\"ggthemes\")\n",
        "install.packages(('corrplot'))\n",
        "install.packages('randomForest')\n",
        "install.packages('plyr')\n",
        "install.packages('mice')"
      ],
      "execution_count": 111,
      "outputs": [
        {
          "output_type": "stream",
          "text": [
            "Installing package into ‘/usr/local/lib/R/site-library’\n",
            "(as ‘lib’ is unspecified)\n",
            "\n",
            "Installing package into ‘/usr/local/lib/R/site-library’\n",
            "(as ‘lib’ is unspecified)\n",
            "\n",
            "Installing package into ‘/usr/local/lib/R/site-library’\n",
            "(as ‘lib’ is unspecified)\n",
            "\n",
            "Installing package into ‘/usr/local/lib/R/site-library’\n",
            "(as ‘lib’ is unspecified)\n",
            "\n",
            "Installing package into ‘/usr/local/lib/R/site-library’\n",
            "(as ‘lib’ is unspecified)\n",
            "\n"
          ],
          "name": "stderr"
        }
      ]
    },
    {
      "cell_type": "code",
      "metadata": {
        "id": "eDcT5mmMJKYg"
      },
      "source": [
        "#Instalando biblitecas usadas\n",
        "library('ggplot2')\n",
        "library('ggthemes')\n",
        "library('scales')\n",
        "library('dplyr')\n",
        "library('randomForest')\n",
        "library('corrplot')\n",
        "library('plyr')\n",
        "library('mice') # imputation\n"
      ],
      "execution_count": 112,
      "outputs": []
    },
    {
      "cell_type": "code",
      "metadata": {
        "id": "EhlsWstUVixJ"
      },
      "source": [
        "#Importando os dados e armazendando na variável correspondente\n",
        "train = read.csv('https://raw.githubusercontent.com/antoniocruzds/Estudos/master/R/Titanic_R/train.csv') #treino\n",
        "test = read.csv(\"https://raw.githubusercontent.com/antoniocruzds/Estudos/master/R/Titanic_R/test.csv\") #teste"
      ],
      "execution_count": 113,
      "outputs": []
    },
    {
      "cell_type": "code",
      "metadata": {
        "id": "H00YcbxcVkWJ",
        "outputId": "5c5dcb9a-8d60-4ca7-8763-1acc3e43804f",
        "colab": {
          "base_uri": "https://localhost:8080/",
          "height": 1000
        }
      },
      "source": [
        "#verificando os dados de treino (train)\n",
        "test"
      ],
      "execution_count": 114,
      "outputs": [
        {
          "output_type": "display_data",
          "data": {
            "text/plain": [
              "    PassengerId Pclass\n",
              "1   892         3     \n",
              "2   893         3     \n",
              "3   894         2     \n",
              "4   895         3     \n",
              "5   896         3     \n",
              "6   897         3     \n",
              "7   898         3     \n",
              "8   899         2     \n",
              "9   900         3     \n",
              "10  901         3     \n",
              "11  902         3     \n",
              "12  903         1     \n",
              "13  904         1     \n",
              "14  905         2     \n",
              "15  906         1     \n",
              "16  907         2     \n",
              "17  908         2     \n",
              "18  909         3     \n",
              "19  910         3     \n",
              "20  911         3     \n",
              "21  912         1     \n",
              "22  913         3     \n",
              "23  914         1     \n",
              "24  915         1     \n",
              "25  916         1     \n",
              "26  917         3     \n",
              "27  918         1     \n",
              "28  919         3     \n",
              "29  920         1     \n",
              "30  921         3     \n",
              "⋮   ⋮           ⋮     \n",
              "389 1280        3     \n",
              "390 1281        3     \n",
              "391 1282        1     \n",
              "392 1283        1     \n",
              "393 1284        3     \n",
              "394 1285        2     \n",
              "395 1286        3     \n",
              "396 1287        1     \n",
              "397 1288        3     \n",
              "398 1289        1     \n",
              "399 1290        3     \n",
              "400 1291        3     \n",
              "401 1292        1     \n",
              "402 1293        2     \n",
              "403 1294        1     \n",
              "404 1295        1     \n",
              "405 1296        1     \n",
              "406 1297        2     \n",
              "407 1298        2     \n",
              "408 1299        1     \n",
              "409 1300        3     \n",
              "410 1301        3     \n",
              "411 1302        3     \n",
              "412 1303        1     \n",
              "413 1304        3     \n",
              "414 1305        3     \n",
              "415 1306        1     \n",
              "416 1307        3     \n",
              "417 1308        3     \n",
              "418 1309        3     \n",
              "    Name                                                            Sex    Age \n",
              "1   Kelly, Mr. James                                                male   34.5\n",
              "2   Wilkes, Mrs. James (Ellen Needs)                                female 47.0\n",
              "3   Myles, Mr. Thomas Francis                                       male   62.0\n",
              "4   Wirz, Mr. Albert                                                male   27.0\n",
              "5   Hirvonen, Mrs. Alexander (Helga E Lindqvist)                    female 22.0\n",
              "6   Svensson, Mr. Johan Cervin                                      male   14.0\n",
              "7   Connolly, Miss. Kate                                            female 30.0\n",
              "8   Caldwell, Mr. Albert Francis                                    male   26.0\n",
              "9   Abrahim, Mrs. Joseph (Sophie Halaut Easu)                       female 18.0\n",
              "10  Davies, Mr. John Samuel                                         male   21.0\n",
              "11  Ilieff, Mr. Ylio                                                male     NA\n",
              "12  Jones, Mr. Charles Cresson                                      male   46.0\n",
              "13  Snyder, Mrs. John Pillsbury (Nelle Stevenson)                   female 23.0\n",
              "14  Howard, Mr. Benjamin                                            male   63.0\n",
              "15  Chaffee, Mrs. Herbert Fuller (Carrie Constance Toogood)         female 47.0\n",
              "16  del Carlo, Mrs. Sebastiano (Argenia Genovesi)                   female 24.0\n",
              "17  Keane, Mr. Daniel                                               male   35.0\n",
              "18  Assaf, Mr. Gerios                                               male   21.0\n",
              "19  Ilmakangas, Miss. Ida Livija                                    female 27.0\n",
              "20  Assaf Khalil, Mrs. Mariana (Miriam\")\"                           female 45.0\n",
              "21  Rothschild, Mr. Martin                                          male   55.0\n",
              "22  Olsen, Master. Artur Karl                                       male    9.0\n",
              "23  Flegenheim, Mrs. Alfred (Antoinette)                            female   NA\n",
              "24  Williams, Mr. Richard Norris II                                 male   21.0\n",
              "25  Ryerson, Mrs. Arthur Larned (Emily Maria Borie)                 female 48.0\n",
              "26  Robins, Mr. Alexander A                                         male   50.0\n",
              "27  Ostby, Miss. Helene Ragnhild                                    female 22.0\n",
              "28  Daher, Mr. Shedid                                               male   22.5\n",
              "29  Brady, Mr. John Bertram                                         male   41.0\n",
              "30  Samaan, Mr. Elias                                               male     NA\n",
              "⋮   ⋮                                                               ⋮      ⋮   \n",
              "389 Canavan, Mr. Patrick                                            male   21.0\n",
              "390 Palsson, Master. Paul Folke                                     male    6.0\n",
              "391 Payne, Mr. Vivian Ponsonby                                      male   23.0\n",
              "392 Lines, Mrs. Ernest H (Elizabeth Lindsey James)                  female 51.0\n",
              "393 Abbott, Master. Eugene Joseph                                   male   13.0\n",
              "394 Gilbert, Mr. William                                            male   47.0\n",
              "395 Kink-Heilmann, Mr. Anton                                        male   29.0\n",
              "396 Smith, Mrs. Lucien Philip (Mary Eloise Hughes)                  female 18.0\n",
              "397 Colbert, Mr. Patrick                                            male   24.0\n",
              "398 Frolicher-Stehli, Mrs. Maxmillian (Margaretha Emerentia Stehli) female 48.0\n",
              "399 Larsson-Rondberg, Mr. Edvard A                                  male   22.0\n",
              "400 Conlon, Mr. Thomas Henry                                        male   31.0\n",
              "401 Bonnell, Miss. Caroline                                         female 30.0\n",
              "402 Gale, Mr. Harry                                                 male   38.0\n",
              "403 Gibson, Miss. Dorothy Winifred                                  female 22.0\n",
              "404 Carrau, Mr. Jose Pedro                                          male   17.0\n",
              "405 Frauenthal, Mr. Isaac Gerald                                    male   43.0\n",
              "406 Nourney, Mr. Alfred (Baron von Drachstedt\")\"                    male   20.0\n",
              "407 Ware, Mr. William Jeffery                                       male   23.0\n",
              "408 Widener, Mr. George Dunton                                      male   50.0\n",
              "409 Riordan, Miss. Johanna Hannah\"\"                                 female   NA\n",
              "410 Peacock, Miss. Treasteall                                       female  3.0\n",
              "411 Naughton, Miss. Hannah                                          female   NA\n",
              "412 Minahan, Mrs. William Edward (Lillian E Thorpe)                 female 37.0\n",
              "413 Henriksson, Miss. Jenny Lovisa                                  female 28.0\n",
              "414 Spector, Mr. Woolf                                              male     NA\n",
              "415 Oliva y Ocana, Dona. Fermina                                    female 39.0\n",
              "416 Saether, Mr. Simon Sivertsen                                    male   38.5\n",
              "417 Ware, Mr. Frederick                                             male     NA\n",
              "418 Peter, Master. Michael J                                        male     NA\n",
              "    SibSp Parch Ticket             Fare     Cabin           Embarked\n",
              "1   0     0     330911               7.8292                 Q       \n",
              "2   1     0     363272               7.0000                 S       \n",
              "3   0     0     240276               9.6875                 Q       \n",
              "4   0     0     315154               8.6625                 S       \n",
              "5   1     1     3101298             12.2875                 S       \n",
              "6   0     0     7538                 9.2250                 S       \n",
              "7   0     0     330972               7.6292                 Q       \n",
              "8   1     1     248738              29.0000                 S       \n",
              "9   0     0     2657                 7.2292                 C       \n",
              "10  2     0     A/4 48871           24.1500                 S       \n",
              "11  0     0     349220               7.8958                 S       \n",
              "12  0     0     694                 26.0000                 S       \n",
              "13  1     0     21228               82.2667 B45             S       \n",
              "14  1     0     24065               26.0000                 S       \n",
              "15  1     0     W.E.P. 5734         61.1750 E31             S       \n",
              "16  1     0     SC/PARIS 2167       27.7208                 C       \n",
              "17  0     0     233734              12.3500                 Q       \n",
              "18  0     0     2692                 7.2250                 C       \n",
              "19  1     0     STON/O2. 3101270     7.9250                 S       \n",
              "20  0     0     2696                 7.2250                 C       \n",
              "21  1     0     PC 17603            59.4000                 C       \n",
              "22  0     1     C 17368              3.1708                 S       \n",
              "23  0     0     PC 17598            31.6833                 S       \n",
              "24  0     1     PC 17597            61.3792                 C       \n",
              "25  1     3     PC 17608           262.3750 B57 B59 B63 B66 C       \n",
              "26  1     0     A/5. 3337           14.5000                 S       \n",
              "27  0     1     113509              61.9792 B36             C       \n",
              "28  0     0     2698                 7.2250                 C       \n",
              "29  0     0     113054              30.5000 A21             S       \n",
              "30  2     0     2662                21.6792                 C       \n",
              "⋮   ⋮     ⋮     ⋮                  ⋮        ⋮               ⋮       \n",
              "389 0     0     364858               7.7500                 Q       \n",
              "390 3     1     349909              21.0750                 S       \n",
              "391 0     0     12749               93.5000 B24             S       \n",
              "392 0     1     PC 17592            39.4000 D28             S       \n",
              "393 0     2     C.A. 2673           20.2500                 S       \n",
              "394 0     0     C.A. 30769          10.5000                 S       \n",
              "395 3     1     315153              22.0250                 S       \n",
              "396 1     0     13695               60.0000 C31             S       \n",
              "397 0     0     371109               7.2500                 Q       \n",
              "398 1     1     13567               79.2000 B41             C       \n",
              "399 0     0     347065               7.7750                 S       \n",
              "400 0     0     21332                7.7333                 Q       \n",
              "401 0     0     36928              164.8667 C7              S       \n",
              "402 1     0     28664               21.0000                 S       \n",
              "403 0     1     112378              59.4000                 C       \n",
              "404 0     0     113059              47.1000                 S       \n",
              "405 1     0     17765               27.7208 D40             C       \n",
              "406 0     0     SC/PARIS 2166       13.8625 D38             C       \n",
              "407 1     0     28666               10.5000                 S       \n",
              "408 1     1     113503             211.5000 C80             C       \n",
              "409 0     0     334915               7.7208                 Q       \n",
              "410 1     1     SOTON/O.Q. 3101315  13.7750                 S       \n",
              "411 0     0     365237               7.7500                 Q       \n",
              "412 1     0     19928               90.0000 C78             Q       \n",
              "413 0     0     347086               7.7750                 S       \n",
              "414 0     0     A.5. 3236            8.0500                 S       \n",
              "415 0     0     PC 17758           108.9000 C105            C       \n",
              "416 0     0     SOTON/O.Q. 3101262   7.2500                 S       \n",
              "417 0     0     359309               8.0500                 S       \n",
              "418 1     1     2668                22.3583                 C       "
            ],
            "text/latex": "A data.frame: 418 × 11\n\\begin{tabular}{lllllllllll}\n PassengerId & Pclass & Name & Sex & Age & SibSp & Parch & Ticket & Fare & Cabin & Embarked\\\\\n <int> & <int> & <chr> & <chr> & <dbl> & <int> & <int> & <chr> & <dbl> & <chr> & <chr>\\\\\n\\hline\n\t 892 & 3 & Kelly, Mr. James                                        & male   & 34.5 & 0 & 0 & 330911           &   7.8292 &                 & Q\\\\\n\t 893 & 3 & Wilkes, Mrs. James (Ellen Needs)                        & female & 47.0 & 1 & 0 & 363272           &   7.0000 &                 & S\\\\\n\t 894 & 2 & Myles, Mr. Thomas Francis                               & male   & 62.0 & 0 & 0 & 240276           &   9.6875 &                 & Q\\\\\n\t 895 & 3 & Wirz, Mr. Albert                                        & male   & 27.0 & 0 & 0 & 315154           &   8.6625 &                 & S\\\\\n\t 896 & 3 & Hirvonen, Mrs. Alexander (Helga E Lindqvist)            & female & 22.0 & 1 & 1 & 3101298          &  12.2875 &                 & S\\\\\n\t 897 & 3 & Svensson, Mr. Johan Cervin                              & male   & 14.0 & 0 & 0 & 7538             &   9.2250 &                 & S\\\\\n\t 898 & 3 & Connolly, Miss. Kate                                    & female & 30.0 & 0 & 0 & 330972           &   7.6292 &                 & Q\\\\\n\t 899 & 2 & Caldwell, Mr. Albert Francis                            & male   & 26.0 & 1 & 1 & 248738           &  29.0000 &                 & S\\\\\n\t 900 & 3 & Abrahim, Mrs. Joseph (Sophie Halaut Easu)               & female & 18.0 & 0 & 0 & 2657             &   7.2292 &                 & C\\\\\n\t 901 & 3 & Davies, Mr. John Samuel                                 & male   & 21.0 & 2 & 0 & A/4 48871        &  24.1500 &                 & S\\\\\n\t 902 & 3 & Ilieff, Mr. Ylio                                        & male   &   NA & 0 & 0 & 349220           &   7.8958 &                 & S\\\\\n\t 903 & 1 & Jones, Mr. Charles Cresson                              & male   & 46.0 & 0 & 0 & 694              &  26.0000 &                 & S\\\\\n\t 904 & 1 & Snyder, Mrs. John Pillsbury (Nelle Stevenson)           & female & 23.0 & 1 & 0 & 21228            &  82.2667 & B45             & S\\\\\n\t 905 & 2 & Howard, Mr. Benjamin                                    & male   & 63.0 & 1 & 0 & 24065            &  26.0000 &                 & S\\\\\n\t 906 & 1 & Chaffee, Mrs. Herbert Fuller (Carrie Constance Toogood) & female & 47.0 & 1 & 0 & W.E.P. 5734      &  61.1750 & E31             & S\\\\\n\t 907 & 2 & del Carlo, Mrs. Sebastiano (Argenia Genovesi)           & female & 24.0 & 1 & 0 & SC/PARIS 2167    &  27.7208 &                 & C\\\\\n\t 908 & 2 & Keane, Mr. Daniel                                       & male   & 35.0 & 0 & 0 & 233734           &  12.3500 &                 & Q\\\\\n\t 909 & 3 & Assaf, Mr. Gerios                                       & male   & 21.0 & 0 & 0 & 2692             &   7.2250 &                 & C\\\\\n\t 910 & 3 & Ilmakangas, Miss. Ida Livija                            & female & 27.0 & 1 & 0 & STON/O2. 3101270 &   7.9250 &                 & S\\\\\n\t 911 & 3 & Assaf Khalil, Mrs. Mariana (Miriam\")\"                   & female & 45.0 & 0 & 0 & 2696             &   7.2250 &                 & C\\\\\n\t 912 & 1 & Rothschild, Mr. Martin                                  & male   & 55.0 & 1 & 0 & PC 17603         &  59.4000 &                 & C\\\\\n\t 913 & 3 & Olsen, Master. Artur Karl                               & male   &  9.0 & 0 & 1 & C 17368          &   3.1708 &                 & S\\\\\n\t 914 & 1 & Flegenheim, Mrs. Alfred (Antoinette)                    & female &   NA & 0 & 0 & PC 17598         &  31.6833 &                 & S\\\\\n\t 915 & 1 & Williams, Mr. Richard Norris II                         & male   & 21.0 & 0 & 1 & PC 17597         &  61.3792 &                 & C\\\\\n\t 916 & 1 & Ryerson, Mrs. Arthur Larned (Emily Maria Borie)         & female & 48.0 & 1 & 3 & PC 17608         & 262.3750 & B57 B59 B63 B66 & C\\\\\n\t 917 & 3 & Robins, Mr. Alexander A                                 & male   & 50.0 & 1 & 0 & A/5. 3337        &  14.5000 &                 & S\\\\\n\t 918 & 1 & Ostby, Miss. Helene Ragnhild                            & female & 22.0 & 0 & 1 & 113509           &  61.9792 & B36             & C\\\\\n\t 919 & 3 & Daher, Mr. Shedid                                       & male   & 22.5 & 0 & 0 & 2698             &   7.2250 &                 & C\\\\\n\t 920 & 1 & Brady, Mr. John Bertram                                 & male   & 41.0 & 0 & 0 & 113054           &  30.5000 & A21             & S\\\\\n\t 921 & 3 & Samaan, Mr. Elias                                       & male   &   NA & 2 & 0 & 2662             &  21.6792 &                 & C\\\\\n\t ⋮ & ⋮ & ⋮ & ⋮ & ⋮ & ⋮ & ⋮ & ⋮ & ⋮ & ⋮ & ⋮\\\\\n\t 1280 & 3 & Canavan, Mr. Patrick                                            & male   & 21.0 & 0 & 0 & 364858             &   7.7500 &      & Q\\\\\n\t 1281 & 3 & Palsson, Master. Paul Folke                                     & male   &  6.0 & 3 & 1 & 349909             &  21.0750 &      & S\\\\\n\t 1282 & 1 & Payne, Mr. Vivian Ponsonby                                      & male   & 23.0 & 0 & 0 & 12749              &  93.5000 & B24  & S\\\\\n\t 1283 & 1 & Lines, Mrs. Ernest H (Elizabeth Lindsey James)                  & female & 51.0 & 0 & 1 & PC 17592           &  39.4000 & D28  & S\\\\\n\t 1284 & 3 & Abbott, Master. Eugene Joseph                                   & male   & 13.0 & 0 & 2 & C.A. 2673          &  20.2500 &      & S\\\\\n\t 1285 & 2 & Gilbert, Mr. William                                            & male   & 47.0 & 0 & 0 & C.A. 30769         &  10.5000 &      & S\\\\\n\t 1286 & 3 & Kink-Heilmann, Mr. Anton                                        & male   & 29.0 & 3 & 1 & 315153             &  22.0250 &      & S\\\\\n\t 1287 & 1 & Smith, Mrs. Lucien Philip (Mary Eloise Hughes)                  & female & 18.0 & 1 & 0 & 13695              &  60.0000 & C31  & S\\\\\n\t 1288 & 3 & Colbert, Mr. Patrick                                            & male   & 24.0 & 0 & 0 & 371109             &   7.2500 &      & Q\\\\\n\t 1289 & 1 & Frolicher-Stehli, Mrs. Maxmillian (Margaretha Emerentia Stehli) & female & 48.0 & 1 & 1 & 13567              &  79.2000 & B41  & C\\\\\n\t 1290 & 3 & Larsson-Rondberg, Mr. Edvard A                                  & male   & 22.0 & 0 & 0 & 347065             &   7.7750 &      & S\\\\\n\t 1291 & 3 & Conlon, Mr. Thomas Henry                                        & male   & 31.0 & 0 & 0 & 21332              &   7.7333 &      & Q\\\\\n\t 1292 & 1 & Bonnell, Miss. Caroline                                         & female & 30.0 & 0 & 0 & 36928              & 164.8667 & C7   & S\\\\\n\t 1293 & 2 & Gale, Mr. Harry                                                 & male   & 38.0 & 1 & 0 & 28664              &  21.0000 &      & S\\\\\n\t 1294 & 1 & Gibson, Miss. Dorothy Winifred                                  & female & 22.0 & 0 & 1 & 112378             &  59.4000 &      & C\\\\\n\t 1295 & 1 & Carrau, Mr. Jose Pedro                                          & male   & 17.0 & 0 & 0 & 113059             &  47.1000 &      & S\\\\\n\t 1296 & 1 & Frauenthal, Mr. Isaac Gerald                                    & male   & 43.0 & 1 & 0 & 17765              &  27.7208 & D40  & C\\\\\n\t 1297 & 2 & Nourney, Mr. Alfred (Baron von Drachstedt\")\"                    & male   & 20.0 & 0 & 0 & SC/PARIS 2166      &  13.8625 & D38  & C\\\\\n\t 1298 & 2 & Ware, Mr. William Jeffery                                       & male   & 23.0 & 1 & 0 & 28666              &  10.5000 &      & S\\\\\n\t 1299 & 1 & Widener, Mr. George Dunton                                      & male   & 50.0 & 1 & 1 & 113503             & 211.5000 & C80  & C\\\\\n\t 1300 & 3 & Riordan, Miss. Johanna Hannah\"\"                                 & female &   NA & 0 & 0 & 334915             &   7.7208 &      & Q\\\\\n\t 1301 & 3 & Peacock, Miss. Treasteall                                       & female &  3.0 & 1 & 1 & SOTON/O.Q. 3101315 &  13.7750 &      & S\\\\\n\t 1302 & 3 & Naughton, Miss. Hannah                                          & female &   NA & 0 & 0 & 365237             &   7.7500 &      & Q\\\\\n\t 1303 & 1 & Minahan, Mrs. William Edward (Lillian E Thorpe)                 & female & 37.0 & 1 & 0 & 19928              &  90.0000 & C78  & Q\\\\\n\t 1304 & 3 & Henriksson, Miss. Jenny Lovisa                                  & female & 28.0 & 0 & 0 & 347086             &   7.7750 &      & S\\\\\n\t 1305 & 3 & Spector, Mr. Woolf                                              & male   &   NA & 0 & 0 & A.5. 3236          &   8.0500 &      & S\\\\\n\t 1306 & 1 & Oliva y Ocana, Dona. Fermina                                    & female & 39.0 & 0 & 0 & PC 17758           & 108.9000 & C105 & C\\\\\n\t 1307 & 3 & Saether, Mr. Simon Sivertsen                                    & male   & 38.5 & 0 & 0 & SOTON/O.Q. 3101262 &   7.2500 &      & S\\\\\n\t 1308 & 3 & Ware, Mr. Frederick                                             & male   &   NA & 0 & 0 & 359309             &   8.0500 &      & S\\\\\n\t 1309 & 3 & Peter, Master. Michael J                                        & male   &   NA & 1 & 1 & 2668               &  22.3583 &      & C\\\\\n\\end{tabular}\n",
            "text/markdown": "\nA data.frame: 418 × 11\n\n| PassengerId &lt;int&gt; | Pclass &lt;int&gt; | Name &lt;chr&gt; | Sex &lt;chr&gt; | Age &lt;dbl&gt; | SibSp &lt;int&gt; | Parch &lt;int&gt; | Ticket &lt;chr&gt; | Fare &lt;dbl&gt; | Cabin &lt;chr&gt; | Embarked &lt;chr&gt; |\n|---|---|---|---|---|---|---|---|---|---|---|\n| 892 | 3 | Kelly, Mr. James                                        | male   | 34.5 | 0 | 0 | 330911           |   7.8292 | <!----> | Q |\n| 893 | 3 | Wilkes, Mrs. James (Ellen Needs)                        | female | 47.0 | 1 | 0 | 363272           |   7.0000 | <!----> | S |\n| 894 | 2 | Myles, Mr. Thomas Francis                               | male   | 62.0 | 0 | 0 | 240276           |   9.6875 | <!----> | Q |\n| 895 | 3 | Wirz, Mr. Albert                                        | male   | 27.0 | 0 | 0 | 315154           |   8.6625 | <!----> | S |\n| 896 | 3 | Hirvonen, Mrs. Alexander (Helga E Lindqvist)            | female | 22.0 | 1 | 1 | 3101298          |  12.2875 | <!----> | S |\n| 897 | 3 | Svensson, Mr. Johan Cervin                              | male   | 14.0 | 0 | 0 | 7538             |   9.2250 | <!----> | S |\n| 898 | 3 | Connolly, Miss. Kate                                    | female | 30.0 | 0 | 0 | 330972           |   7.6292 | <!----> | Q |\n| 899 | 2 | Caldwell, Mr. Albert Francis                            | male   | 26.0 | 1 | 1 | 248738           |  29.0000 | <!----> | S |\n| 900 | 3 | Abrahim, Mrs. Joseph (Sophie Halaut Easu)               | female | 18.0 | 0 | 0 | 2657             |   7.2292 | <!----> | C |\n| 901 | 3 | Davies, Mr. John Samuel                                 | male   | 21.0 | 2 | 0 | A/4 48871        |  24.1500 | <!----> | S |\n| 902 | 3 | Ilieff, Mr. Ylio                                        | male   |   NA | 0 | 0 | 349220           |   7.8958 | <!----> | S |\n| 903 | 1 | Jones, Mr. Charles Cresson                              | male   | 46.0 | 0 | 0 | 694              |  26.0000 | <!----> | S |\n| 904 | 1 | Snyder, Mrs. John Pillsbury (Nelle Stevenson)           | female | 23.0 | 1 | 0 | 21228            |  82.2667 | B45             | S |\n| 905 | 2 | Howard, Mr. Benjamin                                    | male   | 63.0 | 1 | 0 | 24065            |  26.0000 | <!----> | S |\n| 906 | 1 | Chaffee, Mrs. Herbert Fuller (Carrie Constance Toogood) | female | 47.0 | 1 | 0 | W.E.P. 5734      |  61.1750 | E31             | S |\n| 907 | 2 | del Carlo, Mrs. Sebastiano (Argenia Genovesi)           | female | 24.0 | 1 | 0 | SC/PARIS 2167    |  27.7208 | <!----> | C |\n| 908 | 2 | Keane, Mr. Daniel                                       | male   | 35.0 | 0 | 0 | 233734           |  12.3500 | <!----> | Q |\n| 909 | 3 | Assaf, Mr. Gerios                                       | male   | 21.0 | 0 | 0 | 2692             |   7.2250 | <!----> | C |\n| 910 | 3 | Ilmakangas, Miss. Ida Livija                            | female | 27.0 | 1 | 0 | STON/O2. 3101270 |   7.9250 | <!----> | S |\n| 911 | 3 | Assaf Khalil, Mrs. Mariana (Miriam\")\"                   | female | 45.0 | 0 | 0 | 2696             |   7.2250 | <!----> | C |\n| 912 | 1 | Rothschild, Mr. Martin                                  | male   | 55.0 | 1 | 0 | PC 17603         |  59.4000 | <!----> | C |\n| 913 | 3 | Olsen, Master. Artur Karl                               | male   |  9.0 | 0 | 1 | C 17368          |   3.1708 | <!----> | S |\n| 914 | 1 | Flegenheim, Mrs. Alfred (Antoinette)                    | female |   NA | 0 | 0 | PC 17598         |  31.6833 | <!----> | S |\n| 915 | 1 | Williams, Mr. Richard Norris II                         | male   | 21.0 | 0 | 1 | PC 17597         |  61.3792 | <!----> | C |\n| 916 | 1 | Ryerson, Mrs. Arthur Larned (Emily Maria Borie)         | female | 48.0 | 1 | 3 | PC 17608         | 262.3750 | B57 B59 B63 B66 | C |\n| 917 | 3 | Robins, Mr. Alexander A                                 | male   | 50.0 | 1 | 0 | A/5. 3337        |  14.5000 | <!----> | S |\n| 918 | 1 | Ostby, Miss. Helene Ragnhild                            | female | 22.0 | 0 | 1 | 113509           |  61.9792 | B36             | C |\n| 919 | 3 | Daher, Mr. Shedid                                       | male   | 22.5 | 0 | 0 | 2698             |   7.2250 | <!----> | C |\n| 920 | 1 | Brady, Mr. John Bertram                                 | male   | 41.0 | 0 | 0 | 113054           |  30.5000 | A21             | S |\n| 921 | 3 | Samaan, Mr. Elias                                       | male   |   NA | 2 | 0 | 2662             |  21.6792 | <!----> | C |\n| ⋮ | ⋮ | ⋮ | ⋮ | ⋮ | ⋮ | ⋮ | ⋮ | ⋮ | ⋮ | ⋮ |\n| 1280 | 3 | Canavan, Mr. Patrick                                            | male   | 21.0 | 0 | 0 | 364858             |   7.7500 | <!----> | Q |\n| 1281 | 3 | Palsson, Master. Paul Folke                                     | male   |  6.0 | 3 | 1 | 349909             |  21.0750 | <!----> | S |\n| 1282 | 1 | Payne, Mr. Vivian Ponsonby                                      | male   | 23.0 | 0 | 0 | 12749              |  93.5000 | B24  | S |\n| 1283 | 1 | Lines, Mrs. Ernest H (Elizabeth Lindsey James)                  | female | 51.0 | 0 | 1 | PC 17592           |  39.4000 | D28  | S |\n| 1284 | 3 | Abbott, Master. Eugene Joseph                                   | male   | 13.0 | 0 | 2 | C.A. 2673          |  20.2500 | <!----> | S |\n| 1285 | 2 | Gilbert, Mr. William                                            | male   | 47.0 | 0 | 0 | C.A. 30769         |  10.5000 | <!----> | S |\n| 1286 | 3 | Kink-Heilmann, Mr. Anton                                        | male   | 29.0 | 3 | 1 | 315153             |  22.0250 | <!----> | S |\n| 1287 | 1 | Smith, Mrs. Lucien Philip (Mary Eloise Hughes)                  | female | 18.0 | 1 | 0 | 13695              |  60.0000 | C31  | S |\n| 1288 | 3 | Colbert, Mr. Patrick                                            | male   | 24.0 | 0 | 0 | 371109             |   7.2500 | <!----> | Q |\n| 1289 | 1 | Frolicher-Stehli, Mrs. Maxmillian (Margaretha Emerentia Stehli) | female | 48.0 | 1 | 1 | 13567              |  79.2000 | B41  | C |\n| 1290 | 3 | Larsson-Rondberg, Mr. Edvard A                                  | male   | 22.0 | 0 | 0 | 347065             |   7.7750 | <!----> | S |\n| 1291 | 3 | Conlon, Mr. Thomas Henry                                        | male   | 31.0 | 0 | 0 | 21332              |   7.7333 | <!----> | Q |\n| 1292 | 1 | Bonnell, Miss. Caroline                                         | female | 30.0 | 0 | 0 | 36928              | 164.8667 | C7   | S |\n| 1293 | 2 | Gale, Mr. Harry                                                 | male   | 38.0 | 1 | 0 | 28664              |  21.0000 | <!----> | S |\n| 1294 | 1 | Gibson, Miss. Dorothy Winifred                                  | female | 22.0 | 0 | 1 | 112378             |  59.4000 | <!----> | C |\n| 1295 | 1 | Carrau, Mr. Jose Pedro                                          | male   | 17.0 | 0 | 0 | 113059             |  47.1000 | <!----> | S |\n| 1296 | 1 | Frauenthal, Mr. Isaac Gerald                                    | male   | 43.0 | 1 | 0 | 17765              |  27.7208 | D40  | C |\n| 1297 | 2 | Nourney, Mr. Alfred (Baron von Drachstedt\")\"                    | male   | 20.0 | 0 | 0 | SC/PARIS 2166      |  13.8625 | D38  | C |\n| 1298 | 2 | Ware, Mr. William Jeffery                                       | male   | 23.0 | 1 | 0 | 28666              |  10.5000 | <!----> | S |\n| 1299 | 1 | Widener, Mr. George Dunton                                      | male   | 50.0 | 1 | 1 | 113503             | 211.5000 | C80  | C |\n| 1300 | 3 | Riordan, Miss. Johanna Hannah\"\"                                 | female |   NA | 0 | 0 | 334915             |   7.7208 | <!----> | Q |\n| 1301 | 3 | Peacock, Miss. Treasteall                                       | female |  3.0 | 1 | 1 | SOTON/O.Q. 3101315 |  13.7750 | <!----> | S |\n| 1302 | 3 | Naughton, Miss. Hannah                                          | female |   NA | 0 | 0 | 365237             |   7.7500 | <!----> | Q |\n| 1303 | 1 | Minahan, Mrs. William Edward (Lillian E Thorpe)                 | female | 37.0 | 1 | 0 | 19928              |  90.0000 | C78  | Q |\n| 1304 | 3 | Henriksson, Miss. Jenny Lovisa                                  | female | 28.0 | 0 | 0 | 347086             |   7.7750 | <!----> | S |\n| 1305 | 3 | Spector, Mr. Woolf                                              | male   |   NA | 0 | 0 | A.5. 3236          |   8.0500 | <!----> | S |\n| 1306 | 1 | Oliva y Ocana, Dona. Fermina                                    | female | 39.0 | 0 | 0 | PC 17758           | 108.9000 | C105 | C |\n| 1307 | 3 | Saether, Mr. Simon Sivertsen                                    | male   | 38.5 | 0 | 0 | SOTON/O.Q. 3101262 |   7.2500 | <!----> | S |\n| 1308 | 3 | Ware, Mr. Frederick                                             | male   |   NA | 0 | 0 | 359309             |   8.0500 | <!----> | S |\n| 1309 | 3 | Peter, Master. Michael J                                        | male   |   NA | 1 | 1 | 2668               |  22.3583 | <!----> | C |\n\n",
            "text/html": [
              "<table>\n",
              "<caption>A data.frame: 418 × 11</caption>\n",
              "<thead>\n",
              "\t<tr><th scope=col>PassengerId</th><th scope=col>Pclass</th><th scope=col>Name</th><th scope=col>Sex</th><th scope=col>Age</th><th scope=col>SibSp</th><th scope=col>Parch</th><th scope=col>Ticket</th><th scope=col>Fare</th><th scope=col>Cabin</th><th scope=col>Embarked</th></tr>\n",
              "\t<tr><th scope=col>&lt;int&gt;</th><th scope=col>&lt;int&gt;</th><th scope=col>&lt;chr&gt;</th><th scope=col>&lt;chr&gt;</th><th scope=col>&lt;dbl&gt;</th><th scope=col>&lt;int&gt;</th><th scope=col>&lt;int&gt;</th><th scope=col>&lt;chr&gt;</th><th scope=col>&lt;dbl&gt;</th><th scope=col>&lt;chr&gt;</th><th scope=col>&lt;chr&gt;</th></tr>\n",
              "</thead>\n",
              "<tbody>\n",
              "\t<tr><td>892</td><td>3</td><td>Kelly, Mr. James                                       </td><td>male  </td><td>34.5</td><td>0</td><td>0</td><td>330911          </td><td>  7.8292</td><td>               </td><td>Q</td></tr>\n",
              "\t<tr><td>893</td><td>3</td><td>Wilkes, Mrs. James (Ellen Needs)                       </td><td>female</td><td>47.0</td><td>1</td><td>0</td><td>363272          </td><td>  7.0000</td><td>               </td><td>S</td></tr>\n",
              "\t<tr><td>894</td><td>2</td><td>Myles, Mr. Thomas Francis                              </td><td>male  </td><td>62.0</td><td>0</td><td>0</td><td>240276          </td><td>  9.6875</td><td>               </td><td>Q</td></tr>\n",
              "\t<tr><td>895</td><td>3</td><td>Wirz, Mr. Albert                                       </td><td>male  </td><td>27.0</td><td>0</td><td>0</td><td>315154          </td><td>  8.6625</td><td>               </td><td>S</td></tr>\n",
              "\t<tr><td>896</td><td>3</td><td>Hirvonen, Mrs. Alexander (Helga E Lindqvist)           </td><td>female</td><td>22.0</td><td>1</td><td>1</td><td>3101298         </td><td> 12.2875</td><td>               </td><td>S</td></tr>\n",
              "\t<tr><td>897</td><td>3</td><td>Svensson, Mr. Johan Cervin                             </td><td>male  </td><td>14.0</td><td>0</td><td>0</td><td>7538            </td><td>  9.2250</td><td>               </td><td>S</td></tr>\n",
              "\t<tr><td>898</td><td>3</td><td>Connolly, Miss. Kate                                   </td><td>female</td><td>30.0</td><td>0</td><td>0</td><td>330972          </td><td>  7.6292</td><td>               </td><td>Q</td></tr>\n",
              "\t<tr><td>899</td><td>2</td><td>Caldwell, Mr. Albert Francis                           </td><td>male  </td><td>26.0</td><td>1</td><td>1</td><td>248738          </td><td> 29.0000</td><td>               </td><td>S</td></tr>\n",
              "\t<tr><td>900</td><td>3</td><td>Abrahim, Mrs. Joseph (Sophie Halaut Easu)              </td><td>female</td><td>18.0</td><td>0</td><td>0</td><td>2657            </td><td>  7.2292</td><td>               </td><td>C</td></tr>\n",
              "\t<tr><td>901</td><td>3</td><td>Davies, Mr. John Samuel                                </td><td>male  </td><td>21.0</td><td>2</td><td>0</td><td>A/4 48871       </td><td> 24.1500</td><td>               </td><td>S</td></tr>\n",
              "\t<tr><td>902</td><td>3</td><td>Ilieff, Mr. Ylio                                       </td><td>male  </td><td>  NA</td><td>0</td><td>0</td><td>349220          </td><td>  7.8958</td><td>               </td><td>S</td></tr>\n",
              "\t<tr><td>903</td><td>1</td><td>Jones, Mr. Charles Cresson                             </td><td>male  </td><td>46.0</td><td>0</td><td>0</td><td>694             </td><td> 26.0000</td><td>               </td><td>S</td></tr>\n",
              "\t<tr><td>904</td><td>1</td><td>Snyder, Mrs. John Pillsbury (Nelle Stevenson)          </td><td>female</td><td>23.0</td><td>1</td><td>0</td><td>21228           </td><td> 82.2667</td><td>B45            </td><td>S</td></tr>\n",
              "\t<tr><td>905</td><td>2</td><td>Howard, Mr. Benjamin                                   </td><td>male  </td><td>63.0</td><td>1</td><td>0</td><td>24065           </td><td> 26.0000</td><td>               </td><td>S</td></tr>\n",
              "\t<tr><td>906</td><td>1</td><td>Chaffee, Mrs. Herbert Fuller (Carrie Constance Toogood)</td><td>female</td><td>47.0</td><td>1</td><td>0</td><td>W.E.P. 5734     </td><td> 61.1750</td><td>E31            </td><td>S</td></tr>\n",
              "\t<tr><td>907</td><td>2</td><td>del Carlo, Mrs. Sebastiano (Argenia Genovesi)          </td><td>female</td><td>24.0</td><td>1</td><td>0</td><td>SC/PARIS 2167   </td><td> 27.7208</td><td>               </td><td>C</td></tr>\n",
              "\t<tr><td>908</td><td>2</td><td>Keane, Mr. Daniel                                      </td><td>male  </td><td>35.0</td><td>0</td><td>0</td><td>233734          </td><td> 12.3500</td><td>               </td><td>Q</td></tr>\n",
              "\t<tr><td>909</td><td>3</td><td>Assaf, Mr. Gerios                                      </td><td>male  </td><td>21.0</td><td>0</td><td>0</td><td>2692            </td><td>  7.2250</td><td>               </td><td>C</td></tr>\n",
              "\t<tr><td>910</td><td>3</td><td>Ilmakangas, Miss. Ida Livija                           </td><td>female</td><td>27.0</td><td>1</td><td>0</td><td>STON/O2. 3101270</td><td>  7.9250</td><td>               </td><td>S</td></tr>\n",
              "\t<tr><td>911</td><td>3</td><td>Assaf Khalil, Mrs. Mariana (Miriam\")\"                  </td><td>female</td><td>45.0</td><td>0</td><td>0</td><td>2696            </td><td>  7.2250</td><td>               </td><td>C</td></tr>\n",
              "\t<tr><td>912</td><td>1</td><td>Rothschild, Mr. Martin                                 </td><td>male  </td><td>55.0</td><td>1</td><td>0</td><td>PC 17603        </td><td> 59.4000</td><td>               </td><td>C</td></tr>\n",
              "\t<tr><td>913</td><td>3</td><td>Olsen, Master. Artur Karl                              </td><td>male  </td><td> 9.0</td><td>0</td><td>1</td><td>C 17368         </td><td>  3.1708</td><td>               </td><td>S</td></tr>\n",
              "\t<tr><td>914</td><td>1</td><td>Flegenheim, Mrs. Alfred (Antoinette)                   </td><td>female</td><td>  NA</td><td>0</td><td>0</td><td>PC 17598        </td><td> 31.6833</td><td>               </td><td>S</td></tr>\n",
              "\t<tr><td>915</td><td>1</td><td>Williams, Mr. Richard Norris II                        </td><td>male  </td><td>21.0</td><td>0</td><td>1</td><td>PC 17597        </td><td> 61.3792</td><td>               </td><td>C</td></tr>\n",
              "\t<tr><td>916</td><td>1</td><td>Ryerson, Mrs. Arthur Larned (Emily Maria Borie)        </td><td>female</td><td>48.0</td><td>1</td><td>3</td><td>PC 17608        </td><td>262.3750</td><td>B57 B59 B63 B66</td><td>C</td></tr>\n",
              "\t<tr><td>917</td><td>3</td><td>Robins, Mr. Alexander A                                </td><td>male  </td><td>50.0</td><td>1</td><td>0</td><td>A/5. 3337       </td><td> 14.5000</td><td>               </td><td>S</td></tr>\n",
              "\t<tr><td>918</td><td>1</td><td>Ostby, Miss. Helene Ragnhild                           </td><td>female</td><td>22.0</td><td>0</td><td>1</td><td>113509          </td><td> 61.9792</td><td>B36            </td><td>C</td></tr>\n",
              "\t<tr><td>919</td><td>3</td><td>Daher, Mr. Shedid                                      </td><td>male  </td><td>22.5</td><td>0</td><td>0</td><td>2698            </td><td>  7.2250</td><td>               </td><td>C</td></tr>\n",
              "\t<tr><td>920</td><td>1</td><td>Brady, Mr. John Bertram                                </td><td>male  </td><td>41.0</td><td>0</td><td>0</td><td>113054          </td><td> 30.5000</td><td>A21            </td><td>S</td></tr>\n",
              "\t<tr><td>921</td><td>3</td><td>Samaan, Mr. Elias                                      </td><td>male  </td><td>  NA</td><td>2</td><td>0</td><td>2662            </td><td> 21.6792</td><td>               </td><td>C</td></tr>\n",
              "\t<tr><td>⋮</td><td>⋮</td><td>⋮</td><td>⋮</td><td>⋮</td><td>⋮</td><td>⋮</td><td>⋮</td><td>⋮</td><td>⋮</td><td>⋮</td></tr>\n",
              "\t<tr><td>1280</td><td>3</td><td>Canavan, Mr. Patrick                                           </td><td>male  </td><td>21.0</td><td>0</td><td>0</td><td>364858            </td><td>  7.7500</td><td>    </td><td>Q</td></tr>\n",
              "\t<tr><td>1281</td><td>3</td><td>Palsson, Master. Paul Folke                                    </td><td>male  </td><td> 6.0</td><td>3</td><td>1</td><td>349909            </td><td> 21.0750</td><td>    </td><td>S</td></tr>\n",
              "\t<tr><td>1282</td><td>1</td><td>Payne, Mr. Vivian Ponsonby                                     </td><td>male  </td><td>23.0</td><td>0</td><td>0</td><td>12749             </td><td> 93.5000</td><td>B24 </td><td>S</td></tr>\n",
              "\t<tr><td>1283</td><td>1</td><td>Lines, Mrs. Ernest H (Elizabeth Lindsey James)                 </td><td>female</td><td>51.0</td><td>0</td><td>1</td><td>PC 17592          </td><td> 39.4000</td><td>D28 </td><td>S</td></tr>\n",
              "\t<tr><td>1284</td><td>3</td><td>Abbott, Master. Eugene Joseph                                  </td><td>male  </td><td>13.0</td><td>0</td><td>2</td><td>C.A. 2673         </td><td> 20.2500</td><td>    </td><td>S</td></tr>\n",
              "\t<tr><td>1285</td><td>2</td><td>Gilbert, Mr. William                                           </td><td>male  </td><td>47.0</td><td>0</td><td>0</td><td>C.A. 30769        </td><td> 10.5000</td><td>    </td><td>S</td></tr>\n",
              "\t<tr><td>1286</td><td>3</td><td>Kink-Heilmann, Mr. Anton                                       </td><td>male  </td><td>29.0</td><td>3</td><td>1</td><td>315153            </td><td> 22.0250</td><td>    </td><td>S</td></tr>\n",
              "\t<tr><td>1287</td><td>1</td><td>Smith, Mrs. Lucien Philip (Mary Eloise Hughes)                 </td><td>female</td><td>18.0</td><td>1</td><td>0</td><td>13695             </td><td> 60.0000</td><td>C31 </td><td>S</td></tr>\n",
              "\t<tr><td>1288</td><td>3</td><td>Colbert, Mr. Patrick                                           </td><td>male  </td><td>24.0</td><td>0</td><td>0</td><td>371109            </td><td>  7.2500</td><td>    </td><td>Q</td></tr>\n",
              "\t<tr><td>1289</td><td>1</td><td>Frolicher-Stehli, Mrs. Maxmillian (Margaretha Emerentia Stehli)</td><td>female</td><td>48.0</td><td>1</td><td>1</td><td>13567             </td><td> 79.2000</td><td>B41 </td><td>C</td></tr>\n",
              "\t<tr><td>1290</td><td>3</td><td>Larsson-Rondberg, Mr. Edvard A                                 </td><td>male  </td><td>22.0</td><td>0</td><td>0</td><td>347065            </td><td>  7.7750</td><td>    </td><td>S</td></tr>\n",
              "\t<tr><td>1291</td><td>3</td><td>Conlon, Mr. Thomas Henry                                       </td><td>male  </td><td>31.0</td><td>0</td><td>0</td><td>21332             </td><td>  7.7333</td><td>    </td><td>Q</td></tr>\n",
              "\t<tr><td>1292</td><td>1</td><td>Bonnell, Miss. Caroline                                        </td><td>female</td><td>30.0</td><td>0</td><td>0</td><td>36928             </td><td>164.8667</td><td>C7  </td><td>S</td></tr>\n",
              "\t<tr><td>1293</td><td>2</td><td>Gale, Mr. Harry                                                </td><td>male  </td><td>38.0</td><td>1</td><td>0</td><td>28664             </td><td> 21.0000</td><td>    </td><td>S</td></tr>\n",
              "\t<tr><td>1294</td><td>1</td><td>Gibson, Miss. Dorothy Winifred                                 </td><td>female</td><td>22.0</td><td>0</td><td>1</td><td>112378            </td><td> 59.4000</td><td>    </td><td>C</td></tr>\n",
              "\t<tr><td>1295</td><td>1</td><td>Carrau, Mr. Jose Pedro                                         </td><td>male  </td><td>17.0</td><td>0</td><td>0</td><td>113059            </td><td> 47.1000</td><td>    </td><td>S</td></tr>\n",
              "\t<tr><td>1296</td><td>1</td><td>Frauenthal, Mr. Isaac Gerald                                   </td><td>male  </td><td>43.0</td><td>1</td><td>0</td><td>17765             </td><td> 27.7208</td><td>D40 </td><td>C</td></tr>\n",
              "\t<tr><td>1297</td><td>2</td><td>Nourney, Mr. Alfred (Baron von Drachstedt\")\"                   </td><td>male  </td><td>20.0</td><td>0</td><td>0</td><td>SC/PARIS 2166     </td><td> 13.8625</td><td>D38 </td><td>C</td></tr>\n",
              "\t<tr><td>1298</td><td>2</td><td>Ware, Mr. William Jeffery                                      </td><td>male  </td><td>23.0</td><td>1</td><td>0</td><td>28666             </td><td> 10.5000</td><td>    </td><td>S</td></tr>\n",
              "\t<tr><td>1299</td><td>1</td><td>Widener, Mr. George Dunton                                     </td><td>male  </td><td>50.0</td><td>1</td><td>1</td><td>113503            </td><td>211.5000</td><td>C80 </td><td>C</td></tr>\n",
              "\t<tr><td>1300</td><td>3</td><td>Riordan, Miss. Johanna Hannah\"\"                                </td><td>female</td><td>  NA</td><td>0</td><td>0</td><td>334915            </td><td>  7.7208</td><td>    </td><td>Q</td></tr>\n",
              "\t<tr><td>1301</td><td>3</td><td>Peacock, Miss. Treasteall                                      </td><td>female</td><td> 3.0</td><td>1</td><td>1</td><td>SOTON/O.Q. 3101315</td><td> 13.7750</td><td>    </td><td>S</td></tr>\n",
              "\t<tr><td>1302</td><td>3</td><td>Naughton, Miss. Hannah                                         </td><td>female</td><td>  NA</td><td>0</td><td>0</td><td>365237            </td><td>  7.7500</td><td>    </td><td>Q</td></tr>\n",
              "\t<tr><td>1303</td><td>1</td><td>Minahan, Mrs. William Edward (Lillian E Thorpe)                </td><td>female</td><td>37.0</td><td>1</td><td>0</td><td>19928             </td><td> 90.0000</td><td>C78 </td><td>Q</td></tr>\n",
              "\t<tr><td>1304</td><td>3</td><td>Henriksson, Miss. Jenny Lovisa                                 </td><td>female</td><td>28.0</td><td>0</td><td>0</td><td>347086            </td><td>  7.7750</td><td>    </td><td>S</td></tr>\n",
              "\t<tr><td>1305</td><td>3</td><td>Spector, Mr. Woolf                                             </td><td>male  </td><td>  NA</td><td>0</td><td>0</td><td>A.5. 3236         </td><td>  8.0500</td><td>    </td><td>S</td></tr>\n",
              "\t<tr><td>1306</td><td>1</td><td>Oliva y Ocana, Dona. Fermina                                   </td><td>female</td><td>39.0</td><td>0</td><td>0</td><td>PC 17758          </td><td>108.9000</td><td>C105</td><td>C</td></tr>\n",
              "\t<tr><td>1307</td><td>3</td><td>Saether, Mr. Simon Sivertsen                                   </td><td>male  </td><td>38.5</td><td>0</td><td>0</td><td>SOTON/O.Q. 3101262</td><td>  7.2500</td><td>    </td><td>S</td></tr>\n",
              "\t<tr><td>1308</td><td>3</td><td>Ware, Mr. Frederick                                            </td><td>male  </td><td>  NA</td><td>0</td><td>0</td><td>359309            </td><td>  8.0500</td><td>    </td><td>S</td></tr>\n",
              "\t<tr><td>1309</td><td>3</td><td>Peter, Master. Michael J                                       </td><td>male  </td><td>  NA</td><td>1</td><td>1</td><td>2668              </td><td> 22.3583</td><td>    </td><td>C</td></tr>\n",
              "</tbody>\n",
              "</table>\n"
            ]
          },
          "metadata": {
            "tags": []
          }
        }
      ]
    },
    {
      "cell_type": "markdown",
      "metadata": {
        "id": "HjOSsmrlKtgG"
      },
      "source": [
        "## 4. Entendendo os Dados\n",
        "O conjunto de dados apresenta 12 tipos de variáveis, sendo elas:\n",
        "\n",
        "Variavel|Definição|Chave\n",
        "---|---|---| \n",
        "PassengerId| Número de identificação do passageiro| \n",
        "Survived| Informa se o passageiro sobreviveu ao desastre| 0 = Não;  1 = Sim\n",
        "Pclass| Classe do bilhete| 1 = 1ª Classe;  2 = 2ª Classe;  3 = 3ª Classe\n",
        "Name| Nome do passageiro\n",
        "Sex| Sexo do passageiro\n",
        "Age| Idade do passageiro\n",
        "SibSp| Quantidade de cônjuges e irmãos a bordo\n",
        "Parch| Quantidade de pais e filhos a bordo\n",
        "Ticket| Número da passagem\n",
        "Fare| Preço da Passagem\n",
        "Cabin| Número da cabine do passageiro\n",
        "Embarked| Porto no qual o passageiro embarcou| C = Cherbourg; Q = Queenstown; S = Southampton;\n"
      ]
    },
    {
      "cell_type": "markdown",
      "metadata": {
        "id": "YT9QFaymK3mD"
      },
      "source": [
        "## 5. Analise exploratória"
      ]
    },
    {
      "cell_type": "code",
      "metadata": {
        "id": "FmcGjDCBXuPf",
        "outputId": "4a6d548d-7a29-4681-af9c-6efa337da03e",
        "colab": {
          "base_uri": "https://localhost:8080/",
          "height": 1000
        }
      },
      "source": [
        "#Unindo as duas bases de dados\n",
        "titanic <- bind_rows(train, test)\n",
        "\n",
        "#Verificando\n",
        "titanic"
      ],
      "execution_count": 115,
      "outputs": [
        {
          "output_type": "display_data",
          "data": {
            "text/plain": [
              "     PassengerId Survived Pclass\n",
              "1     1          0        3     \n",
              "2     2          1        1     \n",
              "3     3          1        3     \n",
              "4     4          1        1     \n",
              "5     5          0        3     \n",
              "6     6          0        3     \n",
              "7     7          0        1     \n",
              "8     8          0        3     \n",
              "9     9          1        3     \n",
              "10   10          1        2     \n",
              "11   11          1        3     \n",
              "12   12          1        1     \n",
              "13   13          0        3     \n",
              "14   14          0        3     \n",
              "15   15          0        3     \n",
              "16   16          1        2     \n",
              "17   17          0        3     \n",
              "18   18          1        2     \n",
              "19   19          0        3     \n",
              "20   20          1        3     \n",
              "21   21          0        2     \n",
              "22   22          1        2     \n",
              "23   23          1        3     \n",
              "24   24          1        1     \n",
              "25   25          0        3     \n",
              "26   26          1        3     \n",
              "27   27          0        3     \n",
              "28   28          0        1     \n",
              "29   29          1        3     \n",
              "30   30          0        3     \n",
              "⋮    ⋮           ⋮        ⋮     \n",
              "1280 1280        NA       3     \n",
              "1281 1281        NA       3     \n",
              "1282 1282        NA       1     \n",
              "1283 1283        NA       1     \n",
              "1284 1284        NA       3     \n",
              "1285 1285        NA       2     \n",
              "1286 1286        NA       3     \n",
              "1287 1287        NA       1     \n",
              "1288 1288        NA       3     \n",
              "1289 1289        NA       1     \n",
              "1290 1290        NA       3     \n",
              "1291 1291        NA       3     \n",
              "1292 1292        NA       1     \n",
              "1293 1293        NA       2     \n",
              "1294 1294        NA       1     \n",
              "1295 1295        NA       1     \n",
              "1296 1296        NA       1     \n",
              "1297 1297        NA       2     \n",
              "1298 1298        NA       2     \n",
              "1299 1299        NA       1     \n",
              "1300 1300        NA       3     \n",
              "1301 1301        NA       3     \n",
              "1302 1302        NA       3     \n",
              "1303 1303        NA       1     \n",
              "1304 1304        NA       3     \n",
              "1305 1305        NA       3     \n",
              "1306 1306        NA       1     \n",
              "1307 1307        NA       3     \n",
              "1308 1308        NA       3     \n",
              "1309 1309        NA       3     \n",
              "     Name                                                            Sex   \n",
              "1    Braund, Mr. Owen Harris                                         male  \n",
              "2    Cumings, Mrs. John Bradley (Florence Briggs Thayer)             female\n",
              "3    Heikkinen, Miss. Laina                                          female\n",
              "4    Futrelle, Mrs. Jacques Heath (Lily May Peel)                    female\n",
              "5    Allen, Mr. William Henry                                        male  \n",
              "6    Moran, Mr. James                                                male  \n",
              "7    McCarthy, Mr. Timothy J                                         male  \n",
              "8    Palsson, Master. Gosta Leonard                                  male  \n",
              "9    Johnson, Mrs. Oscar W (Elisabeth Vilhelmina Berg)               female\n",
              "10   Nasser, Mrs. Nicholas (Adele Achem)                             female\n",
              "11   Sandstrom, Miss. Marguerite Rut                                 female\n",
              "12   Bonnell, Miss. Elizabeth                                        female\n",
              "13   Saundercock, Mr. William Henry                                  male  \n",
              "14   Andersson, Mr. Anders Johan                                     male  \n",
              "15   Vestrom, Miss. Hulda Amanda Adolfina                            female\n",
              "16   Hewlett, Mrs. (Mary D Kingcome)                                 female\n",
              "17   Rice, Master. Eugene                                            male  \n",
              "18   Williams, Mr. Charles Eugene                                    male  \n",
              "19   Vander Planke, Mrs. Julius (Emelia Maria Vandemoortele)         female\n",
              "20   Masselmani, Mrs. Fatima                                         female\n",
              "21   Fynney, Mr. Joseph J                                            male  \n",
              "22   Beesley, Mr. Lawrence                                           male  \n",
              "23   McGowan, Miss. Anna \"Annie\"                                     female\n",
              "24   Sloper, Mr. William Thompson                                    male  \n",
              "25   Palsson, Miss. Torborg Danira                                   female\n",
              "26   Asplund, Mrs. Carl Oscar (Selma Augusta Emilia Johansson)       female\n",
              "27   Emir, Mr. Farred Chehab                                         male  \n",
              "28   Fortune, Mr. Charles Alexander                                  male  \n",
              "29   O'Dwyer, Miss. Ellen \"Nellie\"                                   female\n",
              "30   Todoroff, Mr. Lalio                                             male  \n",
              "⋮    ⋮                                                               ⋮     \n",
              "1280 Canavan, Mr. Patrick                                            male  \n",
              "1281 Palsson, Master. Paul Folke                                     male  \n",
              "1282 Payne, Mr. Vivian Ponsonby                                      male  \n",
              "1283 Lines, Mrs. Ernest H (Elizabeth Lindsey James)                  female\n",
              "1284 Abbott, Master. Eugene Joseph                                   male  \n",
              "1285 Gilbert, Mr. William                                            male  \n",
              "1286 Kink-Heilmann, Mr. Anton                                        male  \n",
              "1287 Smith, Mrs. Lucien Philip (Mary Eloise Hughes)                  female\n",
              "1288 Colbert, Mr. Patrick                                            male  \n",
              "1289 Frolicher-Stehli, Mrs. Maxmillian (Margaretha Emerentia Stehli) female\n",
              "1290 Larsson-Rondberg, Mr. Edvard A                                  male  \n",
              "1291 Conlon, Mr. Thomas Henry                                        male  \n",
              "1292 Bonnell, Miss. Caroline                                         female\n",
              "1293 Gale, Mr. Harry                                                 male  \n",
              "1294 Gibson, Miss. Dorothy Winifred                                  female\n",
              "1295 Carrau, Mr. Jose Pedro                                          male  \n",
              "1296 Frauenthal, Mr. Isaac Gerald                                    male  \n",
              "1297 Nourney, Mr. Alfred (Baron von Drachstedt\")\"                    male  \n",
              "1298 Ware, Mr. William Jeffery                                       male  \n",
              "1299 Widener, Mr. George Dunton                                      male  \n",
              "1300 Riordan, Miss. Johanna Hannah\"\"                                 female\n",
              "1301 Peacock, Miss. Treasteall                                       female\n",
              "1302 Naughton, Miss. Hannah                                          female\n",
              "1303 Minahan, Mrs. William Edward (Lillian E Thorpe)                 female\n",
              "1304 Henriksson, Miss. Jenny Lovisa                                  female\n",
              "1305 Spector, Mr. Woolf                                              male  \n",
              "1306 Oliva y Ocana, Dona. Fermina                                    female\n",
              "1307 Saether, Mr. Simon Sivertsen                                    male  \n",
              "1308 Ware, Mr. Frederick                                             male  \n",
              "1309 Peter, Master. Michael J                                        male  \n",
              "     Age  SibSp Parch Ticket             Fare     Cabin       Embarked\n",
              "1    22   1     0     A/5 21171            7.2500             S       \n",
              "2    38   1     0     PC 17599            71.2833 C85         C       \n",
              "3    26   0     0     STON/O2. 3101282     7.9250             S       \n",
              "4    35   1     0     113803              53.1000 C123        S       \n",
              "5    35   0     0     373450               8.0500             S       \n",
              "6    NA   0     0     330877               8.4583             Q       \n",
              "7    54   0     0     17463               51.8625 E46         S       \n",
              "8     2   3     1     349909              21.0750             S       \n",
              "9    27   0     2     347742              11.1333             S       \n",
              "10   14   1     0     237736              30.0708             C       \n",
              "11    4   1     1     PP 9549             16.7000 G6          S       \n",
              "12   58   0     0     113783              26.5500 C103        S       \n",
              "13   20   0     0     A/5. 2151            8.0500             S       \n",
              "14   39   1     5     347082              31.2750             S       \n",
              "15   14   0     0     350406               7.8542             S       \n",
              "16   55   0     0     248706              16.0000             S       \n",
              "17    2   4     1     382652              29.1250             Q       \n",
              "18   NA   0     0     244373              13.0000             S       \n",
              "19   31   1     0     345763              18.0000             S       \n",
              "20   NA   0     0     2649                 7.2250             C       \n",
              "21   35   0     0     239865              26.0000             S       \n",
              "22   34   0     0     248698              13.0000 D56         S       \n",
              "23   15   0     0     330923               8.0292             Q       \n",
              "24   28   0     0     113788              35.5000 A6          S       \n",
              "25    8   3     1     349909              21.0750             S       \n",
              "26   38   1     5     347077              31.3875             S       \n",
              "27   NA   0     0     2631                 7.2250             C       \n",
              "28   19   3     2     19950              263.0000 C23 C25 C27 S       \n",
              "29   NA   0     0     330959               7.8792             Q       \n",
              "30   NA   0     0     349216               7.8958             S       \n",
              "⋮    ⋮    ⋮     ⋮     ⋮                  ⋮        ⋮           ⋮       \n",
              "1280 21.0 0     0     364858               7.7500             Q       \n",
              "1281  6.0 3     1     349909              21.0750             S       \n",
              "1282 23.0 0     0     12749               93.5000 B24         S       \n",
              "1283 51.0 0     1     PC 17592            39.4000 D28         S       \n",
              "1284 13.0 0     2     C.A. 2673           20.2500             S       \n",
              "1285 47.0 0     0     C.A. 30769          10.5000             S       \n",
              "1286 29.0 3     1     315153              22.0250             S       \n",
              "1287 18.0 1     0     13695               60.0000 C31         S       \n",
              "1288 24.0 0     0     371109               7.2500             Q       \n",
              "1289 48.0 1     1     13567               79.2000 B41         C       \n",
              "1290 22.0 0     0     347065               7.7750             S       \n",
              "1291 31.0 0     0     21332                7.7333             Q       \n",
              "1292 30.0 0     0     36928              164.8667 C7          S       \n",
              "1293 38.0 1     0     28664               21.0000             S       \n",
              "1294 22.0 0     1     112378              59.4000             C       \n",
              "1295 17.0 0     0     113059              47.1000             S       \n",
              "1296 43.0 1     0     17765               27.7208 D40         C       \n",
              "1297 20.0 0     0     SC/PARIS 2166       13.8625 D38         C       \n",
              "1298 23.0 1     0     28666               10.5000             S       \n",
              "1299 50.0 1     1     113503             211.5000 C80         C       \n",
              "1300   NA 0     0     334915               7.7208             Q       \n",
              "1301  3.0 1     1     SOTON/O.Q. 3101315  13.7750             S       \n",
              "1302   NA 0     0     365237               7.7500             Q       \n",
              "1303 37.0 1     0     19928               90.0000 C78         Q       \n",
              "1304 28.0 0     0     347086               7.7750             S       \n",
              "1305   NA 0     0     A.5. 3236            8.0500             S       \n",
              "1306 39.0 0     0     PC 17758           108.9000 C105        C       \n",
              "1307 38.5 0     0     SOTON/O.Q. 3101262   7.2500             S       \n",
              "1308   NA 0     0     359309               8.0500             S       \n",
              "1309   NA 1     1     2668                22.3583             C       "
            ],
            "text/latex": "A data.frame: 1309 × 12\n\\begin{tabular}{llllllllllll}\n PassengerId & Survived & Pclass & Name & Sex & Age & SibSp & Parch & Ticket & Fare & Cabin & Embarked\\\\\n <int> & <int> & <int> & <chr> & <chr> & <dbl> & <int> & <int> & <chr> & <dbl> & <chr> & <chr>\\\\\n\\hline\n\t  1 & 0 & 3 & Braund, Mr. Owen Harris                                   & male   & 22 & 1 & 0 & A/5 21171        &   7.2500 &             & S\\\\\n\t  2 & 1 & 1 & Cumings, Mrs. John Bradley (Florence Briggs Thayer)       & female & 38 & 1 & 0 & PC 17599         &  71.2833 & C85         & C\\\\\n\t  3 & 1 & 3 & Heikkinen, Miss. Laina                                    & female & 26 & 0 & 0 & STON/O2. 3101282 &   7.9250 &             & S\\\\\n\t  4 & 1 & 1 & Futrelle, Mrs. Jacques Heath (Lily May Peel)              & female & 35 & 1 & 0 & 113803           &  53.1000 & C123        & S\\\\\n\t  5 & 0 & 3 & Allen, Mr. William Henry                                  & male   & 35 & 0 & 0 & 373450           &   8.0500 &             & S\\\\\n\t  6 & 0 & 3 & Moran, Mr. James                                          & male   & NA & 0 & 0 & 330877           &   8.4583 &             & Q\\\\\n\t  7 & 0 & 1 & McCarthy, Mr. Timothy J                                   & male   & 54 & 0 & 0 & 17463            &  51.8625 & E46         & S\\\\\n\t  8 & 0 & 3 & Palsson, Master. Gosta Leonard                            & male   &  2 & 3 & 1 & 349909           &  21.0750 &             & S\\\\\n\t  9 & 1 & 3 & Johnson, Mrs. Oscar W (Elisabeth Vilhelmina Berg)         & female & 27 & 0 & 2 & 347742           &  11.1333 &             & S\\\\\n\t 10 & 1 & 2 & Nasser, Mrs. Nicholas (Adele Achem)                       & female & 14 & 1 & 0 & 237736           &  30.0708 &             & C\\\\\n\t 11 & 1 & 3 & Sandstrom, Miss. Marguerite Rut                           & female &  4 & 1 & 1 & PP 9549          &  16.7000 & G6          & S\\\\\n\t 12 & 1 & 1 & Bonnell, Miss. Elizabeth                                  & female & 58 & 0 & 0 & 113783           &  26.5500 & C103        & S\\\\\n\t 13 & 0 & 3 & Saundercock, Mr. William Henry                            & male   & 20 & 0 & 0 & A/5. 2151        &   8.0500 &             & S\\\\\n\t 14 & 0 & 3 & Andersson, Mr. Anders Johan                               & male   & 39 & 1 & 5 & 347082           &  31.2750 &             & S\\\\\n\t 15 & 0 & 3 & Vestrom, Miss. Hulda Amanda Adolfina                      & female & 14 & 0 & 0 & 350406           &   7.8542 &             & S\\\\\n\t 16 & 1 & 2 & Hewlett, Mrs. (Mary D Kingcome)                           & female & 55 & 0 & 0 & 248706           &  16.0000 &             & S\\\\\n\t 17 & 0 & 3 & Rice, Master. Eugene                                      & male   &  2 & 4 & 1 & 382652           &  29.1250 &             & Q\\\\\n\t 18 & 1 & 2 & Williams, Mr. Charles Eugene                              & male   & NA & 0 & 0 & 244373           &  13.0000 &             & S\\\\\n\t 19 & 0 & 3 & Vander Planke, Mrs. Julius (Emelia Maria Vandemoortele)   & female & 31 & 1 & 0 & 345763           &  18.0000 &             & S\\\\\n\t 20 & 1 & 3 & Masselmani, Mrs. Fatima                                   & female & NA & 0 & 0 & 2649             &   7.2250 &             & C\\\\\n\t 21 & 0 & 2 & Fynney, Mr. Joseph J                                      & male   & 35 & 0 & 0 & 239865           &  26.0000 &             & S\\\\\n\t 22 & 1 & 2 & Beesley, Mr. Lawrence                                     & male   & 34 & 0 & 0 & 248698           &  13.0000 & D56         & S\\\\\n\t 23 & 1 & 3 & McGowan, Miss. Anna \"Annie\"                               & female & 15 & 0 & 0 & 330923           &   8.0292 &             & Q\\\\\n\t 24 & 1 & 1 & Sloper, Mr. William Thompson                              & male   & 28 & 0 & 0 & 113788           &  35.5000 & A6          & S\\\\\n\t 25 & 0 & 3 & Palsson, Miss. Torborg Danira                             & female &  8 & 3 & 1 & 349909           &  21.0750 &             & S\\\\\n\t 26 & 1 & 3 & Asplund, Mrs. Carl Oscar (Selma Augusta Emilia Johansson) & female & 38 & 1 & 5 & 347077           &  31.3875 &             & S\\\\\n\t 27 & 0 & 3 & Emir, Mr. Farred Chehab                                   & male   & NA & 0 & 0 & 2631             &   7.2250 &             & C\\\\\n\t 28 & 0 & 1 & Fortune, Mr. Charles Alexander                            & male   & 19 & 3 & 2 & 19950            & 263.0000 & C23 C25 C27 & S\\\\\n\t 29 & 1 & 3 & O'Dwyer, Miss. Ellen \"Nellie\"                             & female & NA & 0 & 0 & 330959           &   7.8792 &             & Q\\\\\n\t 30 & 0 & 3 & Todoroff, Mr. Lalio                                       & male   & NA & 0 & 0 & 349216           &   7.8958 &             & S\\\\\n\t ⋮ & ⋮ & ⋮ & ⋮ & ⋮ & ⋮ & ⋮ & ⋮ & ⋮ & ⋮ & ⋮ & ⋮\\\\\n\t 1280 & NA & 3 & Canavan, Mr. Patrick                                            & male   & 21.0 & 0 & 0 & 364858             &   7.7500 &      & Q\\\\\n\t 1281 & NA & 3 & Palsson, Master. Paul Folke                                     & male   &  6.0 & 3 & 1 & 349909             &  21.0750 &      & S\\\\\n\t 1282 & NA & 1 & Payne, Mr. Vivian Ponsonby                                      & male   & 23.0 & 0 & 0 & 12749              &  93.5000 & B24  & S\\\\\n\t 1283 & NA & 1 & Lines, Mrs. Ernest H (Elizabeth Lindsey James)                  & female & 51.0 & 0 & 1 & PC 17592           &  39.4000 & D28  & S\\\\\n\t 1284 & NA & 3 & Abbott, Master. Eugene Joseph                                   & male   & 13.0 & 0 & 2 & C.A. 2673          &  20.2500 &      & S\\\\\n\t 1285 & NA & 2 & Gilbert, Mr. William                                            & male   & 47.0 & 0 & 0 & C.A. 30769         &  10.5000 &      & S\\\\\n\t 1286 & NA & 3 & Kink-Heilmann, Mr. Anton                                        & male   & 29.0 & 3 & 1 & 315153             &  22.0250 &      & S\\\\\n\t 1287 & NA & 1 & Smith, Mrs. Lucien Philip (Mary Eloise Hughes)                  & female & 18.0 & 1 & 0 & 13695              &  60.0000 & C31  & S\\\\\n\t 1288 & NA & 3 & Colbert, Mr. Patrick                                            & male   & 24.0 & 0 & 0 & 371109             &   7.2500 &      & Q\\\\\n\t 1289 & NA & 1 & Frolicher-Stehli, Mrs. Maxmillian (Margaretha Emerentia Stehli) & female & 48.0 & 1 & 1 & 13567              &  79.2000 & B41  & C\\\\\n\t 1290 & NA & 3 & Larsson-Rondberg, Mr. Edvard A                                  & male   & 22.0 & 0 & 0 & 347065             &   7.7750 &      & S\\\\\n\t 1291 & NA & 3 & Conlon, Mr. Thomas Henry                                        & male   & 31.0 & 0 & 0 & 21332              &   7.7333 &      & Q\\\\\n\t 1292 & NA & 1 & Bonnell, Miss. Caroline                                         & female & 30.0 & 0 & 0 & 36928              & 164.8667 & C7   & S\\\\\n\t 1293 & NA & 2 & Gale, Mr. Harry                                                 & male   & 38.0 & 1 & 0 & 28664              &  21.0000 &      & S\\\\\n\t 1294 & NA & 1 & Gibson, Miss. Dorothy Winifred                                  & female & 22.0 & 0 & 1 & 112378             &  59.4000 &      & C\\\\\n\t 1295 & NA & 1 & Carrau, Mr. Jose Pedro                                          & male   & 17.0 & 0 & 0 & 113059             &  47.1000 &      & S\\\\\n\t 1296 & NA & 1 & Frauenthal, Mr. Isaac Gerald                                    & male   & 43.0 & 1 & 0 & 17765              &  27.7208 & D40  & C\\\\\n\t 1297 & NA & 2 & Nourney, Mr. Alfred (Baron von Drachstedt\")\"                    & male   & 20.0 & 0 & 0 & SC/PARIS 2166      &  13.8625 & D38  & C\\\\\n\t 1298 & NA & 2 & Ware, Mr. William Jeffery                                       & male   & 23.0 & 1 & 0 & 28666              &  10.5000 &      & S\\\\\n\t 1299 & NA & 1 & Widener, Mr. George Dunton                                      & male   & 50.0 & 1 & 1 & 113503             & 211.5000 & C80  & C\\\\\n\t 1300 & NA & 3 & Riordan, Miss. Johanna Hannah\"\"                                 & female &   NA & 0 & 0 & 334915             &   7.7208 &      & Q\\\\\n\t 1301 & NA & 3 & Peacock, Miss. Treasteall                                       & female &  3.0 & 1 & 1 & SOTON/O.Q. 3101315 &  13.7750 &      & S\\\\\n\t 1302 & NA & 3 & Naughton, Miss. Hannah                                          & female &   NA & 0 & 0 & 365237             &   7.7500 &      & Q\\\\\n\t 1303 & NA & 1 & Minahan, Mrs. William Edward (Lillian E Thorpe)                 & female & 37.0 & 1 & 0 & 19928              &  90.0000 & C78  & Q\\\\\n\t 1304 & NA & 3 & Henriksson, Miss. Jenny Lovisa                                  & female & 28.0 & 0 & 0 & 347086             &   7.7750 &      & S\\\\\n\t 1305 & NA & 3 & Spector, Mr. Woolf                                              & male   &   NA & 0 & 0 & A.5. 3236          &   8.0500 &      & S\\\\\n\t 1306 & NA & 1 & Oliva y Ocana, Dona. Fermina                                    & female & 39.0 & 0 & 0 & PC 17758           & 108.9000 & C105 & C\\\\\n\t 1307 & NA & 3 & Saether, Mr. Simon Sivertsen                                    & male   & 38.5 & 0 & 0 & SOTON/O.Q. 3101262 &   7.2500 &      & S\\\\\n\t 1308 & NA & 3 & Ware, Mr. Frederick                                             & male   &   NA & 0 & 0 & 359309             &   8.0500 &      & S\\\\\n\t 1309 & NA & 3 & Peter, Master. Michael J                                        & male   &   NA & 1 & 1 & 2668               &  22.3583 &      & C\\\\\n\\end{tabular}\n",
            "text/markdown": "\nA data.frame: 1309 × 12\n\n| PassengerId &lt;int&gt; | Survived &lt;int&gt; | Pclass &lt;int&gt; | Name &lt;chr&gt; | Sex &lt;chr&gt; | Age &lt;dbl&gt; | SibSp &lt;int&gt; | Parch &lt;int&gt; | Ticket &lt;chr&gt; | Fare &lt;dbl&gt; | Cabin &lt;chr&gt; | Embarked &lt;chr&gt; |\n|---|---|---|---|---|---|---|---|---|---|---|---|\n|  1 | 0 | 3 | Braund, Mr. Owen Harris                                   | male   | 22 | 1 | 0 | A/5 21171        |   7.2500 | <!----> | S |\n|  2 | 1 | 1 | Cumings, Mrs. John Bradley (Florence Briggs Thayer)       | female | 38 | 1 | 0 | PC 17599         |  71.2833 | C85         | C |\n|  3 | 1 | 3 | Heikkinen, Miss. Laina                                    | female | 26 | 0 | 0 | STON/O2. 3101282 |   7.9250 | <!----> | S |\n|  4 | 1 | 1 | Futrelle, Mrs. Jacques Heath (Lily May Peel)              | female | 35 | 1 | 0 | 113803           |  53.1000 | C123        | S |\n|  5 | 0 | 3 | Allen, Mr. William Henry                                  | male   | 35 | 0 | 0 | 373450           |   8.0500 | <!----> | S |\n|  6 | 0 | 3 | Moran, Mr. James                                          | male   | NA | 0 | 0 | 330877           |   8.4583 | <!----> | Q |\n|  7 | 0 | 1 | McCarthy, Mr. Timothy J                                   | male   | 54 | 0 | 0 | 17463            |  51.8625 | E46         | S |\n|  8 | 0 | 3 | Palsson, Master. Gosta Leonard                            | male   |  2 | 3 | 1 | 349909           |  21.0750 | <!----> | S |\n|  9 | 1 | 3 | Johnson, Mrs. Oscar W (Elisabeth Vilhelmina Berg)         | female | 27 | 0 | 2 | 347742           |  11.1333 | <!----> | S |\n| 10 | 1 | 2 | Nasser, Mrs. Nicholas (Adele Achem)                       | female | 14 | 1 | 0 | 237736           |  30.0708 | <!----> | C |\n| 11 | 1 | 3 | Sandstrom, Miss. Marguerite Rut                           | female |  4 | 1 | 1 | PP 9549          |  16.7000 | G6          | S |\n| 12 | 1 | 1 | Bonnell, Miss. Elizabeth                                  | female | 58 | 0 | 0 | 113783           |  26.5500 | C103        | S |\n| 13 | 0 | 3 | Saundercock, Mr. William Henry                            | male   | 20 | 0 | 0 | A/5. 2151        |   8.0500 | <!----> | S |\n| 14 | 0 | 3 | Andersson, Mr. Anders Johan                               | male   | 39 | 1 | 5 | 347082           |  31.2750 | <!----> | S |\n| 15 | 0 | 3 | Vestrom, Miss. Hulda Amanda Adolfina                      | female | 14 | 0 | 0 | 350406           |   7.8542 | <!----> | S |\n| 16 | 1 | 2 | Hewlett, Mrs. (Mary D Kingcome)                           | female | 55 | 0 | 0 | 248706           |  16.0000 | <!----> | S |\n| 17 | 0 | 3 | Rice, Master. Eugene                                      | male   |  2 | 4 | 1 | 382652           |  29.1250 | <!----> | Q |\n| 18 | 1 | 2 | Williams, Mr. Charles Eugene                              | male   | NA | 0 | 0 | 244373           |  13.0000 | <!----> | S |\n| 19 | 0 | 3 | Vander Planke, Mrs. Julius (Emelia Maria Vandemoortele)   | female | 31 | 1 | 0 | 345763           |  18.0000 | <!----> | S |\n| 20 | 1 | 3 | Masselmani, Mrs. Fatima                                   | female | NA | 0 | 0 | 2649             |   7.2250 | <!----> | C |\n| 21 | 0 | 2 | Fynney, Mr. Joseph J                                      | male   | 35 | 0 | 0 | 239865           |  26.0000 | <!----> | S |\n| 22 | 1 | 2 | Beesley, Mr. Lawrence                                     | male   | 34 | 0 | 0 | 248698           |  13.0000 | D56         | S |\n| 23 | 1 | 3 | McGowan, Miss. Anna \"Annie\"                               | female | 15 | 0 | 0 | 330923           |   8.0292 | <!----> | Q |\n| 24 | 1 | 1 | Sloper, Mr. William Thompson                              | male   | 28 | 0 | 0 | 113788           |  35.5000 | A6          | S |\n| 25 | 0 | 3 | Palsson, Miss. Torborg Danira                             | female |  8 | 3 | 1 | 349909           |  21.0750 | <!----> | S |\n| 26 | 1 | 3 | Asplund, Mrs. Carl Oscar (Selma Augusta Emilia Johansson) | female | 38 | 1 | 5 | 347077           |  31.3875 | <!----> | S |\n| 27 | 0 | 3 | Emir, Mr. Farred Chehab                                   | male   | NA | 0 | 0 | 2631             |   7.2250 | <!----> | C |\n| 28 | 0 | 1 | Fortune, Mr. Charles Alexander                            | male   | 19 | 3 | 2 | 19950            | 263.0000 | C23 C25 C27 | S |\n| 29 | 1 | 3 | O'Dwyer, Miss. Ellen \"Nellie\"                             | female | NA | 0 | 0 | 330959           |   7.8792 | <!----> | Q |\n| 30 | 0 | 3 | Todoroff, Mr. Lalio                                       | male   | NA | 0 | 0 | 349216           |   7.8958 | <!----> | S |\n| ⋮ | ⋮ | ⋮ | ⋮ | ⋮ | ⋮ | ⋮ | ⋮ | ⋮ | ⋮ | ⋮ | ⋮ |\n| 1280 | NA | 3 | Canavan, Mr. Patrick                                            | male   | 21.0 | 0 | 0 | 364858             |   7.7500 | <!----> | Q |\n| 1281 | NA | 3 | Palsson, Master. Paul Folke                                     | male   |  6.0 | 3 | 1 | 349909             |  21.0750 | <!----> | S |\n| 1282 | NA | 1 | Payne, Mr. Vivian Ponsonby                                      | male   | 23.0 | 0 | 0 | 12749              |  93.5000 | B24  | S |\n| 1283 | NA | 1 | Lines, Mrs. Ernest H (Elizabeth Lindsey James)                  | female | 51.0 | 0 | 1 | PC 17592           |  39.4000 | D28  | S |\n| 1284 | NA | 3 | Abbott, Master. Eugene Joseph                                   | male   | 13.0 | 0 | 2 | C.A. 2673          |  20.2500 | <!----> | S |\n| 1285 | NA | 2 | Gilbert, Mr. William                                            | male   | 47.0 | 0 | 0 | C.A. 30769         |  10.5000 | <!----> | S |\n| 1286 | NA | 3 | Kink-Heilmann, Mr. Anton                                        | male   | 29.0 | 3 | 1 | 315153             |  22.0250 | <!----> | S |\n| 1287 | NA | 1 | Smith, Mrs. Lucien Philip (Mary Eloise Hughes)                  | female | 18.0 | 1 | 0 | 13695              |  60.0000 | C31  | S |\n| 1288 | NA | 3 | Colbert, Mr. Patrick                                            | male   | 24.0 | 0 | 0 | 371109             |   7.2500 | <!----> | Q |\n| 1289 | NA | 1 | Frolicher-Stehli, Mrs. Maxmillian (Margaretha Emerentia Stehli) | female | 48.0 | 1 | 1 | 13567              |  79.2000 | B41  | C |\n| 1290 | NA | 3 | Larsson-Rondberg, Mr. Edvard A                                  | male   | 22.0 | 0 | 0 | 347065             |   7.7750 | <!----> | S |\n| 1291 | NA | 3 | Conlon, Mr. Thomas Henry                                        | male   | 31.0 | 0 | 0 | 21332              |   7.7333 | <!----> | Q |\n| 1292 | NA | 1 | Bonnell, Miss. Caroline                                         | female | 30.0 | 0 | 0 | 36928              | 164.8667 | C7   | S |\n| 1293 | NA | 2 | Gale, Mr. Harry                                                 | male   | 38.0 | 1 | 0 | 28664              |  21.0000 | <!----> | S |\n| 1294 | NA | 1 | Gibson, Miss. Dorothy Winifred                                  | female | 22.0 | 0 | 1 | 112378             |  59.4000 | <!----> | C |\n| 1295 | NA | 1 | Carrau, Mr. Jose Pedro                                          | male   | 17.0 | 0 | 0 | 113059             |  47.1000 | <!----> | S |\n| 1296 | NA | 1 | Frauenthal, Mr. Isaac Gerald                                    | male   | 43.0 | 1 | 0 | 17765              |  27.7208 | D40  | C |\n| 1297 | NA | 2 | Nourney, Mr. Alfred (Baron von Drachstedt\")\"                    | male   | 20.0 | 0 | 0 | SC/PARIS 2166      |  13.8625 | D38  | C |\n| 1298 | NA | 2 | Ware, Mr. William Jeffery                                       | male   | 23.0 | 1 | 0 | 28666              |  10.5000 | <!----> | S |\n| 1299 | NA | 1 | Widener, Mr. George Dunton                                      | male   | 50.0 | 1 | 1 | 113503             | 211.5000 | C80  | C |\n| 1300 | NA | 3 | Riordan, Miss. Johanna Hannah\"\"                                 | female |   NA | 0 | 0 | 334915             |   7.7208 | <!----> | Q |\n| 1301 | NA | 3 | Peacock, Miss. Treasteall                                       | female |  3.0 | 1 | 1 | SOTON/O.Q. 3101315 |  13.7750 | <!----> | S |\n| 1302 | NA | 3 | Naughton, Miss. Hannah                                          | female |   NA | 0 | 0 | 365237             |   7.7500 | <!----> | Q |\n| 1303 | NA | 1 | Minahan, Mrs. William Edward (Lillian E Thorpe)                 | female | 37.0 | 1 | 0 | 19928              |  90.0000 | C78  | Q |\n| 1304 | NA | 3 | Henriksson, Miss. Jenny Lovisa                                  | female | 28.0 | 0 | 0 | 347086             |   7.7750 | <!----> | S |\n| 1305 | NA | 3 | Spector, Mr. Woolf                                              | male   |   NA | 0 | 0 | A.5. 3236          |   8.0500 | <!----> | S |\n| 1306 | NA | 1 | Oliva y Ocana, Dona. Fermina                                    | female | 39.0 | 0 | 0 | PC 17758           | 108.9000 | C105 | C |\n| 1307 | NA | 3 | Saether, Mr. Simon Sivertsen                                    | male   | 38.5 | 0 | 0 | SOTON/O.Q. 3101262 |   7.2500 | <!----> | S |\n| 1308 | NA | 3 | Ware, Mr. Frederick                                             | male   |   NA | 0 | 0 | 359309             |   8.0500 | <!----> | S |\n| 1309 | NA | 3 | Peter, Master. Michael J                                        | male   |   NA | 1 | 1 | 2668               |  22.3583 | <!----> | C |\n\n",
            "text/html": [
              "<table>\n",
              "<caption>A data.frame: 1309 × 12</caption>\n",
              "<thead>\n",
              "\t<tr><th scope=col>PassengerId</th><th scope=col>Survived</th><th scope=col>Pclass</th><th scope=col>Name</th><th scope=col>Sex</th><th scope=col>Age</th><th scope=col>SibSp</th><th scope=col>Parch</th><th scope=col>Ticket</th><th scope=col>Fare</th><th scope=col>Cabin</th><th scope=col>Embarked</th></tr>\n",
              "\t<tr><th scope=col>&lt;int&gt;</th><th scope=col>&lt;int&gt;</th><th scope=col>&lt;int&gt;</th><th scope=col>&lt;chr&gt;</th><th scope=col>&lt;chr&gt;</th><th scope=col>&lt;dbl&gt;</th><th scope=col>&lt;int&gt;</th><th scope=col>&lt;int&gt;</th><th scope=col>&lt;chr&gt;</th><th scope=col>&lt;dbl&gt;</th><th scope=col>&lt;chr&gt;</th><th scope=col>&lt;chr&gt;</th></tr>\n",
              "</thead>\n",
              "<tbody>\n",
              "\t<tr><td> 1</td><td>0</td><td>3</td><td>Braund, Mr. Owen Harris                                  </td><td>male  </td><td>22</td><td>1</td><td>0</td><td>A/5 21171       </td><td>  7.2500</td><td>           </td><td>S</td></tr>\n",
              "\t<tr><td> 2</td><td>1</td><td>1</td><td>Cumings, Mrs. John Bradley (Florence Briggs Thayer)      </td><td>female</td><td>38</td><td>1</td><td>0</td><td>PC 17599        </td><td> 71.2833</td><td>C85        </td><td>C</td></tr>\n",
              "\t<tr><td> 3</td><td>1</td><td>3</td><td>Heikkinen, Miss. Laina                                   </td><td>female</td><td>26</td><td>0</td><td>0</td><td>STON/O2. 3101282</td><td>  7.9250</td><td>           </td><td>S</td></tr>\n",
              "\t<tr><td> 4</td><td>1</td><td>1</td><td>Futrelle, Mrs. Jacques Heath (Lily May Peel)             </td><td>female</td><td>35</td><td>1</td><td>0</td><td>113803          </td><td> 53.1000</td><td>C123       </td><td>S</td></tr>\n",
              "\t<tr><td> 5</td><td>0</td><td>3</td><td>Allen, Mr. William Henry                                 </td><td>male  </td><td>35</td><td>0</td><td>0</td><td>373450          </td><td>  8.0500</td><td>           </td><td>S</td></tr>\n",
              "\t<tr><td> 6</td><td>0</td><td>3</td><td>Moran, Mr. James                                         </td><td>male  </td><td>NA</td><td>0</td><td>0</td><td>330877          </td><td>  8.4583</td><td>           </td><td>Q</td></tr>\n",
              "\t<tr><td> 7</td><td>0</td><td>1</td><td>McCarthy, Mr. Timothy J                                  </td><td>male  </td><td>54</td><td>0</td><td>0</td><td>17463           </td><td> 51.8625</td><td>E46        </td><td>S</td></tr>\n",
              "\t<tr><td> 8</td><td>0</td><td>3</td><td>Palsson, Master. Gosta Leonard                           </td><td>male  </td><td> 2</td><td>3</td><td>1</td><td>349909          </td><td> 21.0750</td><td>           </td><td>S</td></tr>\n",
              "\t<tr><td> 9</td><td>1</td><td>3</td><td>Johnson, Mrs. Oscar W (Elisabeth Vilhelmina Berg)        </td><td>female</td><td>27</td><td>0</td><td>2</td><td>347742          </td><td> 11.1333</td><td>           </td><td>S</td></tr>\n",
              "\t<tr><td>10</td><td>1</td><td>2</td><td>Nasser, Mrs. Nicholas (Adele Achem)                      </td><td>female</td><td>14</td><td>1</td><td>0</td><td>237736          </td><td> 30.0708</td><td>           </td><td>C</td></tr>\n",
              "\t<tr><td>11</td><td>1</td><td>3</td><td>Sandstrom, Miss. Marguerite Rut                          </td><td>female</td><td> 4</td><td>1</td><td>1</td><td>PP 9549         </td><td> 16.7000</td><td>G6         </td><td>S</td></tr>\n",
              "\t<tr><td>12</td><td>1</td><td>1</td><td>Bonnell, Miss. Elizabeth                                 </td><td>female</td><td>58</td><td>0</td><td>0</td><td>113783          </td><td> 26.5500</td><td>C103       </td><td>S</td></tr>\n",
              "\t<tr><td>13</td><td>0</td><td>3</td><td>Saundercock, Mr. William Henry                           </td><td>male  </td><td>20</td><td>0</td><td>0</td><td>A/5. 2151       </td><td>  8.0500</td><td>           </td><td>S</td></tr>\n",
              "\t<tr><td>14</td><td>0</td><td>3</td><td>Andersson, Mr. Anders Johan                              </td><td>male  </td><td>39</td><td>1</td><td>5</td><td>347082          </td><td> 31.2750</td><td>           </td><td>S</td></tr>\n",
              "\t<tr><td>15</td><td>0</td><td>3</td><td>Vestrom, Miss. Hulda Amanda Adolfina                     </td><td>female</td><td>14</td><td>0</td><td>0</td><td>350406          </td><td>  7.8542</td><td>           </td><td>S</td></tr>\n",
              "\t<tr><td>16</td><td>1</td><td>2</td><td>Hewlett, Mrs. (Mary D Kingcome)                          </td><td>female</td><td>55</td><td>0</td><td>0</td><td>248706          </td><td> 16.0000</td><td>           </td><td>S</td></tr>\n",
              "\t<tr><td>17</td><td>0</td><td>3</td><td>Rice, Master. Eugene                                     </td><td>male  </td><td> 2</td><td>4</td><td>1</td><td>382652          </td><td> 29.1250</td><td>           </td><td>Q</td></tr>\n",
              "\t<tr><td>18</td><td>1</td><td>2</td><td>Williams, Mr. Charles Eugene                             </td><td>male  </td><td>NA</td><td>0</td><td>0</td><td>244373          </td><td> 13.0000</td><td>           </td><td>S</td></tr>\n",
              "\t<tr><td>19</td><td>0</td><td>3</td><td>Vander Planke, Mrs. Julius (Emelia Maria Vandemoortele)  </td><td>female</td><td>31</td><td>1</td><td>0</td><td>345763          </td><td> 18.0000</td><td>           </td><td>S</td></tr>\n",
              "\t<tr><td>20</td><td>1</td><td>3</td><td>Masselmani, Mrs. Fatima                                  </td><td>female</td><td>NA</td><td>0</td><td>0</td><td>2649            </td><td>  7.2250</td><td>           </td><td>C</td></tr>\n",
              "\t<tr><td>21</td><td>0</td><td>2</td><td>Fynney, Mr. Joseph J                                     </td><td>male  </td><td>35</td><td>0</td><td>0</td><td>239865          </td><td> 26.0000</td><td>           </td><td>S</td></tr>\n",
              "\t<tr><td>22</td><td>1</td><td>2</td><td>Beesley, Mr. Lawrence                                    </td><td>male  </td><td>34</td><td>0</td><td>0</td><td>248698          </td><td> 13.0000</td><td>D56        </td><td>S</td></tr>\n",
              "\t<tr><td>23</td><td>1</td><td>3</td><td>McGowan, Miss. Anna \"Annie\"                              </td><td>female</td><td>15</td><td>0</td><td>0</td><td>330923          </td><td>  8.0292</td><td>           </td><td>Q</td></tr>\n",
              "\t<tr><td>24</td><td>1</td><td>1</td><td>Sloper, Mr. William Thompson                             </td><td>male  </td><td>28</td><td>0</td><td>0</td><td>113788          </td><td> 35.5000</td><td>A6         </td><td>S</td></tr>\n",
              "\t<tr><td>25</td><td>0</td><td>3</td><td>Palsson, Miss. Torborg Danira                            </td><td>female</td><td> 8</td><td>3</td><td>1</td><td>349909          </td><td> 21.0750</td><td>           </td><td>S</td></tr>\n",
              "\t<tr><td>26</td><td>1</td><td>3</td><td>Asplund, Mrs. Carl Oscar (Selma Augusta Emilia Johansson)</td><td>female</td><td>38</td><td>1</td><td>5</td><td>347077          </td><td> 31.3875</td><td>           </td><td>S</td></tr>\n",
              "\t<tr><td>27</td><td>0</td><td>3</td><td>Emir, Mr. Farred Chehab                                  </td><td>male  </td><td>NA</td><td>0</td><td>0</td><td>2631            </td><td>  7.2250</td><td>           </td><td>C</td></tr>\n",
              "\t<tr><td>28</td><td>0</td><td>1</td><td>Fortune, Mr. Charles Alexander                           </td><td>male  </td><td>19</td><td>3</td><td>2</td><td>19950           </td><td>263.0000</td><td>C23 C25 C27</td><td>S</td></tr>\n",
              "\t<tr><td>29</td><td>1</td><td>3</td><td>O'Dwyer, Miss. Ellen \"Nellie\"                            </td><td>female</td><td>NA</td><td>0</td><td>0</td><td>330959          </td><td>  7.8792</td><td>           </td><td>Q</td></tr>\n",
              "\t<tr><td>30</td><td>0</td><td>3</td><td>Todoroff, Mr. Lalio                                      </td><td>male  </td><td>NA</td><td>0</td><td>0</td><td>349216          </td><td>  7.8958</td><td>           </td><td>S</td></tr>\n",
              "\t<tr><td>⋮</td><td>⋮</td><td>⋮</td><td>⋮</td><td>⋮</td><td>⋮</td><td>⋮</td><td>⋮</td><td>⋮</td><td>⋮</td><td>⋮</td><td>⋮</td></tr>\n",
              "\t<tr><td>1280</td><td>NA</td><td>3</td><td>Canavan, Mr. Patrick                                           </td><td>male  </td><td>21.0</td><td>0</td><td>0</td><td>364858            </td><td>  7.7500</td><td>    </td><td>Q</td></tr>\n",
              "\t<tr><td>1281</td><td>NA</td><td>3</td><td>Palsson, Master. Paul Folke                                    </td><td>male  </td><td> 6.0</td><td>3</td><td>1</td><td>349909            </td><td> 21.0750</td><td>    </td><td>S</td></tr>\n",
              "\t<tr><td>1282</td><td>NA</td><td>1</td><td>Payne, Mr. Vivian Ponsonby                                     </td><td>male  </td><td>23.0</td><td>0</td><td>0</td><td>12749             </td><td> 93.5000</td><td>B24 </td><td>S</td></tr>\n",
              "\t<tr><td>1283</td><td>NA</td><td>1</td><td>Lines, Mrs. Ernest H (Elizabeth Lindsey James)                 </td><td>female</td><td>51.0</td><td>0</td><td>1</td><td>PC 17592          </td><td> 39.4000</td><td>D28 </td><td>S</td></tr>\n",
              "\t<tr><td>1284</td><td>NA</td><td>3</td><td>Abbott, Master. Eugene Joseph                                  </td><td>male  </td><td>13.0</td><td>0</td><td>2</td><td>C.A. 2673         </td><td> 20.2500</td><td>    </td><td>S</td></tr>\n",
              "\t<tr><td>1285</td><td>NA</td><td>2</td><td>Gilbert, Mr. William                                           </td><td>male  </td><td>47.0</td><td>0</td><td>0</td><td>C.A. 30769        </td><td> 10.5000</td><td>    </td><td>S</td></tr>\n",
              "\t<tr><td>1286</td><td>NA</td><td>3</td><td>Kink-Heilmann, Mr. Anton                                       </td><td>male  </td><td>29.0</td><td>3</td><td>1</td><td>315153            </td><td> 22.0250</td><td>    </td><td>S</td></tr>\n",
              "\t<tr><td>1287</td><td>NA</td><td>1</td><td>Smith, Mrs. Lucien Philip (Mary Eloise Hughes)                 </td><td>female</td><td>18.0</td><td>1</td><td>0</td><td>13695             </td><td> 60.0000</td><td>C31 </td><td>S</td></tr>\n",
              "\t<tr><td>1288</td><td>NA</td><td>3</td><td>Colbert, Mr. Patrick                                           </td><td>male  </td><td>24.0</td><td>0</td><td>0</td><td>371109            </td><td>  7.2500</td><td>    </td><td>Q</td></tr>\n",
              "\t<tr><td>1289</td><td>NA</td><td>1</td><td>Frolicher-Stehli, Mrs. Maxmillian (Margaretha Emerentia Stehli)</td><td>female</td><td>48.0</td><td>1</td><td>1</td><td>13567             </td><td> 79.2000</td><td>B41 </td><td>C</td></tr>\n",
              "\t<tr><td>1290</td><td>NA</td><td>3</td><td>Larsson-Rondberg, Mr. Edvard A                                 </td><td>male  </td><td>22.0</td><td>0</td><td>0</td><td>347065            </td><td>  7.7750</td><td>    </td><td>S</td></tr>\n",
              "\t<tr><td>1291</td><td>NA</td><td>3</td><td>Conlon, Mr. Thomas Henry                                       </td><td>male  </td><td>31.0</td><td>0</td><td>0</td><td>21332             </td><td>  7.7333</td><td>    </td><td>Q</td></tr>\n",
              "\t<tr><td>1292</td><td>NA</td><td>1</td><td>Bonnell, Miss. Caroline                                        </td><td>female</td><td>30.0</td><td>0</td><td>0</td><td>36928             </td><td>164.8667</td><td>C7  </td><td>S</td></tr>\n",
              "\t<tr><td>1293</td><td>NA</td><td>2</td><td>Gale, Mr. Harry                                                </td><td>male  </td><td>38.0</td><td>1</td><td>0</td><td>28664             </td><td> 21.0000</td><td>    </td><td>S</td></tr>\n",
              "\t<tr><td>1294</td><td>NA</td><td>1</td><td>Gibson, Miss. Dorothy Winifred                                 </td><td>female</td><td>22.0</td><td>0</td><td>1</td><td>112378            </td><td> 59.4000</td><td>    </td><td>C</td></tr>\n",
              "\t<tr><td>1295</td><td>NA</td><td>1</td><td>Carrau, Mr. Jose Pedro                                         </td><td>male  </td><td>17.0</td><td>0</td><td>0</td><td>113059            </td><td> 47.1000</td><td>    </td><td>S</td></tr>\n",
              "\t<tr><td>1296</td><td>NA</td><td>1</td><td>Frauenthal, Mr. Isaac Gerald                                   </td><td>male  </td><td>43.0</td><td>1</td><td>0</td><td>17765             </td><td> 27.7208</td><td>D40 </td><td>C</td></tr>\n",
              "\t<tr><td>1297</td><td>NA</td><td>2</td><td>Nourney, Mr. Alfred (Baron von Drachstedt\")\"                   </td><td>male  </td><td>20.0</td><td>0</td><td>0</td><td>SC/PARIS 2166     </td><td> 13.8625</td><td>D38 </td><td>C</td></tr>\n",
              "\t<tr><td>1298</td><td>NA</td><td>2</td><td>Ware, Mr. William Jeffery                                      </td><td>male  </td><td>23.0</td><td>1</td><td>0</td><td>28666             </td><td> 10.5000</td><td>    </td><td>S</td></tr>\n",
              "\t<tr><td>1299</td><td>NA</td><td>1</td><td>Widener, Mr. George Dunton                                     </td><td>male  </td><td>50.0</td><td>1</td><td>1</td><td>113503            </td><td>211.5000</td><td>C80 </td><td>C</td></tr>\n",
              "\t<tr><td>1300</td><td>NA</td><td>3</td><td>Riordan, Miss. Johanna Hannah\"\"                                </td><td>female</td><td>  NA</td><td>0</td><td>0</td><td>334915            </td><td>  7.7208</td><td>    </td><td>Q</td></tr>\n",
              "\t<tr><td>1301</td><td>NA</td><td>3</td><td>Peacock, Miss. Treasteall                                      </td><td>female</td><td> 3.0</td><td>1</td><td>1</td><td>SOTON/O.Q. 3101315</td><td> 13.7750</td><td>    </td><td>S</td></tr>\n",
              "\t<tr><td>1302</td><td>NA</td><td>3</td><td>Naughton, Miss. Hannah                                         </td><td>female</td><td>  NA</td><td>0</td><td>0</td><td>365237            </td><td>  7.7500</td><td>    </td><td>Q</td></tr>\n",
              "\t<tr><td>1303</td><td>NA</td><td>1</td><td>Minahan, Mrs. William Edward (Lillian E Thorpe)                </td><td>female</td><td>37.0</td><td>1</td><td>0</td><td>19928             </td><td> 90.0000</td><td>C78 </td><td>Q</td></tr>\n",
              "\t<tr><td>1304</td><td>NA</td><td>3</td><td>Henriksson, Miss. Jenny Lovisa                                 </td><td>female</td><td>28.0</td><td>0</td><td>0</td><td>347086            </td><td>  7.7750</td><td>    </td><td>S</td></tr>\n",
              "\t<tr><td>1305</td><td>NA</td><td>3</td><td>Spector, Mr. Woolf                                             </td><td>male  </td><td>  NA</td><td>0</td><td>0</td><td>A.5. 3236         </td><td>  8.0500</td><td>    </td><td>S</td></tr>\n",
              "\t<tr><td>1306</td><td>NA</td><td>1</td><td>Oliva y Ocana, Dona. Fermina                                   </td><td>female</td><td>39.0</td><td>0</td><td>0</td><td>PC 17758          </td><td>108.9000</td><td>C105</td><td>C</td></tr>\n",
              "\t<tr><td>1307</td><td>NA</td><td>3</td><td>Saether, Mr. Simon Sivertsen                                   </td><td>male  </td><td>38.5</td><td>0</td><td>0</td><td>SOTON/O.Q. 3101262</td><td>  7.2500</td><td>    </td><td>S</td></tr>\n",
              "\t<tr><td>1308</td><td>NA</td><td>3</td><td>Ware, Mr. Frederick                                            </td><td>male  </td><td>  NA</td><td>0</td><td>0</td><td>359309            </td><td>  8.0500</td><td>    </td><td>S</td></tr>\n",
              "\t<tr><td>1309</td><td>NA</td><td>3</td><td>Peter, Master. Michael J                                       </td><td>male  </td><td>  NA</td><td>1</td><td>1</td><td>2668              </td><td> 22.3583</td><td>    </td><td>C</td></tr>\n",
              "</tbody>\n",
              "</table>\n"
            ]
          },
          "metadata": {
            "tags": []
          }
        }
      ]
    },
    {
      "cell_type": "code",
      "metadata": {
        "id": "Ssh4hmO7CKoB",
        "outputId": "079936dc-430a-4de7-913f-e0591fb254ff",
        "colab": {
          "base_uri": "https://localhost:8080/",
          "height": 33
        }
      },
      "source": [
        "#Verificando dados faltantes\n",
        "colSums(is.na(titanic)|titanic=='')"
      ],
      "execution_count": 116,
      "outputs": [
        {
          "output_type": "display_data",
          "data": {
            "text/plain": [
              "PassengerId    Survived      Pclass        Name         Sex         Age \n",
              "          0         418           0           0           0         263 \n",
              "      SibSp       Parch      Ticket        Fare       Cabin    Embarked \n",
              "          0           0           0           1        1014           2 "
            ],
            "text/latex": "\\begin{description*}\n\\item[PassengerId] 0\n\\item[Survived] 418\n\\item[Pclass] 0\n\\item[Name] 0\n\\item[Sex] 0\n\\item[Age] 263\n\\item[SibSp] 0\n\\item[Parch] 0\n\\item[Ticket] 0\n\\item[Fare] 1\n\\item[Cabin] 1014\n\\item[Embarked] 2\n\\end{description*}\n",
            "text/markdown": "PassengerId\n:   0Survived\n:   418Pclass\n:   0Name\n:   0Sex\n:   0Age\n:   263SibSp\n:   0Parch\n:   0Ticket\n:   0Fare\n:   1Cabin\n:   1014Embarked\n:   2\n\n",
            "text/html": [
              "<style>\n",
              ".dl-inline {width: auto; margin:0; padding: 0}\n",
              ".dl-inline>dt, .dl-inline>dd {float: none; width: auto; display: inline-block}\n",
              ".dl-inline>dt::after {content: \":\\0020\"; padding-right: .5ex}\n",
              ".dl-inline>dt:not(:first-of-type) {padding-left: .5ex}\n",
              "</style><dl class=dl-inline><dt>PassengerId</dt><dd>0</dd><dt>Survived</dt><dd>418</dd><dt>Pclass</dt><dd>0</dd><dt>Name</dt><dd>0</dd><dt>Sex</dt><dd>0</dd><dt>Age</dt><dd>263</dd><dt>SibSp</dt><dd>0</dd><dt>Parch</dt><dd>0</dd><dt>Ticket</dt><dd>0</dd><dt>Fare</dt><dd>1</dd><dt>Cabin</dt><dd>1014</dd><dt>Embarked</dt><dd>2</dd></dl>\n"
            ]
          },
          "metadata": {
            "tags": []
          }
        }
      ]
    },
    {
      "cell_type": "code",
      "metadata": {
        "id": "zcO607-LEBBg",
        "outputId": "8071b682-dcd5-49a5-ed11-a5b1f46a9cab",
        "colab": {
          "base_uri": "https://localhost:8080/",
          "height": 443
        }
      },
      "source": [
        "#verificando dados estatisticos das variáveis\n",
        "summary(titanic)"
      ],
      "execution_count": 117,
      "outputs": [
        {
          "output_type": "display_data",
          "data": {
            "text/plain": [
              "  PassengerId      Survived          Pclass          Name          \n",
              " Min.   :   1   Min.   :0.0000   Min.   :1.000   Length:1309       \n",
              " 1st Qu.: 328   1st Qu.:0.0000   1st Qu.:2.000   Class :character  \n",
              " Median : 655   Median :0.0000   Median :3.000   Mode  :character  \n",
              " Mean   : 655   Mean   :0.3838   Mean   :2.295                     \n",
              " 3rd Qu.: 982   3rd Qu.:1.0000   3rd Qu.:3.000                     \n",
              " Max.   :1309   Max.   :1.0000   Max.   :3.000                     \n",
              "                NA's   :418                                        \n",
              "     Sex                 Age            SibSp            Parch      \n",
              " Length:1309        Min.   : 0.17   Min.   :0.0000   Min.   :0.000  \n",
              " Class :character   1st Qu.:21.00   1st Qu.:0.0000   1st Qu.:0.000  \n",
              " Mode  :character   Median :28.00   Median :0.0000   Median :0.000  \n",
              "                    Mean   :29.88   Mean   :0.4989   Mean   :0.385  \n",
              "                    3rd Qu.:39.00   3rd Qu.:1.0000   3rd Qu.:0.000  \n",
              "                    Max.   :80.00   Max.   :8.0000   Max.   :9.000  \n",
              "                    NA's   :263                                     \n",
              "    Ticket               Fare            Cabin             Embarked        \n",
              " Length:1309        Min.   :  0.000   Length:1309        Length:1309       \n",
              " Class :character   1st Qu.:  7.896   Class :character   Class :character  \n",
              " Mode  :character   Median : 14.454   Mode  :character   Mode  :character  \n",
              "                    Mean   : 33.295                                        \n",
              "                    3rd Qu.: 31.275                                        \n",
              "                    Max.   :512.329                                        \n",
              "                    NA's   :1                                              "
            ]
          },
          "metadata": {
            "tags": []
          }
        }
      ]
    },
    {
      "cell_type": "markdown",
      "metadata": {
        "id": "OOHv3xkfPS7c"
      },
      "source": [
        "Vamos começar analisando a porcentagem de sobreviventes por sexo. Sabemos que a grande maioria das pessoas que sobreviveram era do sexo feminino, mas agora analisaremos essa informação sobre os dados de treino de nosso dataset;\n",
        " ### Sobrevivencia por Sexo:\n"
      ]
    },
    {
      "cell_type": "code",
      "metadata": {
        "id": "_ZwOUR1RRHR1"
      },
      "source": [
        "#Convertendo a variavel sobrevivencia em fator para melhores resultados\n",
        "train$Survived <- as.factor(train$Survived)"
      ],
      "execution_count": 118,
      "outputs": []
    },
    {
      "cell_type": "code",
      "metadata": {
        "id": "i-UZ8fe0N7me",
        "outputId": "71352c4d-b117-485e-edbc-71e4d730eab9",
        "colab": {
          "base_uri": "https://localhost:8080/",
          "height": 436
        }
      },
      "source": [
        "#Plotando um grafico de sobrevivencia por sexo (0 = morreu, 1 = sobreviveu)\n",
        "ggplot(data = train, aes(x = Survived, fill = Sex)) +\n",
        "  geom_bar() +\n",
        "  geom_text(aes(label = scales::percent(..count.. / sum(..count..))), stat = 'count', position = position_stack(0.5)) +\n",
        "  ggtitle(\"Sobrevivencia X Sexo\") + xlab(\"Survived\") + ylab (\"Count\") +\n",
        "  theme_classic() +\n",
        "  theme(plot.title = element_text(hjust = 0.5))"
      ],
      "execution_count": 119,
      "outputs": [
        {
          "output_type": "display_data",
          "data": {
            "image/png": "[encoded data removed]",
            "text/plain": [
              "plot without title"
            ]
          },
          "metadata": {
            "tags": [],
            "image/png": {
              "width": 420,
              "height": 420
            }
          }
        }
      ]
    },
    {
      "cell_type": "markdown",
      "metadata": {
        "id": "0Gy5iIGkQoM3"
      },
      "source": [
        "De fato, assim como no Titanic, podemos observar que a maior parte dos homemes morreram. "
      ]
    },
    {
      "cell_type": "markdown",
      "metadata": {
        "id": "IZYl_uU6Rf0l"
      },
      "source": [
        "### Sobrevivencia por Idade\n",
        "Agora analisaremos a variável de idade. Primeiro vamos verificar como ela está distribuida:\n"
      ]
    },
    {
      "cell_type": "code",
      "metadata": {
        "id": "q2QopRHyODCO",
        "outputId": "856659c3-6b98-4f70-926e-115daf84e0d9",
        "colab": {
          "base_uri": "https://localhost:8080/",
          "height": 436
        }
      },
      "source": [
        "#Plotando um boxplot da idade \n",
        "ggplot(na.omit(train), aes(Survived, Age)) +\n",
        "  geom_boxplot(outlier.color = \"red\", outlier.shape = 1) +\n",
        "  theme_minimal()"
      ],
      "execution_count": 120,
      "outputs": [
        {
          "output_type": "display_data",
          "data": {
            "image/png": "[encoded data removed]",
            "text/plain": [
              "plot without title"
            ]
          },
          "metadata": {
            "tags": [],
            "image/png": {
              "width": 420,
              "height": 420
            }
          }
        }
      ]
    },
    {
      "cell_type": "markdown",
      "metadata": {
        "id": "uK5fKSQrScB2"
      },
      "source": [
        "Aqui verificamos que a maior parte dos passageiros tinha idade entre aproximadamente 21 e 39 anos; Com mediana em aproximadamente 28 anos;\n",
        "\n"
      ]
    },
    {
      "cell_type": "markdown",
      "metadata": {
        "id": "4FaxUO_lVB2f"
      },
      "source": [
        "Agora iremos verificar a relação dentre idade e sobrvivencia"
      ]
    },
    {
      "cell_type": "code",
      "metadata": {
        "id": "ekZVZ1GzRsN3",
        "outputId": "c1c509ec-58f7-4af1-dc42-4fd2a4d273fa",
        "colab": {
          "base_uri": "https://localhost:8080/",
          "height": 472
        }
      },
      "source": [
        "ggplot(data = train, aes(Age, fill = factor(Survived))) + \n",
        "  geom_histogram(bins=30) + \n",
        "  theme_few() +\n",
        "  xlab(\"Idade\") +\n",
        "  scale_fill_discrete(name = \"Sobrevivencia\") + \n",
        "  ggtitle(\"Idade X Sobrevivencia\")"
      ],
      "execution_count": 121,
      "outputs": [
        {
          "output_type": "stream",
          "text": [
            "Warning message:\n",
            "“Removed 177 rows containing non-finite values (stat_bin).”\n"
          ],
          "name": "stderr"
        },
        {
          "output_type": "display_data",
          "data": {
            "image/png": "[encoded data removed]",
            "text/plain": [
              "plot without title"
            ]
          },
          "metadata": {
            "tags": [],
            "image/png": {
              "width": 420,
              "height": 420
            }
          }
        }
      ]
    },
    {
      "cell_type": "markdown",
      "metadata": {
        "id": "2bc4zMnWYCmG"
      },
      "source": [
        "Vemos que existe uma grande parte da consentração de mortos e sobreviventes ente 18 e 39 anos"
      ]
    },
    {
      "cell_type": "markdown",
      "metadata": {
        "id": "oHVQsyVkYi0u"
      },
      "source": [
        "Vamos ver essa distribuição também por sexo:\n"
      ]
    },
    {
      "cell_type": "code",
      "metadata": {
        "id": "kdB853TIXjt-",
        "outputId": "aab3bb79-8431-42c6-c40b-53d53c775071",
        "colab": {
          "base_uri": "https://localhost:8080/",
          "height": 472
        }
      },
      "source": [
        "#Plotando um grafico de sobrevivencia por idade, em cada sexo:\n",
        "ggplot(data = train, aes(Age, fill = factor(Survived))) + \n",
        "  geom_histogram(bins=30) + \n",
        "  theme_few() +\n",
        "  xlab(\"Age\") +\n",
        "  ylab(\"Count\") +\n",
        "  facet_grid(.~Sex)+\n",
        "  scale_fill_discrete(name = \"Survived\") + \n",
        "  theme_few()+\n",
        "  ggtitle(\"Sobrevivencia X Idade X Sexo\")"
      ],
      "execution_count": 122,
      "outputs": [
        {
          "output_type": "stream",
          "text": [
            "Warning message:\n",
            "“Removed 177 rows containing non-finite values (stat_bin).”\n"
          ],
          "name": "stderr"
        },
        {
          "output_type": "display_data",
          "data": {
            "image/png": "[encoded data removed]",
            "text/plain": [
              "plot without title"
            ]
          },
          "metadata": {
            "tags": [],
            "image/png": {
              "width": 420,
              "height": 420
            }
          }
        }
      ]
    },
    {
      "cell_type": "markdown",
      "metadata": {
        "id": "cVDj4_GTbWVQ"
      },
      "source": [
        "### Sobrevivencia por Classe\n",
        "Agora veremos a influencia que a classe exerceu na sobrevivencia do passageiro:\n"
      ]
    },
    {
      "cell_type": "code",
      "metadata": {
        "id": "fxccAFITbVlP",
        "outputId": "de9eccf2-679c-4d69-afdc-7fc5316652a7",
        "colab": {
          "base_uri": "https://localhost:8080/",
          "height": 436
        }
      },
      "source": [
        "ggplot(data = train, aes(Pclass, fill = factor(Survived))) + \n",
        "  geom_bar(stat = \"count\")+\n",
        "  theme_few() +\n",
        "  xlab(\"Classe\") +\n",
        "  facet_grid(.~Sex)+\n",
        "  ylab(\"Contagem\") +\n",
        "  scale_fill_discrete(name = \"Sobrevivencia\") + \n",
        "  ggtitle(\"Sobrevivencis X Sexo X Classe\")"
      ],
      "execution_count": 123,
      "outputs": [
        {
          "output_type": "display_data",
          "data": {
            "image/png": "[encoded data removed]",
            "text/plain": [
              "plot without title"
            ]
          },
          "metadata": {
            "tags": [],
            "image/png": {
              "width": 420,
              "height": 420
            }
          }
        }
      ]
    },
    {
      "cell_type": "markdown",
      "metadata": {
        "id": "S6IejQJhby_o"
      },
      "source": [
        "Já separado por sexo, percebemos que a classe teve sim uma influencia na sobrevivencia dos passageiros. \n",
        "\n",
        "Quase todas as mulheres da primeira e segunda classe sobreviveram, e menos da metade da terceira morreu.\n",
        "Já para os homens vemos que a os sobreviventes foram mais frequentes na primeira e na terceira classe."
      ]
    },
    {
      "cell_type": "code",
      "metadata": {
        "id": "45yfK5WTbGSv"
      },
      "source": [
        ""
      ],
      "execution_count": null,
      "outputs": []
    },
    {
      "cell_type": "markdown",
      "metadata": {
        "id": "PuMdvWrfFzcl"
      },
      "source": [
        "### Sobrevivencia por local de embarque\n",
        "Sabemso que houveram 3 locais de embarque para o titanic: C = Cherbourg; Q = Queenstown; S = Southampton;\n",
        "\n",
        "Agora veremos a relação de sobrevivencia das pessoas que embarcaram em cada um:"
      ]
    },
    {
      "cell_type": "code",
      "metadata": {
        "id": "qI5xRbWVGHQ1",
        "outputId": "7e1a8552-89e5-4abb-9008-c0ab4a3c3f9e",
        "colab": {
          "base_uri": "https://localhost:8080/",
          "height": 436
        }
      },
      "source": [
        "#Plotando um grafico da relação de sobrevivencia por local de embarque\n",
        "ggplot(data = train, aes(x = Embarked, fill=Survived)) +\n",
        "  geom_bar()+\n",
        "  geom_text(stat='count', aes(label=..count..), position = position_stack(vjust = 0.5), size=3) +\n",
        "  labs(title = \"Sobrevivencia X Embarque\", x = \"Embarque\", y = \"Contagem\") +\n",
        "  theme_classic() +\n",
        "  theme(plot.title = element_text(hjust = 0.5))"
      ],
      "execution_count": 124,
      "outputs": [
        {
          "output_type": "display_data",
          "data": {
            "image/png": "[encoded data removed]",
            "text/plain": [
              "plot without title"
            ]
          },
          "metadata": {
            "tags": [],
            "image/png": {
              "width": 420,
              "height": 420
            }
          }
        }
      ]
    },
    {
      "cell_type": "markdown",
      "metadata": {
        "id": "EqJteNG9Htw2"
      },
      "source": [
        "O gráfico  mostra que a maioria dos passageiros embarcaram em Southampton e mais de 50% deles não sobreviveram. \n"
      ]
    },
    {
      "cell_type": "markdown",
      "metadata": {
        "id": "7kU16SUBLyU7"
      },
      "source": [
        "## 6. Arrumando Variáveis\n",
        "Nessa etapa criaremos novas variaveis, tornaremos algumas que já exestem em variáveis binarias, e eliminaremos outras, afim de facilitar na hora de implementar os modelos"
      ]
    },
    {
      "cell_type": "markdown",
      "metadata": {
        "id": "FESsyxHzQ4S1"
      },
      "source": [
        "### Excluindo variáveis\n",
        "Vamos desconsiderar as variáveis ['PassengerId', 'Name', 'Ticket', 'Cabin'], pois **aparentemente** não parecem relevantes."
      ]
    },
    {
      "cell_type": "code",
      "metadata": {
        "id": "EOhzOhoCSke4",
        "outputId": "9493a80c-b487-4a3d-b60a-a022c3fae42d",
        "colab": {
          "base_uri": "https://localhost:8080/",
          "height": 1000
        }
      },
      "source": [
        "titanic"
      ],
      "execution_count": 125,
      "outputs": [
        {
          "output_type": "display_data",
          "data": {
            "text/plain": [
              "     PassengerId Survived Pclass\n",
              "1     1          0        3     \n",
              "2     2          1        1     \n",
              "3     3          1        3     \n",
              "4     4          1        1     \n",
              "5     5          0        3     \n",
              "6     6          0        3     \n",
              "7     7          0        1     \n",
              "8     8          0        3     \n",
              "9     9          1        3     \n",
              "10   10          1        2     \n",
              "11   11          1        3     \n",
              "12   12          1        1     \n",
              "13   13          0        3     \n",
              "14   14          0        3     \n",
              "15   15          0        3     \n",
              "16   16          1        2     \n",
              "17   17          0        3     \n",
              "18   18          1        2     \n",
              "19   19          0        3     \n",
              "20   20          1        3     \n",
              "21   21          0        2     \n",
              "22   22          1        2     \n",
              "23   23          1        3     \n",
              "24   24          1        1     \n",
              "25   25          0        3     \n",
              "26   26          1        3     \n",
              "27   27          0        3     \n",
              "28   28          0        1     \n",
              "29   29          1        3     \n",
              "30   30          0        3     \n",
              "⋮    ⋮           ⋮        ⋮     \n",
              "1280 1280        NA       3     \n",
              "1281 1281        NA       3     \n",
              "1282 1282        NA       1     \n",
              "1283 1283        NA       1     \n",
              "1284 1284        NA       3     \n",
              "1285 1285        NA       2     \n",
              "1286 1286        NA       3     \n",
              "1287 1287        NA       1     \n",
              "1288 1288        NA       3     \n",
              "1289 1289        NA       1     \n",
              "1290 1290        NA       3     \n",
              "1291 1291        NA       3     \n",
              "1292 1292        NA       1     \n",
              "1293 1293        NA       2     \n",
              "1294 1294        NA       1     \n",
              "1295 1295        NA       1     \n",
              "1296 1296        NA       1     \n",
              "1297 1297        NA       2     \n",
              "1298 1298        NA       2     \n",
              "1299 1299        NA       1     \n",
              "1300 1300        NA       3     \n",
              "1301 1301        NA       3     \n",
              "1302 1302        NA       3     \n",
              "1303 1303        NA       1     \n",
              "1304 1304        NA       3     \n",
              "1305 1305        NA       3     \n",
              "1306 1306        NA       1     \n",
              "1307 1307        NA       3     \n",
              "1308 1308        NA       3     \n",
              "1309 1309        NA       3     \n",
              "     Name                                                            Sex   \n",
              "1    Braund, Mr. Owen Harris                                         male  \n",
              "2    Cumings, Mrs. John Bradley (Florence Briggs Thayer)             female\n",
              "3    Heikkinen, Miss. Laina                                          female\n",
              "4    Futrelle, Mrs. Jacques Heath (Lily May Peel)                    female\n",
              "5    Allen, Mr. William Henry                                        male  \n",
              "6    Moran, Mr. James                                                male  \n",
              "7    McCarthy, Mr. Timothy J                                         male  \n",
              "8    Palsson, Master. Gosta Leonard                                  male  \n",
              "9    Johnson, Mrs. Oscar W (Elisabeth Vilhelmina Berg)               female\n",
              "10   Nasser, Mrs. Nicholas (Adele Achem)                             female\n",
              "11   Sandstrom, Miss. Marguerite Rut                                 female\n",
              "12   Bonnell, Miss. Elizabeth                                        female\n",
              "13   Saundercock, Mr. William Henry                                  male  \n",
              "14   Andersson, Mr. Anders Johan                                     male  \n",
              "15   Vestrom, Miss. Hulda Amanda Adolfina                            female\n",
              "16   Hewlett, Mrs. (Mary D Kingcome)                                 female\n",
              "17   Rice, Master. Eugene                                            male  \n",
              "18   Williams, Mr. Charles Eugene                                    male  \n",
              "19   Vander Planke, Mrs. Julius (Emelia Maria Vandemoortele)         female\n",
              "20   Masselmani, Mrs. Fatima                                         female\n",
              "21   Fynney, Mr. Joseph J                                            male  \n",
              "22   Beesley, Mr. Lawrence                                           male  \n",
              "23   McGowan, Miss. Anna \"Annie\"                                     female\n",
              "24   Sloper, Mr. William Thompson                                    male  \n",
              "25   Palsson, Miss. Torborg Danira                                   female\n",
              "26   Asplund, Mrs. Carl Oscar (Selma Augusta Emilia Johansson)       female\n",
              "27   Emir, Mr. Farred Chehab                                         male  \n",
              "28   Fortune, Mr. Charles Alexander                                  male  \n",
              "29   O'Dwyer, Miss. Ellen \"Nellie\"                                   female\n",
              "30   Todoroff, Mr. Lalio                                             male  \n",
              "⋮    ⋮                                                               ⋮     \n",
              "1280 Canavan, Mr. Patrick                                            male  \n",
              "1281 Palsson, Master. Paul Folke                                     male  \n",
              "1282 Payne, Mr. Vivian Ponsonby                                      male  \n",
              "1283 Lines, Mrs. Ernest H (Elizabeth Lindsey James)                  female\n",
              "1284 Abbott, Master. Eugene Joseph                                   male  \n",
              "1285 Gilbert, Mr. William                                            male  \n",
              "1286 Kink-Heilmann, Mr. Anton                                        male  \n",
              "1287 Smith, Mrs. Lucien Philip (Mary Eloise Hughes)                  female\n",
              "1288 Colbert, Mr. Patrick                                            male  \n",
              "1289 Frolicher-Stehli, Mrs. Maxmillian (Margaretha Emerentia Stehli) female\n",
              "1290 Larsson-Rondberg, Mr. Edvard A                                  male  \n",
              "1291 Conlon, Mr. Thomas Henry                                        male  \n",
              "1292 Bonnell, Miss. Caroline                                         female\n",
              "1293 Gale, Mr. Harry                                                 male  \n",
              "1294 Gibson, Miss. Dorothy Winifred                                  female\n",
              "1295 Carrau, Mr. Jose Pedro                                          male  \n",
              "1296 Frauenthal, Mr. Isaac Gerald                                    male  \n",
              "1297 Nourney, Mr. Alfred (Baron von Drachstedt\")\"                    male  \n",
              "1298 Ware, Mr. William Jeffery                                       male  \n",
              "1299 Widener, Mr. George Dunton                                      male  \n",
              "1300 Riordan, Miss. Johanna Hannah\"\"                                 female\n",
              "1301 Peacock, Miss. Treasteall                                       female\n",
              "1302 Naughton, Miss. Hannah                                          female\n",
              "1303 Minahan, Mrs. William Edward (Lillian E Thorpe)                 female\n",
              "1304 Henriksson, Miss. Jenny Lovisa                                  female\n",
              "1305 Spector, Mr. Woolf                                              male  \n",
              "1306 Oliva y Ocana, Dona. Fermina                                    female\n",
              "1307 Saether, Mr. Simon Sivertsen                                    male  \n",
              "1308 Ware, Mr. Frederick                                             male  \n",
              "1309 Peter, Master. Michael J                                        male  \n",
              "     Age  SibSp Parch Ticket             Fare     Cabin       Embarked\n",
              "1    22   1     0     A/5 21171            7.2500             S       \n",
              "2    38   1     0     PC 17599            71.2833 C85         C       \n",
              "3    26   0     0     STON/O2. 3101282     7.9250             S       \n",
              "4    35   1     0     113803              53.1000 C123        S       \n",
              "5    35   0     0     373450               8.0500             S       \n",
              "6    NA   0     0     330877               8.4583             Q       \n",
              "7    54   0     0     17463               51.8625 E46         S       \n",
              "8     2   3     1     349909              21.0750             S       \n",
              "9    27   0     2     347742              11.1333             S       \n",
              "10   14   1     0     237736              30.0708             C       \n",
              "11    4   1     1     PP 9549             16.7000 G6          S       \n",
              "12   58   0     0     113783              26.5500 C103        S       \n",
              "13   20   0     0     A/5. 2151            8.0500             S       \n",
              "14   39   1     5     347082              31.2750             S       \n",
              "15   14   0     0     350406               7.8542             S       \n",
              "16   55   0     0     248706              16.0000             S       \n",
              "17    2   4     1     382652              29.1250             Q       \n",
              "18   NA   0     0     244373              13.0000             S       \n",
              "19   31   1     0     345763              18.0000             S       \n",
              "20   NA   0     0     2649                 7.2250             C       \n",
              "21   35   0     0     239865              26.0000             S       \n",
              "22   34   0     0     248698              13.0000 D56         S       \n",
              "23   15   0     0     330923               8.0292             Q       \n",
              "24   28   0     0     113788              35.5000 A6          S       \n",
              "25    8   3     1     349909              21.0750             S       \n",
              "26   38   1     5     347077              31.3875             S       \n",
              "27   NA   0     0     2631                 7.2250             C       \n",
              "28   19   3     2     19950              263.0000 C23 C25 C27 S       \n",
              "29   NA   0     0     330959               7.8792             Q       \n",
              "30   NA   0     0     349216               7.8958             S       \n",
              "⋮    ⋮    ⋮     ⋮     ⋮                  ⋮        ⋮           ⋮       \n",
              "1280 21.0 0     0     364858               7.7500             Q       \n",
              "1281  6.0 3     1     349909              21.0750             S       \n",
              "1282 23.0 0     0     12749               93.5000 B24         S       \n",
              "1283 51.0 0     1     PC 17592            39.4000 D28         S       \n",
              "1284 13.0 0     2     C.A. 2673           20.2500             S       \n",
              "1285 47.0 0     0     C.A. 30769          10.5000             S       \n",
              "1286 29.0 3     1     315153              22.0250             S       \n",
              "1287 18.0 1     0     13695               60.0000 C31         S       \n",
              "1288 24.0 0     0     371109               7.2500             Q       \n",
              "1289 48.0 1     1     13567               79.2000 B41         C       \n",
              "1290 22.0 0     0     347065               7.7750             S       \n",
              "1291 31.0 0     0     21332                7.7333             Q       \n",
              "1292 30.0 0     0     36928              164.8667 C7          S       \n",
              "1293 38.0 1     0     28664               21.0000             S       \n",
              "1294 22.0 0     1     112378              59.4000             C       \n",
              "1295 17.0 0     0     113059              47.1000             S       \n",
              "1296 43.0 1     0     17765               27.7208 D40         C       \n",
              "1297 20.0 0     0     SC/PARIS 2166       13.8625 D38         C       \n",
              "1298 23.0 1     0     28666               10.5000             S       \n",
              "1299 50.0 1     1     113503             211.5000 C80         C       \n",
              "1300   NA 0     0     334915               7.7208             Q       \n",
              "1301  3.0 1     1     SOTON/O.Q. 3101315  13.7750             S       \n",
              "1302   NA 0     0     365237               7.7500             Q       \n",
              "1303 37.0 1     0     19928               90.0000 C78         Q       \n",
              "1304 28.0 0     0     347086               7.7750             S       \n",
              "1305   NA 0     0     A.5. 3236            8.0500             S       \n",
              "1306 39.0 0     0     PC 17758           108.9000 C105        C       \n",
              "1307 38.5 0     0     SOTON/O.Q. 3101262   7.2500             S       \n",
              "1308   NA 0     0     359309               8.0500             S       \n",
              "1309   NA 1     1     2668                22.3583             C       "
            ],
            "text/latex": "A data.frame: 1309 × 12\n\\begin{tabular}{llllllllllll}\n PassengerId & Survived & Pclass & Name & Sex & Age & SibSp & Parch & Ticket & Fare & Cabin & Embarked\\\\\n <int> & <int> & <int> & <chr> & <chr> & <dbl> & <int> & <int> & <chr> & <dbl> & <chr> & <chr>\\\\\n\\hline\n\t  1 & 0 & 3 & Braund, Mr. Owen Harris                                   & male   & 22 & 1 & 0 & A/5 21171        &   7.2500 &             & S\\\\\n\t  2 & 1 & 1 & Cumings, Mrs. John Bradley (Florence Briggs Thayer)       & female & 38 & 1 & 0 & PC 17599         &  71.2833 & C85         & C\\\\\n\t  3 & 1 & 3 & Heikkinen, Miss. Laina                                    & female & 26 & 0 & 0 & STON/O2. 3101282 &   7.9250 &             & S\\\\\n\t  4 & 1 & 1 & Futrelle, Mrs. Jacques Heath (Lily May Peel)              & female & 35 & 1 & 0 & 113803           &  53.1000 & C123        & S\\\\\n\t  5 & 0 & 3 & Allen, Mr. William Henry                                  & male   & 35 & 0 & 0 & 373450           &   8.0500 &             & S\\\\\n\t  6 & 0 & 3 & Moran, Mr. James                                          & male   & NA & 0 & 0 & 330877           &   8.4583 &             & Q\\\\\n\t  7 & 0 & 1 & McCarthy, Mr. Timothy J                                   & male   & 54 & 0 & 0 & 17463            &  51.8625 & E46         & S\\\\\n\t  8 & 0 & 3 & Palsson, Master. Gosta Leonard                            & male   &  2 & 3 & 1 & 349909           &  21.0750 &             & S\\\\\n\t  9 & 1 & 3 & Johnson, Mrs. Oscar W (Elisabeth Vilhelmina Berg)         & female & 27 & 0 & 2 & 347742           &  11.1333 &             & S\\\\\n\t 10 & 1 & 2 & Nasser, Mrs. Nicholas (Adele Achem)                       & female & 14 & 1 & 0 & 237736           &  30.0708 &             & C\\\\\n\t 11 & 1 & 3 & Sandstrom, Miss. Marguerite Rut                           & female &  4 & 1 & 1 & PP 9549          &  16.7000 & G6          & S\\\\\n\t 12 & 1 & 1 & Bonnell, Miss. Elizabeth                                  & female & 58 & 0 & 0 & 113783           &  26.5500 & C103        & S\\\\\n\t 13 & 0 & 3 & Saundercock, Mr. William Henry                            & male   & 20 & 0 & 0 & A/5. 2151        &   8.0500 &             & S\\\\\n\t 14 & 0 & 3 & Andersson, Mr. Anders Johan                               & male   & 39 & 1 & 5 & 347082           &  31.2750 &             & S\\\\\n\t 15 & 0 & 3 & Vestrom, Miss. Hulda Amanda Adolfina                      & female & 14 & 0 & 0 & 350406           &   7.8542 &             & S\\\\\n\t 16 & 1 & 2 & Hewlett, Mrs. (Mary D Kingcome)                           & female & 55 & 0 & 0 & 248706           &  16.0000 &             & S\\\\\n\t 17 & 0 & 3 & Rice, Master. Eugene                                      & male   &  2 & 4 & 1 & 382652           &  29.1250 &             & Q\\\\\n\t 18 & 1 & 2 & Williams, Mr. Charles Eugene                              & male   & NA & 0 & 0 & 244373           &  13.0000 &             & S\\\\\n\t 19 & 0 & 3 & Vander Planke, Mrs. Julius (Emelia Maria Vandemoortele)   & female & 31 & 1 & 0 & 345763           &  18.0000 &             & S\\\\\n\t 20 & 1 & 3 & Masselmani, Mrs. Fatima                                   & female & NA & 0 & 0 & 2649             &   7.2250 &             & C\\\\\n\t 21 & 0 & 2 & Fynney, Mr. Joseph J                                      & male   & 35 & 0 & 0 & 239865           &  26.0000 &             & S\\\\\n\t 22 & 1 & 2 & Beesley, Mr. Lawrence                                     & male   & 34 & 0 & 0 & 248698           &  13.0000 & D56         & S\\\\\n\t 23 & 1 & 3 & McGowan, Miss. Anna \"Annie\"                               & female & 15 & 0 & 0 & 330923           &   8.0292 &             & Q\\\\\n\t 24 & 1 & 1 & Sloper, Mr. William Thompson                              & male   & 28 & 0 & 0 & 113788           &  35.5000 & A6          & S\\\\\n\t 25 & 0 & 3 & Palsson, Miss. Torborg Danira                             & female &  8 & 3 & 1 & 349909           &  21.0750 &             & S\\\\\n\t 26 & 1 & 3 & Asplund, Mrs. Carl Oscar (Selma Augusta Emilia Johansson) & female & 38 & 1 & 5 & 347077           &  31.3875 &             & S\\\\\n\t 27 & 0 & 3 & Emir, Mr. Farred Chehab                                   & male   & NA & 0 & 0 & 2631             &   7.2250 &             & C\\\\\n\t 28 & 0 & 1 & Fortune, Mr. Charles Alexander                            & male   & 19 & 3 & 2 & 19950            & 263.0000 & C23 C25 C27 & S\\\\\n\t 29 & 1 & 3 & O'Dwyer, Miss. Ellen \"Nellie\"                             & female & NA & 0 & 0 & 330959           &   7.8792 &             & Q\\\\\n\t 30 & 0 & 3 & Todoroff, Mr. Lalio                                       & male   & NA & 0 & 0 & 349216           &   7.8958 &             & S\\\\\n\t ⋮ & ⋮ & ⋮ & ⋮ & ⋮ & ⋮ & ⋮ & ⋮ & ⋮ & ⋮ & ⋮ & ⋮\\\\\n\t 1280 & NA & 3 & Canavan, Mr. Patrick                                            & male   & 21.0 & 0 & 0 & 364858             &   7.7500 &      & Q\\\\\n\t 1281 & NA & 3 & Palsson, Master. Paul Folke                                     & male   &  6.0 & 3 & 1 & 349909             &  21.0750 &      & S\\\\\n\t 1282 & NA & 1 & Payne, Mr. Vivian Ponsonby                                      & male   & 23.0 & 0 & 0 & 12749              &  93.5000 & B24  & S\\\\\n\t 1283 & NA & 1 & Lines, Mrs. Ernest H (Elizabeth Lindsey James)                  & female & 51.0 & 0 & 1 & PC 17592           &  39.4000 & D28  & S\\\\\n\t 1284 & NA & 3 & Abbott, Master. Eugene Joseph                                   & male   & 13.0 & 0 & 2 & C.A. 2673          &  20.2500 &      & S\\\\\n\t 1285 & NA & 2 & Gilbert, Mr. William                                            & male   & 47.0 & 0 & 0 & C.A. 30769         &  10.5000 &      & S\\\\\n\t 1286 & NA & 3 & Kink-Heilmann, Mr. Anton                                        & male   & 29.0 & 3 & 1 & 315153             &  22.0250 &      & S\\\\\n\t 1287 & NA & 1 & Smith, Mrs. Lucien Philip (Mary Eloise Hughes)                  & female & 18.0 & 1 & 0 & 13695              &  60.0000 & C31  & S\\\\\n\t 1288 & NA & 3 & Colbert, Mr. Patrick                                            & male   & 24.0 & 0 & 0 & 371109             &   7.2500 &      & Q\\\\\n\t 1289 & NA & 1 & Frolicher-Stehli, Mrs. Maxmillian (Margaretha Emerentia Stehli) & female & 48.0 & 1 & 1 & 13567              &  79.2000 & B41  & C\\\\\n\t 1290 & NA & 3 & Larsson-Rondberg, Mr. Edvard A                                  & male   & 22.0 & 0 & 0 & 347065             &   7.7750 &      & S\\\\\n\t 1291 & NA & 3 & Conlon, Mr. Thomas Henry                                        & male   & 31.0 & 0 & 0 & 21332              &   7.7333 &      & Q\\\\\n\t 1292 & NA & 1 & Bonnell, Miss. Caroline                                         & female & 30.0 & 0 & 0 & 36928              & 164.8667 & C7   & S\\\\\n\t 1293 & NA & 2 & Gale, Mr. Harry                                                 & male   & 38.0 & 1 & 0 & 28664              &  21.0000 &      & S\\\\\n\t 1294 & NA & 1 & Gibson, Miss. Dorothy Winifred                                  & female & 22.0 & 0 & 1 & 112378             &  59.4000 &      & C\\\\\n\t 1295 & NA & 1 & Carrau, Mr. Jose Pedro                                          & male   & 17.0 & 0 & 0 & 113059             &  47.1000 &      & S\\\\\n\t 1296 & NA & 1 & Frauenthal, Mr. Isaac Gerald                                    & male   & 43.0 & 1 & 0 & 17765              &  27.7208 & D40  & C\\\\\n\t 1297 & NA & 2 & Nourney, Mr. Alfred (Baron von Drachstedt\")\"                    & male   & 20.0 & 0 & 0 & SC/PARIS 2166      &  13.8625 & D38  & C\\\\\n\t 1298 & NA & 2 & Ware, Mr. William Jeffery                                       & male   & 23.0 & 1 & 0 & 28666              &  10.5000 &      & S\\\\\n\t 1299 & NA & 1 & Widener, Mr. George Dunton                                      & male   & 50.0 & 1 & 1 & 113503             & 211.5000 & C80  & C\\\\\n\t 1300 & NA & 3 & Riordan, Miss. Johanna Hannah\"\"                                 & female &   NA & 0 & 0 & 334915             &   7.7208 &      & Q\\\\\n\t 1301 & NA & 3 & Peacock, Miss. Treasteall                                       & female &  3.0 & 1 & 1 & SOTON/O.Q. 3101315 &  13.7750 &      & S\\\\\n\t 1302 & NA & 3 & Naughton, Miss. Hannah                                          & female &   NA & 0 & 0 & 365237             &   7.7500 &      & Q\\\\\n\t 1303 & NA & 1 & Minahan, Mrs. William Edward (Lillian E Thorpe)                 & female & 37.0 & 1 & 0 & 19928              &  90.0000 & C78  & Q\\\\\n\t 1304 & NA & 3 & Henriksson, Miss. Jenny Lovisa                                  & female & 28.0 & 0 & 0 & 347086             &   7.7750 &      & S\\\\\n\t 1305 & NA & 3 & Spector, Mr. Woolf                                              & male   &   NA & 0 & 0 & A.5. 3236          &   8.0500 &      & S\\\\\n\t 1306 & NA & 1 & Oliva y Ocana, Dona. Fermina                                    & female & 39.0 & 0 & 0 & PC 17758           & 108.9000 & C105 & C\\\\\n\t 1307 & NA & 3 & Saether, Mr. Simon Sivertsen                                    & male   & 38.5 & 0 & 0 & SOTON/O.Q. 3101262 &   7.2500 &      & S\\\\\n\t 1308 & NA & 3 & Ware, Mr. Frederick                                             & male   &   NA & 0 & 0 & 359309             &   8.0500 &      & S\\\\\n\t 1309 & NA & 3 & Peter, Master. Michael J                                        & male   &   NA & 1 & 1 & 2668               &  22.3583 &      & C\\\\\n\\end{tabular}\n",
            "text/markdown": "\nA data.frame: 1309 × 12\n\n| PassengerId &lt;int&gt; | Survived &lt;int&gt; | Pclass &lt;int&gt; | Name &lt;chr&gt; | Sex &lt;chr&gt; | Age &lt;dbl&gt; | SibSp &lt;int&gt; | Parch &lt;int&gt; | Ticket &lt;chr&gt; | Fare &lt;dbl&gt; | Cabin &lt;chr&gt; | Embarked &lt;chr&gt; |\n|---|---|---|---|---|---|---|---|---|---|---|---|\n|  1 | 0 | 3 | Braund, Mr. Owen Harris                                   | male   | 22 | 1 | 0 | A/5 21171        |   7.2500 | <!----> | S |\n|  2 | 1 | 1 | Cumings, Mrs. John Bradley (Florence Briggs Thayer)       | female | 38 | 1 | 0 | PC 17599         |  71.2833 | C85         | C |\n|  3 | 1 | 3 | Heikkinen, Miss. Laina                                    | female | 26 | 0 | 0 | STON/O2. 3101282 |   7.9250 | <!----> | S |\n|  4 | 1 | 1 | Futrelle, Mrs. Jacques Heath (Lily May Peel)              | female | 35 | 1 | 0 | 113803           |  53.1000 | C123        | S |\n|  5 | 0 | 3 | Allen, Mr. William Henry                                  | male   | 35 | 0 | 0 | 373450           |   8.0500 | <!----> | S |\n|  6 | 0 | 3 | Moran, Mr. James                                          | male   | NA | 0 | 0 | 330877           |   8.4583 | <!----> | Q |\n|  7 | 0 | 1 | McCarthy, Mr. Timothy J                                   | male   | 54 | 0 | 0 | 17463            |  51.8625 | E46         | S |\n|  8 | 0 | 3 | Palsson, Master. Gosta Leonard                            | male   |  2 | 3 | 1 | 349909           |  21.0750 | <!----> | S |\n|  9 | 1 | 3 | Johnson, Mrs. Oscar W (Elisabeth Vilhelmina Berg)         | female | 27 | 0 | 2 | 347742           |  11.1333 | <!----> | S |\n| 10 | 1 | 2 | Nasser, Mrs. Nicholas (Adele Achem)                       | female | 14 | 1 | 0 | 237736           |  30.0708 | <!----> | C |\n| 11 | 1 | 3 | Sandstrom, Miss. Marguerite Rut                           | female |  4 | 1 | 1 | PP 9549          |  16.7000 | G6          | S |\n| 12 | 1 | 1 | Bonnell, Miss. Elizabeth                                  | female | 58 | 0 | 0 | 113783           |  26.5500 | C103        | S |\n| 13 | 0 | 3 | Saundercock, Mr. William Henry                            | male   | 20 | 0 | 0 | A/5. 2151        |   8.0500 | <!----> | S |\n| 14 | 0 | 3 | Andersson, Mr. Anders Johan                               | male   | 39 | 1 | 5 | 347082           |  31.2750 | <!----> | S |\n| 15 | 0 | 3 | Vestrom, Miss. Hulda Amanda Adolfina                      | female | 14 | 0 | 0 | 350406           |   7.8542 | <!----> | S |\n| 16 | 1 | 2 | Hewlett, Mrs. (Mary D Kingcome)                           | female | 55 | 0 | 0 | 248706           |  16.0000 | <!----> | S |\n| 17 | 0 | 3 | Rice, Master. Eugene                                      | male   |  2 | 4 | 1 | 382652           |  29.1250 | <!----> | Q |\n| 18 | 1 | 2 | Williams, Mr. Charles Eugene                              | male   | NA | 0 | 0 | 244373           |  13.0000 | <!----> | S |\n| 19 | 0 | 3 | Vander Planke, Mrs. Julius (Emelia Maria Vandemoortele)   | female | 31 | 1 | 0 | 345763           |  18.0000 | <!----> | S |\n| 20 | 1 | 3 | Masselmani, Mrs. Fatima                                   | female | NA | 0 | 0 | 2649             |   7.2250 | <!----> | C |\n| 21 | 0 | 2 | Fynney, Mr. Joseph J                                      | male   | 35 | 0 | 0 | 239865           |  26.0000 | <!----> | S |\n| 22 | 1 | 2 | Beesley, Mr. Lawrence                                     | male   | 34 | 0 | 0 | 248698           |  13.0000 | D56         | S |\n| 23 | 1 | 3 | McGowan, Miss. Anna \"Annie\"                               | female | 15 | 0 | 0 | 330923           |   8.0292 | <!----> | Q |\n| 24 | 1 | 1 | Sloper, Mr. William Thompson                              | male   | 28 | 0 | 0 | 113788           |  35.5000 | A6          | S |\n| 25 | 0 | 3 | Palsson, Miss. Torborg Danira                             | female |  8 | 3 | 1 | 349909           |  21.0750 | <!----> | S |\n| 26 | 1 | 3 | Asplund, Mrs. Carl Oscar (Selma Augusta Emilia Johansson) | female | 38 | 1 | 5 | 347077           |  31.3875 | <!----> | S |\n| 27 | 0 | 3 | Emir, Mr. Farred Chehab                                   | male   | NA | 0 | 0 | 2631             |   7.2250 | <!----> | C |\n| 28 | 0 | 1 | Fortune, Mr. Charles Alexander                            | male   | 19 | 3 | 2 | 19950            | 263.0000 | C23 C25 C27 | S |\n| 29 | 1 | 3 | O'Dwyer, Miss. Ellen \"Nellie\"                             | female | NA | 0 | 0 | 330959           |   7.8792 | <!----> | Q |\n| 30 | 0 | 3 | Todoroff, Mr. Lalio                                       | male   | NA | 0 | 0 | 349216           |   7.8958 | <!----> | S |\n| ⋮ | ⋮ | ⋮ | ⋮ | ⋮ | ⋮ | ⋮ | ⋮ | ⋮ | ⋮ | ⋮ | ⋮ |\n| 1280 | NA | 3 | Canavan, Mr. Patrick                                            | male   | 21.0 | 0 | 0 | 364858             |   7.7500 | <!----> | Q |\n| 1281 | NA | 3 | Palsson, Master. Paul Folke                                     | male   |  6.0 | 3 | 1 | 349909             |  21.0750 | <!----> | S |\n| 1282 | NA | 1 | Payne, Mr. Vivian Ponsonby                                      | male   | 23.0 | 0 | 0 | 12749              |  93.5000 | B24  | S |\n| 1283 | NA | 1 | Lines, Mrs. Ernest H (Elizabeth Lindsey James)                  | female | 51.0 | 0 | 1 | PC 17592           |  39.4000 | D28  | S |\n| 1284 | NA | 3 | Abbott, Master. Eugene Joseph                                   | male   | 13.0 | 0 | 2 | C.A. 2673          |  20.2500 | <!----> | S |\n| 1285 | NA | 2 | Gilbert, Mr. William                                            | male   | 47.0 | 0 | 0 | C.A. 30769         |  10.5000 | <!----> | S |\n| 1286 | NA | 3 | Kink-Heilmann, Mr. Anton                                        | male   | 29.0 | 3 | 1 | 315153             |  22.0250 | <!----> | S |\n| 1287 | NA | 1 | Smith, Mrs. Lucien Philip (Mary Eloise Hughes)                  | female | 18.0 | 1 | 0 | 13695              |  60.0000 | C31  | S |\n| 1288 | NA | 3 | Colbert, Mr. Patrick                                            | male   | 24.0 | 0 | 0 | 371109             |   7.2500 | <!----> | Q |\n| 1289 | NA | 1 | Frolicher-Stehli, Mrs. Maxmillian (Margaretha Emerentia Stehli) | female | 48.0 | 1 | 1 | 13567              |  79.2000 | B41  | C |\n| 1290 | NA | 3 | Larsson-Rondberg, Mr. Edvard A                                  | male   | 22.0 | 0 | 0 | 347065             |   7.7750 | <!----> | S |\n| 1291 | NA | 3 | Conlon, Mr. Thomas Henry                                        | male   | 31.0 | 0 | 0 | 21332              |   7.7333 | <!----> | Q |\n| 1292 | NA | 1 | Bonnell, Miss. Caroline                                         | female | 30.0 | 0 | 0 | 36928              | 164.8667 | C7   | S |\n| 1293 | NA | 2 | Gale, Mr. Harry                                                 | male   | 38.0 | 1 | 0 | 28664              |  21.0000 | <!----> | S |\n| 1294 | NA | 1 | Gibson, Miss. Dorothy Winifred                                  | female | 22.0 | 0 | 1 | 112378             |  59.4000 | <!----> | C |\n| 1295 | NA | 1 | Carrau, Mr. Jose Pedro                                          | male   | 17.0 | 0 | 0 | 113059             |  47.1000 | <!----> | S |\n| 1296 | NA | 1 | Frauenthal, Mr. Isaac Gerald                                    | male   | 43.0 | 1 | 0 | 17765              |  27.7208 | D40  | C |\n| 1297 | NA | 2 | Nourney, Mr. Alfred (Baron von Drachstedt\")\"                    | male   | 20.0 | 0 | 0 | SC/PARIS 2166      |  13.8625 | D38  | C |\n| 1298 | NA | 2 | Ware, Mr. William Jeffery                                       | male   | 23.0 | 1 | 0 | 28666              |  10.5000 | <!----> | S |\n| 1299 | NA | 1 | Widener, Mr. George Dunton                                      | male   | 50.0 | 1 | 1 | 113503             | 211.5000 | C80  | C |\n| 1300 | NA | 3 | Riordan, Miss. Johanna Hannah\"\"                                 | female |   NA | 0 | 0 | 334915             |   7.7208 | <!----> | Q |\n| 1301 | NA | 3 | Peacock, Miss. Treasteall                                       | female |  3.0 | 1 | 1 | SOTON/O.Q. 3101315 |  13.7750 | <!----> | S |\n| 1302 | NA | 3 | Naughton, Miss. Hannah                                          | female |   NA | 0 | 0 | 365237             |   7.7500 | <!----> | Q |\n| 1303 | NA | 1 | Minahan, Mrs. William Edward (Lillian E Thorpe)                 | female | 37.0 | 1 | 0 | 19928              |  90.0000 | C78  | Q |\n| 1304 | NA | 3 | Henriksson, Miss. Jenny Lovisa                                  | female | 28.0 | 0 | 0 | 347086             |   7.7750 | <!----> | S |\n| 1305 | NA | 3 | Spector, Mr. Woolf                                              | male   |   NA | 0 | 0 | A.5. 3236          |   8.0500 | <!----> | S |\n| 1306 | NA | 1 | Oliva y Ocana, Dona. Fermina                                    | female | 39.0 | 0 | 0 | PC 17758           | 108.9000 | C105 | C |\n| 1307 | NA | 3 | Saether, Mr. Simon Sivertsen                                    | male   | 38.5 | 0 | 0 | SOTON/O.Q. 3101262 |   7.2500 | <!----> | S |\n| 1308 | NA | 3 | Ware, Mr. Frederick                                             | male   |   NA | 0 | 0 | 359309             |   8.0500 | <!----> | S |\n| 1309 | NA | 3 | Peter, Master. Michael J                                        | male   |   NA | 1 | 1 | 2668               |  22.3583 | <!----> | C |\n\n",
            "text/html": [
              "<table>\n",
              "<caption>A data.frame: 1309 × 12</caption>\n",
              "<thead>\n",
              "\t<tr><th scope=col>PassengerId</th><th scope=col>Survived</th><th scope=col>Pclass</th><th scope=col>Name</th><th scope=col>Sex</th><th scope=col>Age</th><th scope=col>SibSp</th><th scope=col>Parch</th><th scope=col>Ticket</th><th scope=col>Fare</th><th scope=col>Cabin</th><th scope=col>Embarked</th></tr>\n",
              "\t<tr><th scope=col>&lt;int&gt;</th><th scope=col>&lt;int&gt;</th><th scope=col>&lt;int&gt;</th><th scope=col>&lt;chr&gt;</th><th scope=col>&lt;chr&gt;</th><th scope=col>&lt;dbl&gt;</th><th scope=col>&lt;int&gt;</th><th scope=col>&lt;int&gt;</th><th scope=col>&lt;chr&gt;</th><th scope=col>&lt;dbl&gt;</th><th scope=col>&lt;chr&gt;</th><th scope=col>&lt;chr&gt;</th></tr>\n",
              "</thead>\n",
              "<tbody>\n",
              "\t<tr><td> 1</td><td>0</td><td>3</td><td>Braund, Mr. Owen Harris                                  </td><td>male  </td><td>22</td><td>1</td><td>0</td><td>A/5 21171       </td><td>  7.2500</td><td>           </td><td>S</td></tr>\n",
              "\t<tr><td> 2</td><td>1</td><td>1</td><td>Cumings, Mrs. John Bradley (Florence Briggs Thayer)      </td><td>female</td><td>38</td><td>1</td><td>0</td><td>PC 17599        </td><td> 71.2833</td><td>C85        </td><td>C</td></tr>\n",
              "\t<tr><td> 3</td><td>1</td><td>3</td><td>Heikkinen, Miss. Laina                                   </td><td>female</td><td>26</td><td>0</td><td>0</td><td>STON/O2. 3101282</td><td>  7.9250</td><td>           </td><td>S</td></tr>\n",
              "\t<tr><td> 4</td><td>1</td><td>1</td><td>Futrelle, Mrs. Jacques Heath (Lily May Peel)             </td><td>female</td><td>35</td><td>1</td><td>0</td><td>113803          </td><td> 53.1000</td><td>C123       </td><td>S</td></tr>\n",
              "\t<tr><td> 5</td><td>0</td><td>3</td><td>Allen, Mr. William Henry                                 </td><td>male  </td><td>35</td><td>0</td><td>0</td><td>373450          </td><td>  8.0500</td><td>           </td><td>S</td></tr>\n",
              "\t<tr><td> 6</td><td>0</td><td>3</td><td>Moran, Mr. James                                         </td><td>male  </td><td>NA</td><td>0</td><td>0</td><td>330877          </td><td>  8.4583</td><td>           </td><td>Q</td></tr>\n",
              "\t<tr><td> 7</td><td>0</td><td>1</td><td>McCarthy, Mr. Timothy J                                  </td><td>male  </td><td>54</td><td>0</td><td>0</td><td>17463           </td><td> 51.8625</td><td>E46        </td><td>S</td></tr>\n",
              "\t<tr><td> 8</td><td>0</td><td>3</td><td>Palsson, Master. Gosta Leonard                           </td><td>male  </td><td> 2</td><td>3</td><td>1</td><td>349909          </td><td> 21.0750</td><td>           </td><td>S</td></tr>\n",
              "\t<tr><td> 9</td><td>1</td><td>3</td><td>Johnson, Mrs. Oscar W (Elisabeth Vilhelmina Berg)        </td><td>female</td><td>27</td><td>0</td><td>2</td><td>347742          </td><td> 11.1333</td><td>           </td><td>S</td></tr>\n",
              "\t<tr><td>10</td><td>1</td><td>2</td><td>Nasser, Mrs. Nicholas (Adele Achem)                      </td><td>female</td><td>14</td><td>1</td><td>0</td><td>237736          </td><td> 30.0708</td><td>           </td><td>C</td></tr>\n",
              "\t<tr><td>11</td><td>1</td><td>3</td><td>Sandstrom, Miss. Marguerite Rut                          </td><td>female</td><td> 4</td><td>1</td><td>1</td><td>PP 9549         </td><td> 16.7000</td><td>G6         </td><td>S</td></tr>\n",
              "\t<tr><td>12</td><td>1</td><td>1</td><td>Bonnell, Miss. Elizabeth                                 </td><td>female</td><td>58</td><td>0</td><td>0</td><td>113783          </td><td> 26.5500</td><td>C103       </td><td>S</td></tr>\n",
              "\t<tr><td>13</td><td>0</td><td>3</td><td>Saundercock, Mr. William Henry                           </td><td>male  </td><td>20</td><td>0</td><td>0</td><td>A/5. 2151       </td><td>  8.0500</td><td>           </td><td>S</td></tr>\n",
              "\t<tr><td>14</td><td>0</td><td>3</td><td>Andersson, Mr. Anders Johan                              </td><td>male  </td><td>39</td><td>1</td><td>5</td><td>347082          </td><td> 31.2750</td><td>           </td><td>S</td></tr>\n",
              "\t<tr><td>15</td><td>0</td><td>3</td><td>Vestrom, Miss. Hulda Amanda Adolfina                     </td><td>female</td><td>14</td><td>0</td><td>0</td><td>350406          </td><td>  7.8542</td><td>           </td><td>S</td></tr>\n",
              "\t<tr><td>16</td><td>1</td><td>2</td><td>Hewlett, Mrs. (Mary D Kingcome)                          </td><td>female</td><td>55</td><td>0</td><td>0</td><td>248706          </td><td> 16.0000</td><td>           </td><td>S</td></tr>\n",
              "\t<tr><td>17</td><td>0</td><td>3</td><td>Rice, Master. Eugene                                     </td><td>male  </td><td> 2</td><td>4</td><td>1</td><td>382652          </td><td> 29.1250</td><td>           </td><td>Q</td></tr>\n",
              "\t<tr><td>18</td><td>1</td><td>2</td><td>Williams, Mr. Charles Eugene                             </td><td>male  </td><td>NA</td><td>0</td><td>0</td><td>244373          </td><td> 13.0000</td><td>           </td><td>S</td></tr>\n",
              "\t<tr><td>19</td><td>0</td><td>3</td><td>Vander Planke, Mrs. Julius (Emelia Maria Vandemoortele)  </td><td>female</td><td>31</td><td>1</td><td>0</td><td>345763          </td><td> 18.0000</td><td>           </td><td>S</td></tr>\n",
              "\t<tr><td>20</td><td>1</td><td>3</td><td>Masselmani, Mrs. Fatima                                  </td><td>female</td><td>NA</td><td>0</td><td>0</td><td>2649            </td><td>  7.2250</td><td>           </td><td>C</td></tr>\n",
              "\t<tr><td>21</td><td>0</td><td>2</td><td>Fynney, Mr. Joseph J                                     </td><td>male  </td><td>35</td><td>0</td><td>0</td><td>239865          </td><td> 26.0000</td><td>           </td><td>S</td></tr>\n",
              "\t<tr><td>22</td><td>1</td><td>2</td><td>Beesley, Mr. Lawrence                                    </td><td>male  </td><td>34</td><td>0</td><td>0</td><td>248698          </td><td> 13.0000</td><td>D56        </td><td>S</td></tr>\n",
              "\t<tr><td>23</td><td>1</td><td>3</td><td>McGowan, Miss. Anna \"Annie\"                              </td><td>female</td><td>15</td><td>0</td><td>0</td><td>330923          </td><td>  8.0292</td><td>           </td><td>Q</td></tr>\n",
              "\t<tr><td>24</td><td>1</td><td>1</td><td>Sloper, Mr. William Thompson                             </td><td>male  </td><td>28</td><td>0</td><td>0</td><td>113788          </td><td> 35.5000</td><td>A6         </td><td>S</td></tr>\n",
              "\t<tr><td>25</td><td>0</td><td>3</td><td>Palsson, Miss. Torborg Danira                            </td><td>female</td><td> 8</td><td>3</td><td>1</td><td>349909          </td><td> 21.0750</td><td>           </td><td>S</td></tr>\n",
              "\t<tr><td>26</td><td>1</td><td>3</td><td>Asplund, Mrs. Carl Oscar (Selma Augusta Emilia Johansson)</td><td>female</td><td>38</td><td>1</td><td>5</td><td>347077          </td><td> 31.3875</td><td>           </td><td>S</td></tr>\n",
              "\t<tr><td>27</td><td>0</td><td>3</td><td>Emir, Mr. Farred Chehab                                  </td><td>male  </td><td>NA</td><td>0</td><td>0</td><td>2631            </td><td>  7.2250</td><td>           </td><td>C</td></tr>\n",
              "\t<tr><td>28</td><td>0</td><td>1</td><td>Fortune, Mr. Charles Alexander                           </td><td>male  </td><td>19</td><td>3</td><td>2</td><td>19950           </td><td>263.0000</td><td>C23 C25 C27</td><td>S</td></tr>\n",
              "\t<tr><td>29</td><td>1</td><td>3</td><td>O'Dwyer, Miss. Ellen \"Nellie\"                            </td><td>female</td><td>NA</td><td>0</td><td>0</td><td>330959          </td><td>  7.8792</td><td>           </td><td>Q</td></tr>\n",
              "\t<tr><td>30</td><td>0</td><td>3</td><td>Todoroff, Mr. Lalio                                      </td><td>male  </td><td>NA</td><td>0</td><td>0</td><td>349216          </td><td>  7.8958</td><td>           </td><td>S</td></tr>\n",
              "\t<tr><td>⋮</td><td>⋮</td><td>⋮</td><td>⋮</td><td>⋮</td><td>⋮</td><td>⋮</td><td>⋮</td><td>⋮</td><td>⋮</td><td>⋮</td><td>⋮</td></tr>\n",
              "\t<tr><td>1280</td><td>NA</td><td>3</td><td>Canavan, Mr. Patrick                                           </td><td>male  </td><td>21.0</td><td>0</td><td>0</td><td>364858            </td><td>  7.7500</td><td>    </td><td>Q</td></tr>\n",
              "\t<tr><td>1281</td><td>NA</td><td>3</td><td>Palsson, Master. Paul Folke                                    </td><td>male  </td><td> 6.0</td><td>3</td><td>1</td><td>349909            </td><td> 21.0750</td><td>    </td><td>S</td></tr>\n",
              "\t<tr><td>1282</td><td>NA</td><td>1</td><td>Payne, Mr. Vivian Ponsonby                                     </td><td>male  </td><td>23.0</td><td>0</td><td>0</td><td>12749             </td><td> 93.5000</td><td>B24 </td><td>S</td></tr>\n",
              "\t<tr><td>1283</td><td>NA</td><td>1</td><td>Lines, Mrs. Ernest H (Elizabeth Lindsey James)                 </td><td>female</td><td>51.0</td><td>0</td><td>1</td><td>PC 17592          </td><td> 39.4000</td><td>D28 </td><td>S</td></tr>\n",
              "\t<tr><td>1284</td><td>NA</td><td>3</td><td>Abbott, Master. Eugene Joseph                                  </td><td>male  </td><td>13.0</td><td>0</td><td>2</td><td>C.A. 2673         </td><td> 20.2500</td><td>    </td><td>S</td></tr>\n",
              "\t<tr><td>1285</td><td>NA</td><td>2</td><td>Gilbert, Mr. William                                           </td><td>male  </td><td>47.0</td><td>0</td><td>0</td><td>C.A. 30769        </td><td> 10.5000</td><td>    </td><td>S</td></tr>\n",
              "\t<tr><td>1286</td><td>NA</td><td>3</td><td>Kink-Heilmann, Mr. Anton                                       </td><td>male  </td><td>29.0</td><td>3</td><td>1</td><td>315153            </td><td> 22.0250</td><td>    </td><td>S</td></tr>\n",
              "\t<tr><td>1287</td><td>NA</td><td>1</td><td>Smith, Mrs. Lucien Philip (Mary Eloise Hughes)                 </td><td>female</td><td>18.0</td><td>1</td><td>0</td><td>13695             </td><td> 60.0000</td><td>C31 </td><td>S</td></tr>\n",
              "\t<tr><td>1288</td><td>NA</td><td>3</td><td>Colbert, Mr. Patrick                                           </td><td>male  </td><td>24.0</td><td>0</td><td>0</td><td>371109            </td><td>  7.2500</td><td>    </td><td>Q</td></tr>\n",
              "\t<tr><td>1289</td><td>NA</td><td>1</td><td>Frolicher-Stehli, Mrs. Maxmillian (Margaretha Emerentia Stehli)</td><td>female</td><td>48.0</td><td>1</td><td>1</td><td>13567             </td><td> 79.2000</td><td>B41 </td><td>C</td></tr>\n",
              "\t<tr><td>1290</td><td>NA</td><td>3</td><td>Larsson-Rondberg, Mr. Edvard A                                 </td><td>male  </td><td>22.0</td><td>0</td><td>0</td><td>347065            </td><td>  7.7750</td><td>    </td><td>S</td></tr>\n",
              "\t<tr><td>1291</td><td>NA</td><td>3</td><td>Conlon, Mr. Thomas Henry                                       </td><td>male  </td><td>31.0</td><td>0</td><td>0</td><td>21332             </td><td>  7.7333</td><td>    </td><td>Q</td></tr>\n",
              "\t<tr><td>1292</td><td>NA</td><td>1</td><td>Bonnell, Miss. Caroline                                        </td><td>female</td><td>30.0</td><td>0</td><td>0</td><td>36928             </td><td>164.8667</td><td>C7  </td><td>S</td></tr>\n",
              "\t<tr><td>1293</td><td>NA</td><td>2</td><td>Gale, Mr. Harry                                                </td><td>male  </td><td>38.0</td><td>1</td><td>0</td><td>28664             </td><td> 21.0000</td><td>    </td><td>S</td></tr>\n",
              "\t<tr><td>1294</td><td>NA</td><td>1</td><td>Gibson, Miss. Dorothy Winifred                                 </td><td>female</td><td>22.0</td><td>0</td><td>1</td><td>112378            </td><td> 59.4000</td><td>    </td><td>C</td></tr>\n",
              "\t<tr><td>1295</td><td>NA</td><td>1</td><td>Carrau, Mr. Jose Pedro                                         </td><td>male  </td><td>17.0</td><td>0</td><td>0</td><td>113059            </td><td> 47.1000</td><td>    </td><td>S</td></tr>\n",
              "\t<tr><td>1296</td><td>NA</td><td>1</td><td>Frauenthal, Mr. Isaac Gerald                                   </td><td>male  </td><td>43.0</td><td>1</td><td>0</td><td>17765             </td><td> 27.7208</td><td>D40 </td><td>C</td></tr>\n",
              "\t<tr><td>1297</td><td>NA</td><td>2</td><td>Nourney, Mr. Alfred (Baron von Drachstedt\")\"                   </td><td>male  </td><td>20.0</td><td>0</td><td>0</td><td>SC/PARIS 2166     </td><td> 13.8625</td><td>D38 </td><td>C</td></tr>\n",
              "\t<tr><td>1298</td><td>NA</td><td>2</td><td>Ware, Mr. William Jeffery                                      </td><td>male  </td><td>23.0</td><td>1</td><td>0</td><td>28666             </td><td> 10.5000</td><td>    </td><td>S</td></tr>\n",
              "\t<tr><td>1299</td><td>NA</td><td>1</td><td>Widener, Mr. George Dunton                                     </td><td>male  </td><td>50.0</td><td>1</td><td>1</td><td>113503            </td><td>211.5000</td><td>C80 </td><td>C</td></tr>\n",
              "\t<tr><td>1300</td><td>NA</td><td>3</td><td>Riordan, Miss. Johanna Hannah\"\"                                </td><td>female</td><td>  NA</td><td>0</td><td>0</td><td>334915            </td><td>  7.7208</td><td>    </td><td>Q</td></tr>\n",
              "\t<tr><td>1301</td><td>NA</td><td>3</td><td>Peacock, Miss. Treasteall                                      </td><td>female</td><td> 3.0</td><td>1</td><td>1</td><td>SOTON/O.Q. 3101315</td><td> 13.7750</td><td>    </td><td>S</td></tr>\n",
              "\t<tr><td>1302</td><td>NA</td><td>3</td><td>Naughton, Miss. Hannah                                         </td><td>female</td><td>  NA</td><td>0</td><td>0</td><td>365237            </td><td>  7.7500</td><td>    </td><td>Q</td></tr>\n",
              "\t<tr><td>1303</td><td>NA</td><td>1</td><td>Minahan, Mrs. William Edward (Lillian E Thorpe)                </td><td>female</td><td>37.0</td><td>1</td><td>0</td><td>19928             </td><td> 90.0000</td><td>C78 </td><td>Q</td></tr>\n",
              "\t<tr><td>1304</td><td>NA</td><td>3</td><td>Henriksson, Miss. Jenny Lovisa                                 </td><td>female</td><td>28.0</td><td>0</td><td>0</td><td>347086            </td><td>  7.7750</td><td>    </td><td>S</td></tr>\n",
              "\t<tr><td>1305</td><td>NA</td><td>3</td><td>Spector, Mr. Woolf                                             </td><td>male  </td><td>  NA</td><td>0</td><td>0</td><td>A.5. 3236         </td><td>  8.0500</td><td>    </td><td>S</td></tr>\n",
              "\t<tr><td>1306</td><td>NA</td><td>1</td><td>Oliva y Ocana, Dona. Fermina                                   </td><td>female</td><td>39.0</td><td>0</td><td>0</td><td>PC 17758          </td><td>108.9000</td><td>C105</td><td>C</td></tr>\n",
              "\t<tr><td>1307</td><td>NA</td><td>3</td><td>Saether, Mr. Simon Sivertsen                                   </td><td>male  </td><td>38.5</td><td>0</td><td>0</td><td>SOTON/O.Q. 3101262</td><td>  7.2500</td><td>    </td><td>S</td></tr>\n",
              "\t<tr><td>1308</td><td>NA</td><td>3</td><td>Ware, Mr. Frederick                                            </td><td>male  </td><td>  NA</td><td>0</td><td>0</td><td>359309            </td><td>  8.0500</td><td>    </td><td>S</td></tr>\n",
              "\t<tr><td>1309</td><td>NA</td><td>3</td><td>Peter, Master. Michael J                                       </td><td>male  </td><td>  NA</td><td>1</td><td>1</td><td>2668              </td><td> 22.3583</td><td>    </td><td>C</td></tr>\n",
              "</tbody>\n",
              "</table>\n"
            ]
          },
          "metadata": {
            "tags": []
          }
        }
      ]
    },
    {
      "cell_type": "markdown",
      "metadata": {
        "id": "Shm7jV7iSmQZ"
      },
      "source": [
        "aqui vamos remover as colunas 1,4,9,11; que correspondem às variáveis que não iremos sar"
      ]
    },
    {
      "cell_type": "code",
      "metadata": {
        "id": "dlKg7VkVR2lM"
      },
      "source": [
        "#Removendo as colunas\n",
        "titanic = titanic[,-c(1,4,9,11)]"
      ],
      "execution_count": 126,
      "outputs": []
    },
    {
      "cell_type": "markdown",
      "metadata": {
        "id": "8Bvm7hW2Vydd"
      },
      "source": [
        "### Valores faltantes\n",
        "Vamos olhar os valores faltantes (NaN) e preencher esses valores usando média, mediana, valor mais frequente;"
      ]
    },
    {
      "cell_type": "code",
      "metadata": {
        "id": "EAfOprYSWH8x",
        "outputId": "c04e5667-cc5c-49af-8914-df9100a516c8",
        "colab": {
          "base_uri": "https://localhost:8080/",
          "height": 33
        }
      },
      "source": [
        "colSums(is.na(titanic)|titanic=='')"
      ],
      "execution_count": 127,
      "outputs": [
        {
          "output_type": "display_data",
          "data": {
            "text/plain": [
              "Survived   Pclass      Sex      Age    SibSp    Parch     Fare Embarked \n",
              "     418        0        0      263        0        0        1        2 "
            ],
            "text/latex": "\\begin{description*}\n\\item[Survived] 418\n\\item[Pclass] 0\n\\item[Sex] 0\n\\item[Age] 263\n\\item[SibSp] 0\n\\item[Parch] 0\n\\item[Fare] 1\n\\item[Embarked] 2\n\\end{description*}\n",
            "text/markdown": "Survived\n:   418Pclass\n:   0Sex\n:   0Age\n:   263SibSp\n:   0Parch\n:   0Fare\n:   1Embarked\n:   2\n\n",
            "text/html": [
              "<style>\n",
              ".dl-inline {width: auto; margin:0; padding: 0}\n",
              ".dl-inline>dt, .dl-inline>dd {float: none; width: auto; display: inline-block}\n",
              ".dl-inline>dt::after {content: \":\\0020\"; padding-right: .5ex}\n",
              ".dl-inline>dt:not(:first-of-type) {padding-left: .5ex}\n",
              "</style><dl class=dl-inline><dt>Survived</dt><dd>418</dd><dt>Pclass</dt><dd>0</dd><dt>Sex</dt><dd>0</dd><dt>Age</dt><dd>263</dd><dt>SibSp</dt><dd>0</dd><dt>Parch</dt><dd>0</dd><dt>Fare</dt><dd>1</dd><dt>Embarked</dt><dd>2</dd></dl>\n"
            ]
          },
          "metadata": {
            "tags": []
          }
        }
      ]
    },
    {
      "cell_type": "markdown",
      "metadata": {
        "id": "6JlZlcMTa2Qh"
      },
      "source": [
        "Para as variáveis idade e tarifa (age, fare), vamos colocar o valor da mediana, e para a variável de embarque,a moda.\n",
        "\n"
      ]
    },
    {
      "cell_type": "code",
      "metadata": {
        "id": "6AY4sC_YWQjq"
      },
      "source": [
        "#Idade -> substituimos pema mediana\n",
        "titanic <- \n",
        "  titanic %>%\n",
        "  mutate(Age = ifelse(is.na(Age), mean(Age, na.rm=TRUE), Age))"
      ],
      "execution_count": 128,
      "outputs": []
    },
    {
      "cell_type": "code",
      "metadata": {
        "id": "gJOyr2FceoQl"
      },
      "source": [
        "#Fare -> substituimos pema mediana\n",
        "titanic <- \n",
        "  titanic%>%\n",
        "  mutate(Fare = ifelse(is.na(Fare), mean(Fare, na.rm=TRUE), Fare))"
      ],
      "execution_count": 129,
      "outputs": []
    },
    {
      "cell_type": "code",
      "metadata": {
        "id": "vmJy1z4heae2"
      },
      "source": [
        "#Embarked -> substituimos pema moda\n",
        "titanic <- \n",
        "  titanic%>%\n",
        "  mutate(Embarked = ifelse(is.na(Embarked), mode(Embarked, na.rm=TRUE), Embarked))"
      ],
      "execution_count": 130,
      "outputs": []
    },
    {
      "cell_type": "code",
      "metadata": {
        "id": "7dV-L9Uhbn-r",
        "outputId": "7ad980a3-5718-4df7-a6cf-7cfb53041572",
        "colab": {
          "base_uri": "https://localhost:8080/",
          "height": 33
        }
      },
      "source": [
        "#Verificando\n",
        "colSums(is.na(titanic)|titanic=='')"
      ],
      "execution_count": 131,
      "outputs": [
        {
          "output_type": "display_data",
          "data": {
            "text/plain": [
              "Survived   Pclass      Sex      Age    SibSp    Parch     Fare Embarked \n",
              "     418        0        0        0        0        0        0        2 "
            ],
            "text/latex": "\\begin{description*}\n\\item[Survived] 418\n\\item[Pclass] 0\n\\item[Sex] 0\n\\item[Age] 0\n\\item[SibSp] 0\n\\item[Parch] 0\n\\item[Fare] 0\n\\item[Embarked] 2\n\\end{description*}\n",
            "text/markdown": "Survived\n:   418Pclass\n:   0Sex\n:   0Age\n:   0SibSp\n:   0Parch\n:   0Fare\n:   0Embarked\n:   2\n\n",
            "text/html": [
              "<style>\n",
              ".dl-inline {width: auto; margin:0; padding: 0}\n",
              ".dl-inline>dt, .dl-inline>dd {float: none; width: auto; display: inline-block}\n",
              ".dl-inline>dt::after {content: \":\\0020\"; padding-right: .5ex}\n",
              ".dl-inline>dt:not(:first-of-type) {padding-left: .5ex}\n",
              "</style><dl class=dl-inline><dt>Survived</dt><dd>418</dd><dt>Pclass</dt><dd>0</dd><dt>Sex</dt><dd>0</dd><dt>Age</dt><dd>0</dd><dt>SibSp</dt><dd>0</dd><dt>Parch</dt><dd>0</dd><dt>Fare</dt><dd>0</dd><dt>Embarked</dt><dd>2</dd></dl>\n"
            ]
          },
          "metadata": {
            "tags": []
          }
        }
      ]
    },
    {
      "cell_type": "markdown",
      "metadata": {
        "id": "IxDtSa4QfOlf"
      },
      "source": [
        "Agora só ficamos com os dados faltantes na variavel Survived, que é a que queremos prever"
      ]
    },
    {
      "cell_type": "markdown",
      "metadata": {
        "id": "OVOyLgzJg531"
      },
      "source": [
        "### Convertendo Variáveis\n",
        "Agora iremos transformar algumas variaveis em binarias (0 e 1) e numeriacas em geral"
      ]
    },
    {
      "cell_type": "code",
      "metadata": {
        "id": "01m8fiQh_nC8"
      },
      "source": [
        "#Convertendo váriavel de Sex de texto para binário\n",
        "\n",
        "#Se male = 1\n",
        "# Se female = 0\n",
        "\n",
        "titanic <- \n",
        "  titanic%>%\n",
        "  mutate(Sex = ifelse(Sex == \"male\", 1 , 0 ))\n",
        "\n"
      ],
      "execution_count": 132,
      "outputs": []
    },
    {
      "cell_type": "code",
      "metadata": {
        "id": "rCXN-MLy1tMF",
        "outputId": "514b6234-d7f5-407a-92dc-904492180fda",
        "colab": {
          "base_uri": "https://localhost:8080/",
          "height": 1000
        }
      },
      "source": [
        "#visualizando a coluna Sex \n",
        "unique(titanic$Sex)\n",
        "\n",
        "titanic\n"
      ],
      "execution_count": 133,
      "outputs": [
        {
          "output_type": "display_data",
          "data": {
            "text/plain": [
              "[1] 1 0"
            ],
            "text/latex": "\\begin{enumerate*}\n\\item 1\n\\item 0\n\\end{enumerate*}\n",
            "text/markdown": "1. 1\n2. 0\n\n\n",
            "text/html": [
              "<style>\n",
              ".list-inline {list-style: none; margin:0; padding: 0}\n",
              ".list-inline>li {display: inline-block}\n",
              ".list-inline>li:not(:last-child)::after {content: \"\\00b7\"; padding: 0 .5ex}\n",
              "</style>\n",
              "<ol class=list-inline><li>1</li><li>0</li></ol>\n"
            ]
          },
          "metadata": {
            "tags": []
          }
        },
        {
          "output_type": "display_data",
          "data": {
            "text/plain": [
              "     Survived Pclass Sex Age      SibSp Parch Fare     Embarked\n",
              "1    0        3      1   22.00000 1     0       7.2500 S       \n",
              "2    1        1      0   38.00000 1     0      71.2833 C       \n",
              "3    1        3      0   26.00000 0     0       7.9250 S       \n",
              "4    1        1      0   35.00000 1     0      53.1000 S       \n",
              "5    0        3      1   35.00000 0     0       8.0500 S       \n",
              "6    0        3      1   29.88114 0     0       8.4583 Q       \n",
              "7    0        1      1   54.00000 0     0      51.8625 S       \n",
              "8    0        3      1    2.00000 3     1      21.0750 S       \n",
              "9    1        3      0   27.00000 0     2      11.1333 S       \n",
              "10   1        2      0   14.00000 1     0      30.0708 C       \n",
              "11   1        3      0    4.00000 1     1      16.7000 S       \n",
              "12   1        1      0   58.00000 0     0      26.5500 S       \n",
              "13   0        3      1   20.00000 0     0       8.0500 S       \n",
              "14   0        3      1   39.00000 1     5      31.2750 S       \n",
              "15   0        3      0   14.00000 0     0       7.8542 S       \n",
              "16   1        2      0   55.00000 0     0      16.0000 S       \n",
              "17   0        3      1    2.00000 4     1      29.1250 Q       \n",
              "18   1        2      1   29.88114 0     0      13.0000 S       \n",
              "19   0        3      0   31.00000 1     0      18.0000 S       \n",
              "20   1        3      0   29.88114 0     0       7.2250 C       \n",
              "21   0        2      1   35.00000 0     0      26.0000 S       \n",
              "22   1        2      1   34.00000 0     0      13.0000 S       \n",
              "23   1        3      0   15.00000 0     0       8.0292 Q       \n",
              "24   1        1      1   28.00000 0     0      35.5000 S       \n",
              "25   0        3      0    8.00000 3     1      21.0750 S       \n",
              "26   1        3      0   38.00000 1     5      31.3875 S       \n",
              "27   0        3      1   29.88114 0     0       7.2250 C       \n",
              "28   0        1      1   19.00000 3     2     263.0000 S       \n",
              "29   1        3      0   29.88114 0     0       7.8792 Q       \n",
              "30   0        3      1   29.88114 0     0       7.8958 S       \n",
              "⋮    ⋮        ⋮      ⋮   ⋮        ⋮     ⋮     ⋮        ⋮       \n",
              "1280 NA       3      1   21.00000 0     0       7.7500 Q       \n",
              "1281 NA       3      1    6.00000 3     1      21.0750 S       \n",
              "1282 NA       1      1   23.00000 0     0      93.5000 S       \n",
              "1283 NA       1      0   51.00000 0     1      39.4000 S       \n",
              "1284 NA       3      1   13.00000 0     2      20.2500 S       \n",
              "1285 NA       2      1   47.00000 0     0      10.5000 S       \n",
              "1286 NA       3      1   29.00000 3     1      22.0250 S       \n",
              "1287 NA       1      0   18.00000 1     0      60.0000 S       \n",
              "1288 NA       3      1   24.00000 0     0       7.2500 Q       \n",
              "1289 NA       1      0   48.00000 1     1      79.2000 C       \n",
              "1290 NA       3      1   22.00000 0     0       7.7750 S       \n",
              "1291 NA       3      1   31.00000 0     0       7.7333 Q       \n",
              "1292 NA       1      0   30.00000 0     0     164.8667 S       \n",
              "1293 NA       2      1   38.00000 1     0      21.0000 S       \n",
              "1294 NA       1      0   22.00000 0     1      59.4000 C       \n",
              "1295 NA       1      1   17.00000 0     0      47.1000 S       \n",
              "1296 NA       1      1   43.00000 1     0      27.7208 C       \n",
              "1297 NA       2      1   20.00000 0     0      13.8625 C       \n",
              "1298 NA       2      1   23.00000 1     0      10.5000 S       \n",
              "1299 NA       1      1   50.00000 1     1     211.5000 C       \n",
              "1300 NA       3      0   29.88114 0     0       7.7208 Q       \n",
              "1301 NA       3      0    3.00000 1     1      13.7750 S       \n",
              "1302 NA       3      0   29.88114 0     0       7.7500 Q       \n",
              "1303 NA       1      0   37.00000 1     0      90.0000 Q       \n",
              "1304 NA       3      0   28.00000 0     0       7.7750 S       \n",
              "1305 NA       3      1   29.88114 0     0       8.0500 S       \n",
              "1306 NA       1      0   39.00000 0     0     108.9000 C       \n",
              "1307 NA       3      1   38.50000 0     0       7.2500 S       \n",
              "1308 NA       3      1   29.88114 0     0       8.0500 S       \n",
              "1309 NA       3      1   29.88114 1     1      22.3583 C       "
            ],
            "text/latex": "A data.frame: 1309 × 8\n\\begin{tabular}{llllllll}\n Survived & Pclass & Sex & Age & SibSp & Parch & Fare & Embarked\\\\\n <int> & <int> & <dbl> & <dbl> & <int> & <int> & <dbl> & <chr>\\\\\n\\hline\n\t 0 & 3 & 1 & 22.00000 & 1 & 0 &   7.2500 & S\\\\\n\t 1 & 1 & 0 & 38.00000 & 1 & 0 &  71.2833 & C\\\\\n\t 1 & 3 & 0 & 26.00000 & 0 & 0 &   7.9250 & S\\\\\n\t 1 & 1 & 0 & 35.00000 & 1 & 0 &  53.1000 & S\\\\\n\t 0 & 3 & 1 & 35.00000 & 0 & 0 &   8.0500 & S\\\\\n\t 0 & 3 & 1 & 29.88114 & 0 & 0 &   8.4583 & Q\\\\\n\t 0 & 1 & 1 & 54.00000 & 0 & 0 &  51.8625 & S\\\\\n\t 0 & 3 & 1 &  2.00000 & 3 & 1 &  21.0750 & S\\\\\n\t 1 & 3 & 0 & 27.00000 & 0 & 2 &  11.1333 & S\\\\\n\t 1 & 2 & 0 & 14.00000 & 1 & 0 &  30.0708 & C\\\\\n\t 1 & 3 & 0 &  4.00000 & 1 & 1 &  16.7000 & S\\\\\n\t 1 & 1 & 0 & 58.00000 & 0 & 0 &  26.5500 & S\\\\\n\t 0 & 3 & 1 & 20.00000 & 0 & 0 &   8.0500 & S\\\\\n\t 0 & 3 & 1 & 39.00000 & 1 & 5 &  31.2750 & S\\\\\n\t 0 & 3 & 0 & 14.00000 & 0 & 0 &   7.8542 & S\\\\\n\t 1 & 2 & 0 & 55.00000 & 0 & 0 &  16.0000 & S\\\\\n\t 0 & 3 & 1 &  2.00000 & 4 & 1 &  29.1250 & Q\\\\\n\t 1 & 2 & 1 & 29.88114 & 0 & 0 &  13.0000 & S\\\\\n\t 0 & 3 & 0 & 31.00000 & 1 & 0 &  18.0000 & S\\\\\n\t 1 & 3 & 0 & 29.88114 & 0 & 0 &   7.2250 & C\\\\\n\t 0 & 2 & 1 & 35.00000 & 0 & 0 &  26.0000 & S\\\\\n\t 1 & 2 & 1 & 34.00000 & 0 & 0 &  13.0000 & S\\\\\n\t 1 & 3 & 0 & 15.00000 & 0 & 0 &   8.0292 & Q\\\\\n\t 1 & 1 & 1 & 28.00000 & 0 & 0 &  35.5000 & S\\\\\n\t 0 & 3 & 0 &  8.00000 & 3 & 1 &  21.0750 & S\\\\\n\t 1 & 3 & 0 & 38.00000 & 1 & 5 &  31.3875 & S\\\\\n\t 0 & 3 & 1 & 29.88114 & 0 & 0 &   7.2250 & C\\\\\n\t 0 & 1 & 1 & 19.00000 & 3 & 2 & 263.0000 & S\\\\\n\t 1 & 3 & 0 & 29.88114 & 0 & 0 &   7.8792 & Q\\\\\n\t 0 & 3 & 1 & 29.88114 & 0 & 0 &   7.8958 & S\\\\\n\t ⋮ & ⋮ & ⋮ & ⋮ & ⋮ & ⋮ & ⋮ & ⋮\\\\\n\t NA & 3 & 1 & 21.00000 & 0 & 0 &   7.7500 & Q\\\\\n\t NA & 3 & 1 &  6.00000 & 3 & 1 &  21.0750 & S\\\\\n\t NA & 1 & 1 & 23.00000 & 0 & 0 &  93.5000 & S\\\\\n\t NA & 1 & 0 & 51.00000 & 0 & 1 &  39.4000 & S\\\\\n\t NA & 3 & 1 & 13.00000 & 0 & 2 &  20.2500 & S\\\\\n\t NA & 2 & 1 & 47.00000 & 0 & 0 &  10.5000 & S\\\\\n\t NA & 3 & 1 & 29.00000 & 3 & 1 &  22.0250 & S\\\\\n\t NA & 1 & 0 & 18.00000 & 1 & 0 &  60.0000 & S\\\\\n\t NA & 3 & 1 & 24.00000 & 0 & 0 &   7.2500 & Q\\\\\n\t NA & 1 & 0 & 48.00000 & 1 & 1 &  79.2000 & C\\\\\n\t NA & 3 & 1 & 22.00000 & 0 & 0 &   7.7750 & S\\\\\n\t NA & 3 & 1 & 31.00000 & 0 & 0 &   7.7333 & Q\\\\\n\t NA & 1 & 0 & 30.00000 & 0 & 0 & 164.8667 & S\\\\\n\t NA & 2 & 1 & 38.00000 & 1 & 0 &  21.0000 & S\\\\\n\t NA & 1 & 0 & 22.00000 & 0 & 1 &  59.4000 & C\\\\\n\t NA & 1 & 1 & 17.00000 & 0 & 0 &  47.1000 & S\\\\\n\t NA & 1 & 1 & 43.00000 & 1 & 0 &  27.7208 & C\\\\\n\t NA & 2 & 1 & 20.00000 & 0 & 0 &  13.8625 & C\\\\\n\t NA & 2 & 1 & 23.00000 & 1 & 0 &  10.5000 & S\\\\\n\t NA & 1 & 1 & 50.00000 & 1 & 1 & 211.5000 & C\\\\\n\t NA & 3 & 0 & 29.88114 & 0 & 0 &   7.7208 & Q\\\\\n\t NA & 3 & 0 &  3.00000 & 1 & 1 &  13.7750 & S\\\\\n\t NA & 3 & 0 & 29.88114 & 0 & 0 &   7.7500 & Q\\\\\n\t NA & 1 & 0 & 37.00000 & 1 & 0 &  90.0000 & Q\\\\\n\t NA & 3 & 0 & 28.00000 & 0 & 0 &   7.7750 & S\\\\\n\t NA & 3 & 1 & 29.88114 & 0 & 0 &   8.0500 & S\\\\\n\t NA & 1 & 0 & 39.00000 & 0 & 0 & 108.9000 & C\\\\\n\t NA & 3 & 1 & 38.50000 & 0 & 0 &   7.2500 & S\\\\\n\t NA & 3 & 1 & 29.88114 & 0 & 0 &   8.0500 & S\\\\\n\t NA & 3 & 1 & 29.88114 & 1 & 1 &  22.3583 & C\\\\\n\\end{tabular}\n",
            "text/markdown": "\nA data.frame: 1309 × 8\n\n| Survived &lt;int&gt; | Pclass &lt;int&gt; | Sex &lt;dbl&gt; | Age &lt;dbl&gt; | SibSp &lt;int&gt; | Parch &lt;int&gt; | Fare &lt;dbl&gt; | Embarked &lt;chr&gt; |\n|---|---|---|---|---|---|---|---|\n| 0 | 3 | 1 | 22.00000 | 1 | 0 |   7.2500 | S |\n| 1 | 1 | 0 | 38.00000 | 1 | 0 |  71.2833 | C |\n| 1 | 3 | 0 | 26.00000 | 0 | 0 |   7.9250 | S |\n| 1 | 1 | 0 | 35.00000 | 1 | 0 |  53.1000 | S |\n| 0 | 3 | 1 | 35.00000 | 0 | 0 |   8.0500 | S |\n| 0 | 3 | 1 | 29.88114 | 0 | 0 |   8.4583 | Q |\n| 0 | 1 | 1 | 54.00000 | 0 | 0 |  51.8625 | S |\n| 0 | 3 | 1 |  2.00000 | 3 | 1 |  21.0750 | S |\n| 1 | 3 | 0 | 27.00000 | 0 | 2 |  11.1333 | S |\n| 1 | 2 | 0 | 14.00000 | 1 | 0 |  30.0708 | C |\n| 1 | 3 | 0 |  4.00000 | 1 | 1 |  16.7000 | S |\n| 1 | 1 | 0 | 58.00000 | 0 | 0 |  26.5500 | S |\n| 0 | 3 | 1 | 20.00000 | 0 | 0 |   8.0500 | S |\n| 0 | 3 | 1 | 39.00000 | 1 | 5 |  31.2750 | S |\n| 0 | 3 | 0 | 14.00000 | 0 | 0 |   7.8542 | S |\n| 1 | 2 | 0 | 55.00000 | 0 | 0 |  16.0000 | S |\n| 0 | 3 | 1 |  2.00000 | 4 | 1 |  29.1250 | Q |\n| 1 | 2 | 1 | 29.88114 | 0 | 0 |  13.0000 | S |\n| 0 | 3 | 0 | 31.00000 | 1 | 0 |  18.0000 | S |\n| 1 | 3 | 0 | 29.88114 | 0 | 0 |   7.2250 | C |\n| 0 | 2 | 1 | 35.00000 | 0 | 0 |  26.0000 | S |\n| 1 | 2 | 1 | 34.00000 | 0 | 0 |  13.0000 | S |\n| 1 | 3 | 0 | 15.00000 | 0 | 0 |   8.0292 | Q |\n| 1 | 1 | 1 | 28.00000 | 0 | 0 |  35.5000 | S |\n| 0 | 3 | 0 |  8.00000 | 3 | 1 |  21.0750 | S |\n| 1 | 3 | 0 | 38.00000 | 1 | 5 |  31.3875 | S |\n| 0 | 3 | 1 | 29.88114 | 0 | 0 |   7.2250 | C |\n| 0 | 1 | 1 | 19.00000 | 3 | 2 | 263.0000 | S |\n| 1 | 3 | 0 | 29.88114 | 0 | 0 |   7.8792 | Q |\n| 0 | 3 | 1 | 29.88114 | 0 | 0 |   7.8958 | S |\n| ⋮ | ⋮ | ⋮ | ⋮ | ⋮ | ⋮ | ⋮ | ⋮ |\n| NA | 3 | 1 | 21.00000 | 0 | 0 |   7.7500 | Q |\n| NA | 3 | 1 |  6.00000 | 3 | 1 |  21.0750 | S |\n| NA | 1 | 1 | 23.00000 | 0 | 0 |  93.5000 | S |\n| NA | 1 | 0 | 51.00000 | 0 | 1 |  39.4000 | S |\n| NA | 3 | 1 | 13.00000 | 0 | 2 |  20.2500 | S |\n| NA | 2 | 1 | 47.00000 | 0 | 0 |  10.5000 | S |\n| NA | 3 | 1 | 29.00000 | 3 | 1 |  22.0250 | S |\n| NA | 1 | 0 | 18.00000 | 1 | 0 |  60.0000 | S |\n| NA | 3 | 1 | 24.00000 | 0 | 0 |   7.2500 | Q |\n| NA | 1 | 0 | 48.00000 | 1 | 1 |  79.2000 | C |\n| NA | 3 | 1 | 22.00000 | 0 | 0 |   7.7750 | S |\n| NA | 3 | 1 | 31.00000 | 0 | 0 |   7.7333 | Q |\n| NA | 1 | 0 | 30.00000 | 0 | 0 | 164.8667 | S |\n| NA | 2 | 1 | 38.00000 | 1 | 0 |  21.0000 | S |\n| NA | 1 | 0 | 22.00000 | 0 | 1 |  59.4000 | C |\n| NA | 1 | 1 | 17.00000 | 0 | 0 |  47.1000 | S |\n| NA | 1 | 1 | 43.00000 | 1 | 0 |  27.7208 | C |\n| NA | 2 | 1 | 20.00000 | 0 | 0 |  13.8625 | C |\n| NA | 2 | 1 | 23.00000 | 1 | 0 |  10.5000 | S |\n| NA | 1 | 1 | 50.00000 | 1 | 1 | 211.5000 | C |\n| NA | 3 | 0 | 29.88114 | 0 | 0 |   7.7208 | Q |\n| NA | 3 | 0 |  3.00000 | 1 | 1 |  13.7750 | S |\n| NA | 3 | 0 | 29.88114 | 0 | 0 |   7.7500 | Q |\n| NA | 1 | 0 | 37.00000 | 1 | 0 |  90.0000 | Q |\n| NA | 3 | 0 | 28.00000 | 0 | 0 |   7.7750 | S |\n| NA | 3 | 1 | 29.88114 | 0 | 0 |   8.0500 | S |\n| NA | 1 | 0 | 39.00000 | 0 | 0 | 108.9000 | C |\n| NA | 3 | 1 | 38.50000 | 0 | 0 |   7.2500 | S |\n| NA | 3 | 1 | 29.88114 | 0 | 0 |   8.0500 | S |\n| NA | 3 | 1 | 29.88114 | 1 | 1 |  22.3583 | C |\n\n",
            "text/html": [
              "<table>\n",
              "<caption>A data.frame: 1309 × 8</caption>\n",
              "<thead>\n",
              "\t<tr><th scope=col>Survived</th><th scope=col>Pclass</th><th scope=col>Sex</th><th scope=col>Age</th><th scope=col>SibSp</th><th scope=col>Parch</th><th scope=col>Fare</th><th scope=col>Embarked</th></tr>\n",
              "\t<tr><th scope=col>&lt;int&gt;</th><th scope=col>&lt;int&gt;</th><th scope=col>&lt;dbl&gt;</th><th scope=col>&lt;dbl&gt;</th><th scope=col>&lt;int&gt;</th><th scope=col>&lt;int&gt;</th><th scope=col>&lt;dbl&gt;</th><th scope=col>&lt;chr&gt;</th></tr>\n",
              "</thead>\n",
              "<tbody>\n",
              "\t<tr><td>0</td><td>3</td><td>1</td><td>22.00000</td><td>1</td><td>0</td><td>  7.2500</td><td>S</td></tr>\n",
              "\t<tr><td>1</td><td>1</td><td>0</td><td>38.00000</td><td>1</td><td>0</td><td> 71.2833</td><td>C</td></tr>\n",
              "\t<tr><td>1</td><td>3</td><td>0</td><td>26.00000</td><td>0</td><td>0</td><td>  7.9250</td><td>S</td></tr>\n",
              "\t<tr><td>1</td><td>1</td><td>0</td><td>35.00000</td><td>1</td><td>0</td><td> 53.1000</td><td>S</td></tr>\n",
              "\t<tr><td>0</td><td>3</td><td>1</td><td>35.00000</td><td>0</td><td>0</td><td>  8.0500</td><td>S</td></tr>\n",
              "\t<tr><td>0</td><td>3</td><td>1</td><td>29.88114</td><td>0</td><td>0</td><td>  8.4583</td><td>Q</td></tr>\n",
              "\t<tr><td>0</td><td>1</td><td>1</td><td>54.00000</td><td>0</td><td>0</td><td> 51.8625</td><td>S</td></tr>\n",
              "\t<tr><td>0</td><td>3</td><td>1</td><td> 2.00000</td><td>3</td><td>1</td><td> 21.0750</td><td>S</td></tr>\n",
              "\t<tr><td>1</td><td>3</td><td>0</td><td>27.00000</td><td>0</td><td>2</td><td> 11.1333</td><td>S</td></tr>\n",
              "\t<tr><td>1</td><td>2</td><td>0</td><td>14.00000</td><td>1</td><td>0</td><td> 30.0708</td><td>C</td></tr>\n",
              "\t<tr><td>1</td><td>3</td><td>0</td><td> 4.00000</td><td>1</td><td>1</td><td> 16.7000</td><td>S</td></tr>\n",
              "\t<tr><td>1</td><td>1</td><td>0</td><td>58.00000</td><td>0</td><td>0</td><td> 26.5500</td><td>S</td></tr>\n",
              "\t<tr><td>0</td><td>3</td><td>1</td><td>20.00000</td><td>0</td><td>0</td><td>  8.0500</td><td>S</td></tr>\n",
              "\t<tr><td>0</td><td>3</td><td>1</td><td>39.00000</td><td>1</td><td>5</td><td> 31.2750</td><td>S</td></tr>\n",
              "\t<tr><td>0</td><td>3</td><td>0</td><td>14.00000</td><td>0</td><td>0</td><td>  7.8542</td><td>S</td></tr>\n",
              "\t<tr><td>1</td><td>2</td><td>0</td><td>55.00000</td><td>0</td><td>0</td><td> 16.0000</td><td>S</td></tr>\n",
              "\t<tr><td>0</td><td>3</td><td>1</td><td> 2.00000</td><td>4</td><td>1</td><td> 29.1250</td><td>Q</td></tr>\n",
              "\t<tr><td>1</td><td>2</td><td>1</td><td>29.88114</td><td>0</td><td>0</td><td> 13.0000</td><td>S</td></tr>\n",
              "\t<tr><td>0</td><td>3</td><td>0</td><td>31.00000</td><td>1</td><td>0</td><td> 18.0000</td><td>S</td></tr>\n",
              "\t<tr><td>1</td><td>3</td><td>0</td><td>29.88114</td><td>0</td><td>0</td><td>  7.2250</td><td>C</td></tr>\n",
              "\t<tr><td>0</td><td>2</td><td>1</td><td>35.00000</td><td>0</td><td>0</td><td> 26.0000</td><td>S</td></tr>\n",
              "\t<tr><td>1</td><td>2</td><td>1</td><td>34.00000</td><td>0</td><td>0</td><td> 13.0000</td><td>S</td></tr>\n",
              "\t<tr><td>1</td><td>3</td><td>0</td><td>15.00000</td><td>0</td><td>0</td><td>  8.0292</td><td>Q</td></tr>\n",
              "\t<tr><td>1</td><td>1</td><td>1</td><td>28.00000</td><td>0</td><td>0</td><td> 35.5000</td><td>S</td></tr>\n",
              "\t<tr><td>0</td><td>3</td><td>0</td><td> 8.00000</td><td>3</td><td>1</td><td> 21.0750</td><td>S</td></tr>\n",
              "\t<tr><td>1</td><td>3</td><td>0</td><td>38.00000</td><td>1</td><td>5</td><td> 31.3875</td><td>S</td></tr>\n",
              "\t<tr><td>0</td><td>3</td><td>1</td><td>29.88114</td><td>0</td><td>0</td><td>  7.2250</td><td>C</td></tr>\n",
              "\t<tr><td>0</td><td>1</td><td>1</td><td>19.00000</td><td>3</td><td>2</td><td>263.0000</td><td>S</td></tr>\n",
              "\t<tr><td>1</td><td>3</td><td>0</td><td>29.88114</td><td>0</td><td>0</td><td>  7.8792</td><td>Q</td></tr>\n",
              "\t<tr><td>0</td><td>3</td><td>1</td><td>29.88114</td><td>0</td><td>0</td><td>  7.8958</td><td>S</td></tr>\n",
              "\t<tr><td>⋮</td><td>⋮</td><td>⋮</td><td>⋮</td><td>⋮</td><td>⋮</td><td>⋮</td><td>⋮</td></tr>\n",
              "\t<tr><td>NA</td><td>3</td><td>1</td><td>21.00000</td><td>0</td><td>0</td><td>  7.7500</td><td>Q</td></tr>\n",
              "\t<tr><td>NA</td><td>3</td><td>1</td><td> 6.00000</td><td>3</td><td>1</td><td> 21.0750</td><td>S</td></tr>\n",
              "\t<tr><td>NA</td><td>1</td><td>1</td><td>23.00000</td><td>0</td><td>0</td><td> 93.5000</td><td>S</td></tr>\n",
              "\t<tr><td>NA</td><td>1</td><td>0</td><td>51.00000</td><td>0</td><td>1</td><td> 39.4000</td><td>S</td></tr>\n",
              "\t<tr><td>NA</td><td>3</td><td>1</td><td>13.00000</td><td>0</td><td>2</td><td> 20.2500</td><td>S</td></tr>\n",
              "\t<tr><td>NA</td><td>2</td><td>1</td><td>47.00000</td><td>0</td><td>0</td><td> 10.5000</td><td>S</td></tr>\n",
              "\t<tr><td>NA</td><td>3</td><td>1</td><td>29.00000</td><td>3</td><td>1</td><td> 22.0250</td><td>S</td></tr>\n",
              "\t<tr><td>NA</td><td>1</td><td>0</td><td>18.00000</td><td>1</td><td>0</td><td> 60.0000</td><td>S</td></tr>\n",
              "\t<tr><td>NA</td><td>3</td><td>1</td><td>24.00000</td><td>0</td><td>0</td><td>  7.2500</td><td>Q</td></tr>\n",
              "\t<tr><td>NA</td><td>1</td><td>0</td><td>48.00000</td><td>1</td><td>1</td><td> 79.2000</td><td>C</td></tr>\n",
              "\t<tr><td>NA</td><td>3</td><td>1</td><td>22.00000</td><td>0</td><td>0</td><td>  7.7750</td><td>S</td></tr>\n",
              "\t<tr><td>NA</td><td>3</td><td>1</td><td>31.00000</td><td>0</td><td>0</td><td>  7.7333</td><td>Q</td></tr>\n",
              "\t<tr><td>NA</td><td>1</td><td>0</td><td>30.00000</td><td>0</td><td>0</td><td>164.8667</td><td>S</td></tr>\n",
              "\t<tr><td>NA</td><td>2</td><td>1</td><td>38.00000</td><td>1</td><td>0</td><td> 21.0000</td><td>S</td></tr>\n",
              "\t<tr><td>NA</td><td>1</td><td>0</td><td>22.00000</td><td>0</td><td>1</td><td> 59.4000</td><td>C</td></tr>\n",
              "\t<tr><td>NA</td><td>1</td><td>1</td><td>17.00000</td><td>0</td><td>0</td><td> 47.1000</td><td>S</td></tr>\n",
              "\t<tr><td>NA</td><td>1</td><td>1</td><td>43.00000</td><td>1</td><td>0</td><td> 27.7208</td><td>C</td></tr>\n",
              "\t<tr><td>NA</td><td>2</td><td>1</td><td>20.00000</td><td>0</td><td>0</td><td> 13.8625</td><td>C</td></tr>\n",
              "\t<tr><td>NA</td><td>2</td><td>1</td><td>23.00000</td><td>1</td><td>0</td><td> 10.5000</td><td>S</td></tr>\n",
              "\t<tr><td>NA</td><td>1</td><td>1</td><td>50.00000</td><td>1</td><td>1</td><td>211.5000</td><td>C</td></tr>\n",
              "\t<tr><td>NA</td><td>3</td><td>0</td><td>29.88114</td><td>0</td><td>0</td><td>  7.7208</td><td>Q</td></tr>\n",
              "\t<tr><td>NA</td><td>3</td><td>0</td><td> 3.00000</td><td>1</td><td>1</td><td> 13.7750</td><td>S</td></tr>\n",
              "\t<tr><td>NA</td><td>3</td><td>0</td><td>29.88114</td><td>0</td><td>0</td><td>  7.7500</td><td>Q</td></tr>\n",
              "\t<tr><td>NA</td><td>1</td><td>0</td><td>37.00000</td><td>1</td><td>0</td><td> 90.0000</td><td>Q</td></tr>\n",
              "\t<tr><td>NA</td><td>3</td><td>0</td><td>28.00000</td><td>0</td><td>0</td><td>  7.7750</td><td>S</td></tr>\n",
              "\t<tr><td>NA</td><td>3</td><td>1</td><td>29.88114</td><td>0</td><td>0</td><td>  8.0500</td><td>S</td></tr>\n",
              "\t<tr><td>NA</td><td>1</td><td>0</td><td>39.00000</td><td>0</td><td>0</td><td>108.9000</td><td>C</td></tr>\n",
              "\t<tr><td>NA</td><td>3</td><td>1</td><td>38.50000</td><td>0</td><td>0</td><td>  7.2500</td><td>S</td></tr>\n",
              "\t<tr><td>NA</td><td>3</td><td>1</td><td>29.88114</td><td>0</td><td>0</td><td>  8.0500</td><td>S</td></tr>\n",
              "\t<tr><td>NA</td><td>3</td><td>1</td><td>29.88114</td><td>1</td><td>1</td><td> 22.3583</td><td>C</td></tr>\n",
              "</tbody>\n",
              "</table>\n"
            ]
          },
          "metadata": {
            "tags": []
          }
        }
      ]
    },
    {
      "cell_type": "code",
      "metadata": {
        "id": "P8FMFx54F17M"
      },
      "source": [
        "titanic$Embarked"
      ],
      "execution_count": null,
      "outputs": []
    },
    {
      "cell_type": "code",
      "metadata": {
        "id": "xZyW4s-SHLZx"
      },
      "source": [
        "#Convertendo váriavel de Embarked de texto para Dummies porque existem mais de \n",
        "#valores diferentes, a função Dummies cria uma nova coluna para cada valor\n",
        "\n",
        "titanic <- titanic %>% \n",
        "  fastDummies::dummy_cols(., \n",
        "                          select_columns = \"Embarked\")\n",
        "\n",
        "\n"
      ],
      "execution_count": 144,
      "outputs": []
    },
    {
      "cell_type": "code",
      "metadata": {
        "id": "GuHIul5QKTck"
      },
      "source": [
        "titanic"
      ],
      "execution_count": null,
      "outputs": []
    },
    {
      "cell_type": "markdown",
      "metadata": {
        "id": "thR9vij_nEAO"
      },
      "source": [
        "## 7. Aplicando modelos"
      ]
    },
    {
      "cell_type": "code",
      "metadata": {
        "id": "rkqZkeXIQXFP",
        "outputId": "a0f8aaaa-3394-4767-fbb1-fbfe688ded25",
        "colab": {
          "base_uri": "https://localhost:8080/"
        }
      },
      "source": [
        "#instalar pacotes\n",
        "\n",
        "library(tidyverse)\n",
        "\n",
        "install.packages(\"tidymodels\")\n",
        "\n",
        "library(tidymodels)\n",
        "\n",
        "library (MASS)\n"
      ],
      "execution_count": 148,
      "outputs": [
        {
          "output_type": "stream",
          "text": [
            "── \u001b[1mAttaching packages\u001b[22m ─────────────────────────────────────── tidyverse 1.3.0 ──\n",
            "\n",
            "\u001b[32m✔\u001b[39m \u001b[34mtibble \u001b[39m 3.0.4     \u001b[32m✔\u001b[39m \u001b[34mpurrr  \u001b[39m 0.3.4\n",
            "\u001b[32m✔\u001b[39m \u001b[34mtidyr  \u001b[39m 1.1.2     \u001b[32m✔\u001b[39m \u001b[34mstringr\u001b[39m 1.4.0\n",
            "\u001b[32m✔\u001b[39m \u001b[34mreadr  \u001b[39m 1.4.0     \u001b[32m✔\u001b[39m \u001b[34mforcats\u001b[39m 0.5.0\n",
            "\n",
            "── \u001b[1mConflicts\u001b[22m ────────────────────────────────────────── tidyverse_conflicts() ──\n",
            "\u001b[31m✖\u001b[39m \u001b[34mplyr\u001b[39m::\u001b[32marrange()\u001b[39m         masks \u001b[34mdplyr\u001b[39m::arrange()\n",
            "\u001b[31m✖\u001b[39m \u001b[34mreadr\u001b[39m::\u001b[32mcol_factor()\u001b[39m     masks \u001b[34mscales\u001b[39m::col_factor()\n",
            "\u001b[31m✖\u001b[39m \u001b[34mrandomForest\u001b[39m::\u001b[32mcombine()\u001b[39m masks \u001b[34mdplyr\u001b[39m::combine()\n",
            "\u001b[31m✖\u001b[39m \u001b[34mpurrr\u001b[39m::\u001b[32mcompact()\u001b[39m        masks \u001b[34mplyr\u001b[39m::compact()\n",
            "\u001b[31m✖\u001b[39m \u001b[34mplyr\u001b[39m::\u001b[32mcount()\u001b[39m           masks \u001b[34mdplyr\u001b[39m::count()\n",
            "\u001b[31m✖\u001b[39m \u001b[34mpurrr\u001b[39m::\u001b[32mdiscard()\u001b[39m        masks \u001b[34mscales\u001b[39m::discard()\n",
            "\u001b[31m✖\u001b[39m \u001b[34mplyr\u001b[39m::\u001b[32mfailwith()\u001b[39m        masks \u001b[34mdplyr\u001b[39m::failwith()\n",
            "\u001b[31m✖\u001b[39m \u001b[34mdplyr\u001b[39m::\u001b[32mfilter()\u001b[39m         masks \u001b[34mstats\u001b[39m::filter()\n",
            "\u001b[31m✖\u001b[39m \u001b[34mplyr\u001b[39m::\u001b[32mid()\u001b[39m              masks \u001b[34mdplyr\u001b[39m::id()\n",
            "\u001b[31m✖\u001b[39m \u001b[34mdplyr\u001b[39m::\u001b[32mlag()\u001b[39m            masks \u001b[34mstats\u001b[39m::lag()\n",
            "\u001b[31m✖\u001b[39m \u001b[34mrandomForest\u001b[39m::\u001b[32mmargin()\u001b[39m  masks \u001b[34mggplot2\u001b[39m::margin()\n",
            "\u001b[31m✖\u001b[39m \u001b[34mplyr\u001b[39m::\u001b[32mmutate()\u001b[39m          masks \u001b[34mdplyr\u001b[39m::mutate()\n",
            "\u001b[31m✖\u001b[39m \u001b[34mplyr\u001b[39m::\u001b[32mrename()\u001b[39m          masks \u001b[34mdplyr\u001b[39m::rename()\n",
            "\u001b[31m✖\u001b[39m \u001b[34mplyr\u001b[39m::\u001b[32msummarise()\u001b[39m       masks \u001b[34mdplyr\u001b[39m::summarise()\n",
            "\u001b[31m✖\u001b[39m \u001b[34mplyr\u001b[39m::\u001b[32msummarize()\u001b[39m       masks \u001b[34mdplyr\u001b[39m::summarize()\n",
            "\n",
            "Installing package into ‘/usr/local/lib/R/site-library’\n",
            "(as ‘lib’ is unspecified)\n",
            "\n",
            "also installing the dependencies ‘numDeriv’, ‘SQUAREM’, ‘lava’, ‘listenv’, ‘parallelly’, ‘prodlim’, ‘future’, ‘warp’, ‘lhs’, ‘iterators’, ‘DiceDesign’, ‘globals’, ‘gower’, ‘ipred’, ‘timeDate’, ‘furrr’, ‘slider’, ‘GPfit’, ‘foreach’, ‘hardhat’, ‘pROC’, ‘dials’, ‘infer’, ‘modeldata’, ‘parsnip’, ‘recipes’, ‘rsample’, ‘tune’, ‘workflows’, ‘yardstick’\n",
            "\n",
            "\n",
            "── \u001b[1mAttaching packages\u001b[22m ────────────────────────────────────── tidymodels 0.1.1 ──\n",
            "\n",
            "\u001b[32m✔\u001b[39m \u001b[34mbroom    \u001b[39m 0.7.2      \u001b[32m✔\u001b[39m \u001b[34mrecipes  \u001b[39m 0.1.15\n",
            "\u001b[32m✔\u001b[39m \u001b[34mdials    \u001b[39m 0.0.9      \u001b[32m✔\u001b[39m \u001b[34mrsample  \u001b[39m 0.0.8 \n",
            "\u001b[32m✔\u001b[39m \u001b[34minfer    \u001b[39m 0.5.3      \u001b[32m✔\u001b[39m \u001b[34mtune     \u001b[39m 0.1.1 \n",
            "\u001b[32m✔\u001b[39m \u001b[34mmodeldata\u001b[39m 0.1.0      \u001b[32m✔\u001b[39m \u001b[34mworkflows\u001b[39m 0.2.1 \n",
            "\u001b[32m✔\u001b[39m \u001b[34mparsnip  \u001b[39m 0.1.4      \u001b[32m✔\u001b[39m \u001b[34myardstick\u001b[39m 0.0.7 \n",
            "\n",
            "── \u001b[1mConflicts\u001b[22m ───────────────────────────────────────── tidymodels_conflicts() ──\n",
            "\u001b[31m✖\u001b[39m \u001b[34mplyr\u001b[39m::\u001b[32marrange()\u001b[39m         masks \u001b[34mdplyr\u001b[39m::arrange()\n",
            "\u001b[31m✖\u001b[39m \u001b[34mrandomForest\u001b[39m::\u001b[32mcombine()\u001b[39m masks \u001b[34mdplyr\u001b[39m::combine()\n",
            "\u001b[31m✖\u001b[39m \u001b[34mpurrr\u001b[39m::\u001b[32mcompact()\u001b[39m        masks \u001b[34mplyr\u001b[39m::compact()\n",
            "\u001b[31m✖\u001b[39m \u001b[34mplyr\u001b[39m::\u001b[32mcount()\u001b[39m           masks \u001b[34mdplyr\u001b[39m::count()\n",
            "\u001b[31m✖\u001b[39m \u001b[34mpurrr\u001b[39m::\u001b[32mdiscard()\u001b[39m        masks \u001b[34mscales\u001b[39m::discard()\n",
            "\u001b[31m✖\u001b[39m \u001b[34mplyr\u001b[39m::\u001b[32mfailwith()\u001b[39m        masks \u001b[34mdplyr\u001b[39m::failwith()\n",
            "\u001b[31m✖\u001b[39m \u001b[34mdplyr\u001b[39m::\u001b[32mfilter()\u001b[39m         masks \u001b[34mstats\u001b[39m::filter()\n",
            "\u001b[31m✖\u001b[39m \u001b[34mrecipes\u001b[39m::\u001b[32mfixed()\u001b[39m        masks \u001b[34mstringr\u001b[39m::fixed()\n",
            "\u001b[31m✖\u001b[39m \u001b[34mplyr\u001b[39m::\u001b[32mid()\u001b[39m              masks \u001b[34mdplyr\u001b[39m::id()\n",
            "\u001b[31m✖\u001b[39m \u001b[34mdplyr\u001b[39m::\u001b[32mlag()\u001b[39m            masks \u001b[34mstats\u001b[39m::lag()\n",
            "\u001b[31m✖\u001b[39m \u001b[34mrandomForest\u001b[39m::\u001b[32mmargin()\u001b[39m  masks \u001b[34mggplot2\u001b[39m::margin()\n",
            "\u001b[31m✖\u001b[39m \u001b[34mplyr\u001b[39m::\u001b[32mmutate()\u001b[39m          masks \u001b[34mdplyr\u001b[39m::mutate()\n",
            "\u001b[31m✖\u001b[39m \u001b[34mplyr\u001b[39m::\u001b[32mrename()\u001b[39m          masks \u001b[34mdplyr\u001b[39m::rename()\n",
            "\u001b[31m✖\u001b[39m \u001b[34myardstick\u001b[39m::\u001b[32mspec()\u001b[39m       masks \u001b[34mreadr\u001b[39m::spec()\n",
            "\u001b[31m✖\u001b[39m \u001b[34mrecipes\u001b[39m::\u001b[32mstep()\u001b[39m         masks \u001b[34mstats\u001b[39m::step()\n",
            "\u001b[31m✖\u001b[39m \u001b[34mplyr\u001b[39m::\u001b[32msummarise()\u001b[39m       masks \u001b[34mdplyr\u001b[39m::summarise()\n",
            "\u001b[31m✖\u001b[39m \u001b[34mplyr\u001b[39m::\u001b[32msummarize()\u001b[39m       masks \u001b[34mdplyr\u001b[39m::summarize()\n",
            "\n",
            "\n",
            "Attaching package: ‘MASS’\n",
            "\n",
            "\n",
            "The following object is masked from ‘package:dplyr’:\n",
            "\n",
            "    select\n",
            "\n",
            "\n"
          ],
          "name": "stderr"
        }
      ]
    },
    {
      "cell_type": "code",
      "metadata": {
        "id": "NuTsLRjNlV14"
      },
      "source": [
        "#Recuperando os dados de treino e teste\n",
        "train <- titanic[1:891,]\n",
        "test <- titanic[892:1309,]"
      ],
      "execution_count": 149,
      "outputs": []
    },
    {
      "cell_type": "code",
      "metadata": {
        "id": "1-GFRJeolie6"
      },
      "source": [
        "#Verificando\n",
        "test"
      ],
      "execution_count": null,
      "outputs": []
    },
    {
      "cell_type": "code",
      "metadata": {
        "id": "EIZuuBd4SWLq",
        "outputId": "10138c3e-8bd5-4f92-ec44-29842bfc8efa",
        "colab": {
          "base_uri": "https://localhost:8080/",
          "height": 1000
        }
      },
      "source": [
        "train"
      ],
      "execution_count": 153,
      "outputs": [
        {
          "output_type": "display_data",
          "data": {
            "text/plain": [
              "    Survived Pclass Sex Age      SibSp Parch Fare     Embarked Embarked_\n",
              "1   0        3      1   22.00000 1     0       7.2500 S        0        \n",
              "2   1        1      0   38.00000 1     0      71.2833 C        0        \n",
              "3   1        3      0   26.00000 0     0       7.9250 S        0        \n",
              "4   1        1      0   35.00000 1     0      53.1000 S        0        \n",
              "5   0        3      1   35.00000 0     0       8.0500 S        0        \n",
              "6   0        3      1   29.88114 0     0       8.4583 Q        0        \n",
              "7   0        1      1   54.00000 0     0      51.8625 S        0        \n",
              "8   0        3      1    2.00000 3     1      21.0750 S        0        \n",
              "9   1        3      0   27.00000 0     2      11.1333 S        0        \n",
              "10  1        2      0   14.00000 1     0      30.0708 C        0        \n",
              "11  1        3      0    4.00000 1     1      16.7000 S        0        \n",
              "12  1        1      0   58.00000 0     0      26.5500 S        0        \n",
              "13  0        3      1   20.00000 0     0       8.0500 S        0        \n",
              "14  0        3      1   39.00000 1     5      31.2750 S        0        \n",
              "15  0        3      0   14.00000 0     0       7.8542 S        0        \n",
              "16  1        2      0   55.00000 0     0      16.0000 S        0        \n",
              "17  0        3      1    2.00000 4     1      29.1250 Q        0        \n",
              "18  1        2      1   29.88114 0     0      13.0000 S        0        \n",
              "19  0        3      0   31.00000 1     0      18.0000 S        0        \n",
              "20  1        3      0   29.88114 0     0       7.2250 C        0        \n",
              "21  0        2      1   35.00000 0     0      26.0000 S        0        \n",
              "22  1        2      1   34.00000 0     0      13.0000 S        0        \n",
              "23  1        3      0   15.00000 0     0       8.0292 Q        0        \n",
              "24  1        1      1   28.00000 0     0      35.5000 S        0        \n",
              "25  0        3      0    8.00000 3     1      21.0750 S        0        \n",
              "26  1        3      0   38.00000 1     5      31.3875 S        0        \n",
              "27  0        3      1   29.88114 0     0       7.2250 C        0        \n",
              "28  0        1      1   19.00000 3     2     263.0000 S        0        \n",
              "29  1        3      0   29.88114 0     0       7.8792 Q        0        \n",
              "30  0        3      1   29.88114 0     0       7.8958 S        0        \n",
              "⋮   ⋮        ⋮      ⋮   ⋮        ⋮     ⋮     ⋮        ⋮        ⋮        \n",
              "862 0        2      1   21.00000 1     0     11.5000  S        0        \n",
              "863 1        1      0   48.00000 0     0     25.9292  S        0        \n",
              "864 0        3      0   29.88114 8     2     69.5500  S        0        \n",
              "865 0        2      1   24.00000 0     0     13.0000  S        0        \n",
              "866 1        2      0   42.00000 0     0     13.0000  S        0        \n",
              "867 1        2      0   27.00000 1     0     13.8583  C        0        \n",
              "868 0        1      1   31.00000 0     0     50.4958  S        0        \n",
              "869 0        3      1   29.88114 0     0      9.5000  S        0        \n",
              "870 1        3      1    4.00000 1     1     11.1333  S        0        \n",
              "871 0        3      1   26.00000 0     0      7.8958  S        0        \n",
              "872 1        1      0   47.00000 1     1     52.5542  S        0        \n",
              "873 0        1      1   33.00000 0     0      5.0000  S        0        \n",
              "874 0        3      1   47.00000 0     0      9.0000  S        0        \n",
              "875 1        2      0   28.00000 1     0     24.0000  C        0        \n",
              "876 1        3      0   15.00000 0     0      7.2250  C        0        \n",
              "877 0        3      1   20.00000 0     0      9.8458  S        0        \n",
              "878 0        3      1   19.00000 0     0      7.8958  S        0        \n",
              "879 0        3      1   29.88114 0     0      7.8958  S        0        \n",
              "880 1        1      0   56.00000 0     1     83.1583  C        0        \n",
              "881 1        2      0   25.00000 0     1     26.0000  S        0        \n",
              "882 0        3      1   33.00000 0     0      7.8958  S        0        \n",
              "883 0        3      0   22.00000 0     0     10.5167  S        0        \n",
              "884 0        2      1   28.00000 0     0     10.5000  S        0        \n",
              "885 0        3      1   25.00000 0     0      7.0500  S        0        \n",
              "886 0        3      0   39.00000 0     5     29.1250  Q        0        \n",
              "887 0        2      1   27.00000 0     0     13.0000  S        0        \n",
              "888 1        1      0   19.00000 0     0     30.0000  S        0        \n",
              "889 0        3      0   29.88114 1     2     23.4500  S        0        \n",
              "890 1        1      1   26.00000 0     0     30.0000  C        0        \n",
              "891 0        3      1   32.00000 0     0      7.7500  Q        0        \n",
              "    Embarked_C Embarked_Q Embarked_S\n",
              "1   0          0          1         \n",
              "2   1          0          0         \n",
              "3   0          0          1         \n",
              "4   0          0          1         \n",
              "5   0          0          1         \n",
              "6   0          1          0         \n",
              "7   0          0          1         \n",
              "8   0          0          1         \n",
              "9   0          0          1         \n",
              "10  1          0          0         \n",
              "11  0          0          1         \n",
              "12  0          0          1         \n",
              "13  0          0          1         \n",
              "14  0          0          1         \n",
              "15  0          0          1         \n",
              "16  0          0          1         \n",
              "17  0          1          0         \n",
              "18  0          0          1         \n",
              "19  0          0          1         \n",
              "20  1          0          0         \n",
              "21  0          0          1         \n",
              "22  0          0          1         \n",
              "23  0          1          0         \n",
              "24  0          0          1         \n",
              "25  0          0          1         \n",
              "26  0          0          1         \n",
              "27  1          0          0         \n",
              "28  0          0          1         \n",
              "29  0          1          0         \n",
              "30  0          0          1         \n",
              "⋮   ⋮          ⋮          ⋮         \n",
              "862 0          0          1         \n",
              "863 0          0          1         \n",
              "864 0          0          1         \n",
              "865 0          0          1         \n",
              "866 0          0          1         \n",
              "867 1          0          0         \n",
              "868 0          0          1         \n",
              "869 0          0          1         \n",
              "870 0          0          1         \n",
              "871 0          0          1         \n",
              "872 0          0          1         \n",
              "873 0          0          1         \n",
              "874 0          0          1         \n",
              "875 1          0          0         \n",
              "876 1          0          0         \n",
              "877 0          0          1         \n",
              "878 0          0          1         \n",
              "879 0          0          1         \n",
              "880 1          0          0         \n",
              "881 0          0          1         \n",
              "882 0          0          1         \n",
              "883 0          0          1         \n",
              "884 0          0          1         \n",
              "885 0          0          1         \n",
              "886 0          1          0         \n",
              "887 0          0          1         \n",
              "888 0          0          1         \n",
              "889 0          0          1         \n",
              "890 1          0          0         \n",
              "891 0          1          0         "
            ],
            "text/latex": "A data.frame: 891 × 12\n\\begin{tabular}{r|llllllllllll}\n  & Survived & Pclass & Sex & Age & SibSp & Parch & Fare & Embarked & Embarked\\_ & Embarked\\_C & Embarked\\_Q & Embarked\\_S\\\\\n  & <int> & <int> & <dbl> & <dbl> & <int> & <int> & <dbl> & <chr> & <int> & <int> & <int> & <int>\\\\\n\\hline\n\t1 & 0 & 3 & 1 & 22.00000 & 1 & 0 &   7.2500 & S & 0 & 0 & 0 & 1\\\\\n\t2 & 1 & 1 & 0 & 38.00000 & 1 & 0 &  71.2833 & C & 0 & 1 & 0 & 0\\\\\n\t3 & 1 & 3 & 0 & 26.00000 & 0 & 0 &   7.9250 & S & 0 & 0 & 0 & 1\\\\\n\t4 & 1 & 1 & 0 & 35.00000 & 1 & 0 &  53.1000 & S & 0 & 0 & 0 & 1\\\\\n\t5 & 0 & 3 & 1 & 35.00000 & 0 & 0 &   8.0500 & S & 0 & 0 & 0 & 1\\\\\n\t6 & 0 & 3 & 1 & 29.88114 & 0 & 0 &   8.4583 & Q & 0 & 0 & 1 & 0\\\\\n\t7 & 0 & 1 & 1 & 54.00000 & 0 & 0 &  51.8625 & S & 0 & 0 & 0 & 1\\\\\n\t8 & 0 & 3 & 1 &  2.00000 & 3 & 1 &  21.0750 & S & 0 & 0 & 0 & 1\\\\\n\t9 & 1 & 3 & 0 & 27.00000 & 0 & 2 &  11.1333 & S & 0 & 0 & 0 & 1\\\\\n\t10 & 1 & 2 & 0 & 14.00000 & 1 & 0 &  30.0708 & C & 0 & 1 & 0 & 0\\\\\n\t11 & 1 & 3 & 0 &  4.00000 & 1 & 1 &  16.7000 & S & 0 & 0 & 0 & 1\\\\\n\t12 & 1 & 1 & 0 & 58.00000 & 0 & 0 &  26.5500 & S & 0 & 0 & 0 & 1\\\\\n\t13 & 0 & 3 & 1 & 20.00000 & 0 & 0 &   8.0500 & S & 0 & 0 & 0 & 1\\\\\n\t14 & 0 & 3 & 1 & 39.00000 & 1 & 5 &  31.2750 & S & 0 & 0 & 0 & 1\\\\\n\t15 & 0 & 3 & 0 & 14.00000 & 0 & 0 &   7.8542 & S & 0 & 0 & 0 & 1\\\\\n\t16 & 1 & 2 & 0 & 55.00000 & 0 & 0 &  16.0000 & S & 0 & 0 & 0 & 1\\\\\n\t17 & 0 & 3 & 1 &  2.00000 & 4 & 1 &  29.1250 & Q & 0 & 0 & 1 & 0\\\\\n\t18 & 1 & 2 & 1 & 29.88114 & 0 & 0 &  13.0000 & S & 0 & 0 & 0 & 1\\\\\n\t19 & 0 & 3 & 0 & 31.00000 & 1 & 0 &  18.0000 & S & 0 & 0 & 0 & 1\\\\\n\t20 & 1 & 3 & 0 & 29.88114 & 0 & 0 &   7.2250 & C & 0 & 1 & 0 & 0\\\\\n\t21 & 0 & 2 & 1 & 35.00000 & 0 & 0 &  26.0000 & S & 0 & 0 & 0 & 1\\\\\n\t22 & 1 & 2 & 1 & 34.00000 & 0 & 0 &  13.0000 & S & 0 & 0 & 0 & 1\\\\\n\t23 & 1 & 3 & 0 & 15.00000 & 0 & 0 &   8.0292 & Q & 0 & 0 & 1 & 0\\\\\n\t24 & 1 & 1 & 1 & 28.00000 & 0 & 0 &  35.5000 & S & 0 & 0 & 0 & 1\\\\\n\t25 & 0 & 3 & 0 &  8.00000 & 3 & 1 &  21.0750 & S & 0 & 0 & 0 & 1\\\\\n\t26 & 1 & 3 & 0 & 38.00000 & 1 & 5 &  31.3875 & S & 0 & 0 & 0 & 1\\\\\n\t27 & 0 & 3 & 1 & 29.88114 & 0 & 0 &   7.2250 & C & 0 & 1 & 0 & 0\\\\\n\t28 & 0 & 1 & 1 & 19.00000 & 3 & 2 & 263.0000 & S & 0 & 0 & 0 & 1\\\\\n\t29 & 1 & 3 & 0 & 29.88114 & 0 & 0 &   7.8792 & Q & 0 & 0 & 1 & 0\\\\\n\t30 & 0 & 3 & 1 & 29.88114 & 0 & 0 &   7.8958 & S & 0 & 0 & 0 & 1\\\\\n\t⋮ & ⋮ & ⋮ & ⋮ & ⋮ & ⋮ & ⋮ & ⋮ & ⋮ & ⋮ & ⋮ & ⋮ & ⋮\\\\\n\t862 & 0 & 2 & 1 & 21.00000 & 1 & 0 & 11.5000 & S & 0 & 0 & 0 & 1\\\\\n\t863 & 1 & 1 & 0 & 48.00000 & 0 & 0 & 25.9292 & S & 0 & 0 & 0 & 1\\\\\n\t864 & 0 & 3 & 0 & 29.88114 & 8 & 2 & 69.5500 & S & 0 & 0 & 0 & 1\\\\\n\t865 & 0 & 2 & 1 & 24.00000 & 0 & 0 & 13.0000 & S & 0 & 0 & 0 & 1\\\\\n\t866 & 1 & 2 & 0 & 42.00000 & 0 & 0 & 13.0000 & S & 0 & 0 & 0 & 1\\\\\n\t867 & 1 & 2 & 0 & 27.00000 & 1 & 0 & 13.8583 & C & 0 & 1 & 0 & 0\\\\\n\t868 & 0 & 1 & 1 & 31.00000 & 0 & 0 & 50.4958 & S & 0 & 0 & 0 & 1\\\\\n\t869 & 0 & 3 & 1 & 29.88114 & 0 & 0 &  9.5000 & S & 0 & 0 & 0 & 1\\\\\n\t870 & 1 & 3 & 1 &  4.00000 & 1 & 1 & 11.1333 & S & 0 & 0 & 0 & 1\\\\\n\t871 & 0 & 3 & 1 & 26.00000 & 0 & 0 &  7.8958 & S & 0 & 0 & 0 & 1\\\\\n\t872 & 1 & 1 & 0 & 47.00000 & 1 & 1 & 52.5542 & S & 0 & 0 & 0 & 1\\\\\n\t873 & 0 & 1 & 1 & 33.00000 & 0 & 0 &  5.0000 & S & 0 & 0 & 0 & 1\\\\\n\t874 & 0 & 3 & 1 & 47.00000 & 0 & 0 &  9.0000 & S & 0 & 0 & 0 & 1\\\\\n\t875 & 1 & 2 & 0 & 28.00000 & 1 & 0 & 24.0000 & C & 0 & 1 & 0 & 0\\\\\n\t876 & 1 & 3 & 0 & 15.00000 & 0 & 0 &  7.2250 & C & 0 & 1 & 0 & 0\\\\\n\t877 & 0 & 3 & 1 & 20.00000 & 0 & 0 &  9.8458 & S & 0 & 0 & 0 & 1\\\\\n\t878 & 0 & 3 & 1 & 19.00000 & 0 & 0 &  7.8958 & S & 0 & 0 & 0 & 1\\\\\n\t879 & 0 & 3 & 1 & 29.88114 & 0 & 0 &  7.8958 & S & 0 & 0 & 0 & 1\\\\\n\t880 & 1 & 1 & 0 & 56.00000 & 0 & 1 & 83.1583 & C & 0 & 1 & 0 & 0\\\\\n\t881 & 1 & 2 & 0 & 25.00000 & 0 & 1 & 26.0000 & S & 0 & 0 & 0 & 1\\\\\n\t882 & 0 & 3 & 1 & 33.00000 & 0 & 0 &  7.8958 & S & 0 & 0 & 0 & 1\\\\\n\t883 & 0 & 3 & 0 & 22.00000 & 0 & 0 & 10.5167 & S & 0 & 0 & 0 & 1\\\\\n\t884 & 0 & 2 & 1 & 28.00000 & 0 & 0 & 10.5000 & S & 0 & 0 & 0 & 1\\\\\n\t885 & 0 & 3 & 1 & 25.00000 & 0 & 0 &  7.0500 & S & 0 & 0 & 0 & 1\\\\\n\t886 & 0 & 3 & 0 & 39.00000 & 0 & 5 & 29.1250 & Q & 0 & 0 & 1 & 0\\\\\n\t887 & 0 & 2 & 1 & 27.00000 & 0 & 0 & 13.0000 & S & 0 & 0 & 0 & 1\\\\\n\t888 & 1 & 1 & 0 & 19.00000 & 0 & 0 & 30.0000 & S & 0 & 0 & 0 & 1\\\\\n\t889 & 0 & 3 & 0 & 29.88114 & 1 & 2 & 23.4500 & S & 0 & 0 & 0 & 1\\\\\n\t890 & 1 & 1 & 1 & 26.00000 & 0 & 0 & 30.0000 & C & 0 & 1 & 0 & 0\\\\\n\t891 & 0 & 3 & 1 & 32.00000 & 0 & 0 &  7.7500 & Q & 0 & 0 & 1 & 0\\\\\n\\end{tabular}\n",
            "text/markdown": "\nA data.frame: 891 × 12\n\n| <!--/--> | Survived &lt;int&gt; | Pclass &lt;int&gt; | Sex &lt;dbl&gt; | Age &lt;dbl&gt; | SibSp &lt;int&gt; | Parch &lt;int&gt; | Fare &lt;dbl&gt; | Embarked &lt;chr&gt; | Embarked_ &lt;int&gt; | Embarked_C &lt;int&gt; | Embarked_Q &lt;int&gt; | Embarked_S &lt;int&gt; |\n|---|---|---|---|---|---|---|---|---|---|---|---|---|\n| 1 | 0 | 3 | 1 | 22.00000 | 1 | 0 |   7.2500 | S | 0 | 0 | 0 | 1 |\n| 2 | 1 | 1 | 0 | 38.00000 | 1 | 0 |  71.2833 | C | 0 | 1 | 0 | 0 |\n| 3 | 1 | 3 | 0 | 26.00000 | 0 | 0 |   7.9250 | S | 0 | 0 | 0 | 1 |\n| 4 | 1 | 1 | 0 | 35.00000 | 1 | 0 |  53.1000 | S | 0 | 0 | 0 | 1 |\n| 5 | 0 | 3 | 1 | 35.00000 | 0 | 0 |   8.0500 | S | 0 | 0 | 0 | 1 |\n| 6 | 0 | 3 | 1 | 29.88114 | 0 | 0 |   8.4583 | Q | 0 | 0 | 1 | 0 |\n| 7 | 0 | 1 | 1 | 54.00000 | 0 | 0 |  51.8625 | S | 0 | 0 | 0 | 1 |\n| 8 | 0 | 3 | 1 |  2.00000 | 3 | 1 |  21.0750 | S | 0 | 0 | 0 | 1 |\n| 9 | 1 | 3 | 0 | 27.00000 | 0 | 2 |  11.1333 | S | 0 | 0 | 0 | 1 |\n| 10 | 1 | 2 | 0 | 14.00000 | 1 | 0 |  30.0708 | C | 0 | 1 | 0 | 0 |\n| 11 | 1 | 3 | 0 |  4.00000 | 1 | 1 |  16.7000 | S | 0 | 0 | 0 | 1 |\n| 12 | 1 | 1 | 0 | 58.00000 | 0 | 0 |  26.5500 | S | 0 | 0 | 0 | 1 |\n| 13 | 0 | 3 | 1 | 20.00000 | 0 | 0 |   8.0500 | S | 0 | 0 | 0 | 1 |\n| 14 | 0 | 3 | 1 | 39.00000 | 1 | 5 |  31.2750 | S | 0 | 0 | 0 | 1 |\n| 15 | 0 | 3 | 0 | 14.00000 | 0 | 0 |   7.8542 | S | 0 | 0 | 0 | 1 |\n| 16 | 1 | 2 | 0 | 55.00000 | 0 | 0 |  16.0000 | S | 0 | 0 | 0 | 1 |\n| 17 | 0 | 3 | 1 |  2.00000 | 4 | 1 |  29.1250 | Q | 0 | 0 | 1 | 0 |\n| 18 | 1 | 2 | 1 | 29.88114 | 0 | 0 |  13.0000 | S | 0 | 0 | 0 | 1 |\n| 19 | 0 | 3 | 0 | 31.00000 | 1 | 0 |  18.0000 | S | 0 | 0 | 0 | 1 |\n| 20 | 1 | 3 | 0 | 29.88114 | 0 | 0 |   7.2250 | C | 0 | 1 | 0 | 0 |\n| 21 | 0 | 2 | 1 | 35.00000 | 0 | 0 |  26.0000 | S | 0 | 0 | 0 | 1 |\n| 22 | 1 | 2 | 1 | 34.00000 | 0 | 0 |  13.0000 | S | 0 | 0 | 0 | 1 |\n| 23 | 1 | 3 | 0 | 15.00000 | 0 | 0 |   8.0292 | Q | 0 | 0 | 1 | 0 |\n| 24 | 1 | 1 | 1 | 28.00000 | 0 | 0 |  35.5000 | S | 0 | 0 | 0 | 1 |\n| 25 | 0 | 3 | 0 |  8.00000 | 3 | 1 |  21.0750 | S | 0 | 0 | 0 | 1 |\n| 26 | 1 | 3 | 0 | 38.00000 | 1 | 5 |  31.3875 | S | 0 | 0 | 0 | 1 |\n| 27 | 0 | 3 | 1 | 29.88114 | 0 | 0 |   7.2250 | C | 0 | 1 | 0 | 0 |\n| 28 | 0 | 1 | 1 | 19.00000 | 3 | 2 | 263.0000 | S | 0 | 0 | 0 | 1 |\n| 29 | 1 | 3 | 0 | 29.88114 | 0 | 0 |   7.8792 | Q | 0 | 0 | 1 | 0 |\n| 30 | 0 | 3 | 1 | 29.88114 | 0 | 0 |   7.8958 | S | 0 | 0 | 0 | 1 |\n| ⋮ | ⋮ | ⋮ | ⋮ | ⋮ | ⋮ | ⋮ | ⋮ | ⋮ | ⋮ | ⋮ | ⋮ | ⋮ |\n| 862 | 0 | 2 | 1 | 21.00000 | 1 | 0 | 11.5000 | S | 0 | 0 | 0 | 1 |\n| 863 | 1 | 1 | 0 | 48.00000 | 0 | 0 | 25.9292 | S | 0 | 0 | 0 | 1 |\n| 864 | 0 | 3 | 0 | 29.88114 | 8 | 2 | 69.5500 | S | 0 | 0 | 0 | 1 |\n| 865 | 0 | 2 | 1 | 24.00000 | 0 | 0 | 13.0000 | S | 0 | 0 | 0 | 1 |\n| 866 | 1 | 2 | 0 | 42.00000 | 0 | 0 | 13.0000 | S | 0 | 0 | 0 | 1 |\n| 867 | 1 | 2 | 0 | 27.00000 | 1 | 0 | 13.8583 | C | 0 | 1 | 0 | 0 |\n| 868 | 0 | 1 | 1 | 31.00000 | 0 | 0 | 50.4958 | S | 0 | 0 | 0 | 1 |\n| 869 | 0 | 3 | 1 | 29.88114 | 0 | 0 |  9.5000 | S | 0 | 0 | 0 | 1 |\n| 870 | 1 | 3 | 1 |  4.00000 | 1 | 1 | 11.1333 | S | 0 | 0 | 0 | 1 |\n| 871 | 0 | 3 | 1 | 26.00000 | 0 | 0 |  7.8958 | S | 0 | 0 | 0 | 1 |\n| 872 | 1 | 1 | 0 | 47.00000 | 1 | 1 | 52.5542 | S | 0 | 0 | 0 | 1 |\n| 873 | 0 | 1 | 1 | 33.00000 | 0 | 0 |  5.0000 | S | 0 | 0 | 0 | 1 |\n| 874 | 0 | 3 | 1 | 47.00000 | 0 | 0 |  9.0000 | S | 0 | 0 | 0 | 1 |\n| 875 | 1 | 2 | 0 | 28.00000 | 1 | 0 | 24.0000 | C | 0 | 1 | 0 | 0 |\n| 876 | 1 | 3 | 0 | 15.00000 | 0 | 0 |  7.2250 | C | 0 | 1 | 0 | 0 |\n| 877 | 0 | 3 | 1 | 20.00000 | 0 | 0 |  9.8458 | S | 0 | 0 | 0 | 1 |\n| 878 | 0 | 3 | 1 | 19.00000 | 0 | 0 |  7.8958 | S | 0 | 0 | 0 | 1 |\n| 879 | 0 | 3 | 1 | 29.88114 | 0 | 0 |  7.8958 | S | 0 | 0 | 0 | 1 |\n| 880 | 1 | 1 | 0 | 56.00000 | 0 | 1 | 83.1583 | C | 0 | 1 | 0 | 0 |\n| 881 | 1 | 2 | 0 | 25.00000 | 0 | 1 | 26.0000 | S | 0 | 0 | 0 | 1 |\n| 882 | 0 | 3 | 1 | 33.00000 | 0 | 0 |  7.8958 | S | 0 | 0 | 0 | 1 |\n| 883 | 0 | 3 | 0 | 22.00000 | 0 | 0 | 10.5167 | S | 0 | 0 | 0 | 1 |\n| 884 | 0 | 2 | 1 | 28.00000 | 0 | 0 | 10.5000 | S | 0 | 0 | 0 | 1 |\n| 885 | 0 | 3 | 1 | 25.00000 | 0 | 0 |  7.0500 | S | 0 | 0 | 0 | 1 |\n| 886 | 0 | 3 | 0 | 39.00000 | 0 | 5 | 29.1250 | Q | 0 | 0 | 1 | 0 |\n| 887 | 0 | 2 | 1 | 27.00000 | 0 | 0 | 13.0000 | S | 0 | 0 | 0 | 1 |\n| 888 | 1 | 1 | 0 | 19.00000 | 0 | 0 | 30.0000 | S | 0 | 0 | 0 | 1 |\n| 889 | 0 | 3 | 0 | 29.88114 | 1 | 2 | 23.4500 | S | 0 | 0 | 0 | 1 |\n| 890 | 1 | 1 | 1 | 26.00000 | 0 | 0 | 30.0000 | C | 0 | 1 | 0 | 0 |\n| 891 | 0 | 3 | 1 | 32.00000 | 0 | 0 |  7.7500 | Q | 0 | 0 | 1 | 0 |\n\n",
            "text/html": [
              "<table>\n",
              "<caption>A data.frame: 891 × 12</caption>\n",
              "<thead>\n",
              "\t<tr><th></th><th scope=col>Survived</th><th scope=col>Pclass</th><th scope=col>Sex</th><th scope=col>Age</th><th scope=col>SibSp</th><th scope=col>Parch</th><th scope=col>Fare</th><th scope=col>Embarked</th><th scope=col>Embarked_</th><th scope=col>Embarked_C</th><th scope=col>Embarked_Q</th><th scope=col>Embarked_S</th></tr>\n",
              "\t<tr><th></th><th scope=col>&lt;int&gt;</th><th scope=col>&lt;int&gt;</th><th scope=col>&lt;dbl&gt;</th><th scope=col>&lt;dbl&gt;</th><th scope=col>&lt;int&gt;</th><th scope=col>&lt;int&gt;</th><th scope=col>&lt;dbl&gt;</th><th scope=col>&lt;chr&gt;</th><th scope=col>&lt;int&gt;</th><th scope=col>&lt;int&gt;</th><th scope=col>&lt;int&gt;</th><th scope=col>&lt;int&gt;</th></tr>\n",
              "</thead>\n",
              "<tbody>\n",
              "\t<tr><th scope=row>1</th><td>0</td><td>3</td><td>1</td><td>22.00000</td><td>1</td><td>0</td><td>  7.2500</td><td>S</td><td>0</td><td>0</td><td>0</td><td>1</td></tr>\n",
              "\t<tr><th scope=row>2</th><td>1</td><td>1</td><td>0</td><td>38.00000</td><td>1</td><td>0</td><td> 71.2833</td><td>C</td><td>0</td><td>1</td><td>0</td><td>0</td></tr>\n",
              "\t<tr><th scope=row>3</th><td>1</td><td>3</td><td>0</td><td>26.00000</td><td>0</td><td>0</td><td>  7.9250</td><td>S</td><td>0</td><td>0</td><td>0</td><td>1</td></tr>\n",
              "\t<tr><th scope=row>4</th><td>1</td><td>1</td><td>0</td><td>35.00000</td><td>1</td><td>0</td><td> 53.1000</td><td>S</td><td>0</td><td>0</td><td>0</td><td>1</td></tr>\n",
              "\t<tr><th scope=row>5</th><td>0</td><td>3</td><td>1</td><td>35.00000</td><td>0</td><td>0</td><td>  8.0500</td><td>S</td><td>0</td><td>0</td><td>0</td><td>1</td></tr>\n",
              "\t<tr><th scope=row>6</th><td>0</td><td>3</td><td>1</td><td>29.88114</td><td>0</td><td>0</td><td>  8.4583</td><td>Q</td><td>0</td><td>0</td><td>1</td><td>0</td></tr>\n",
              "\t<tr><th scope=row>7</th><td>0</td><td>1</td><td>1</td><td>54.00000</td><td>0</td><td>0</td><td> 51.8625</td><td>S</td><td>0</td><td>0</td><td>0</td><td>1</td></tr>\n",
              "\t<tr><th scope=row>8</th><td>0</td><td>3</td><td>1</td><td> 2.00000</td><td>3</td><td>1</td><td> 21.0750</td><td>S</td><td>0</td><td>0</td><td>0</td><td>1</td></tr>\n",
              "\t<tr><th scope=row>9</th><td>1</td><td>3</td><td>0</td><td>27.00000</td><td>0</td><td>2</td><td> 11.1333</td><td>S</td><td>0</td><td>0</td><td>0</td><td>1</td></tr>\n",
              "\t<tr><th scope=row>10</th><td>1</td><td>2</td><td>0</td><td>14.00000</td><td>1</td><td>0</td><td> 30.0708</td><td>C</td><td>0</td><td>1</td><td>0</td><td>0</td></tr>\n",
              "\t<tr><th scope=row>11</th><td>1</td><td>3</td><td>0</td><td> 4.00000</td><td>1</td><td>1</td><td> 16.7000</td><td>S</td><td>0</td><td>0</td><td>0</td><td>1</td></tr>\n",
              "\t<tr><th scope=row>12</th><td>1</td><td>1</td><td>0</td><td>58.00000</td><td>0</td><td>0</td><td> 26.5500</td><td>S</td><td>0</td><td>0</td><td>0</td><td>1</td></tr>\n",
              "\t<tr><th scope=row>13</th><td>0</td><td>3</td><td>1</td><td>20.00000</td><td>0</td><td>0</td><td>  8.0500</td><td>S</td><td>0</td><td>0</td><td>0</td><td>1</td></tr>\n",
              "\t<tr><th scope=row>14</th><td>0</td><td>3</td><td>1</td><td>39.00000</td><td>1</td><td>5</td><td> 31.2750</td><td>S</td><td>0</td><td>0</td><td>0</td><td>1</td></tr>\n",
              "\t<tr><th scope=row>15</th><td>0</td><td>3</td><td>0</td><td>14.00000</td><td>0</td><td>0</td><td>  7.8542</td><td>S</td><td>0</td><td>0</td><td>0</td><td>1</td></tr>\n",
              "\t<tr><th scope=row>16</th><td>1</td><td>2</td><td>0</td><td>55.00000</td><td>0</td><td>0</td><td> 16.0000</td><td>S</td><td>0</td><td>0</td><td>0</td><td>1</td></tr>\n",
              "\t<tr><th scope=row>17</th><td>0</td><td>3</td><td>1</td><td> 2.00000</td><td>4</td><td>1</td><td> 29.1250</td><td>Q</td><td>0</td><td>0</td><td>1</td><td>0</td></tr>\n",
              "\t<tr><th scope=row>18</th><td>1</td><td>2</td><td>1</td><td>29.88114</td><td>0</td><td>0</td><td> 13.0000</td><td>S</td><td>0</td><td>0</td><td>0</td><td>1</td></tr>\n",
              "\t<tr><th scope=row>19</th><td>0</td><td>3</td><td>0</td><td>31.00000</td><td>1</td><td>0</td><td> 18.0000</td><td>S</td><td>0</td><td>0</td><td>0</td><td>1</td></tr>\n",
              "\t<tr><th scope=row>20</th><td>1</td><td>3</td><td>0</td><td>29.88114</td><td>0</td><td>0</td><td>  7.2250</td><td>C</td><td>0</td><td>1</td><td>0</td><td>0</td></tr>\n",
              "\t<tr><th scope=row>21</th><td>0</td><td>2</td><td>1</td><td>35.00000</td><td>0</td><td>0</td><td> 26.0000</td><td>S</td><td>0</td><td>0</td><td>0</td><td>1</td></tr>\n",
              "\t<tr><th scope=row>22</th><td>1</td><td>2</td><td>1</td><td>34.00000</td><td>0</td><td>0</td><td> 13.0000</td><td>S</td><td>0</td><td>0</td><td>0</td><td>1</td></tr>\n",
              "\t<tr><th scope=row>23</th><td>1</td><td>3</td><td>0</td><td>15.00000</td><td>0</td><td>0</td><td>  8.0292</td><td>Q</td><td>0</td><td>0</td><td>1</td><td>0</td></tr>\n",
              "\t<tr><th scope=row>24</th><td>1</td><td>1</td><td>1</td><td>28.00000</td><td>0</td><td>0</td><td> 35.5000</td><td>S</td><td>0</td><td>0</td><td>0</td><td>1</td></tr>\n",
              "\t<tr><th scope=row>25</th><td>0</td><td>3</td><td>0</td><td> 8.00000</td><td>3</td><td>1</td><td> 21.0750</td><td>S</td><td>0</td><td>0</td><td>0</td><td>1</td></tr>\n",
              "\t<tr><th scope=row>26</th><td>1</td><td>3</td><td>0</td><td>38.00000</td><td>1</td><td>5</td><td> 31.3875</td><td>S</td><td>0</td><td>0</td><td>0</td><td>1</td></tr>\n",
              "\t<tr><th scope=row>27</th><td>0</td><td>3</td><td>1</td><td>29.88114</td><td>0</td><td>0</td><td>  7.2250</td><td>C</td><td>0</td><td>1</td><td>0</td><td>0</td></tr>\n",
              "\t<tr><th scope=row>28</th><td>0</td><td>1</td><td>1</td><td>19.00000</td><td>3</td><td>2</td><td>263.0000</td><td>S</td><td>0</td><td>0</td><td>0</td><td>1</td></tr>\n",
              "\t<tr><th scope=row>29</th><td>1</td><td>3</td><td>0</td><td>29.88114</td><td>0</td><td>0</td><td>  7.8792</td><td>Q</td><td>0</td><td>0</td><td>1</td><td>0</td></tr>\n",
              "\t<tr><th scope=row>30</th><td>0</td><td>3</td><td>1</td><td>29.88114</td><td>0</td><td>0</td><td>  7.8958</td><td>S</td><td>0</td><td>0</td><td>0</td><td>1</td></tr>\n",
              "\t<tr><th scope=row>⋮</th><td>⋮</td><td>⋮</td><td>⋮</td><td>⋮</td><td>⋮</td><td>⋮</td><td>⋮</td><td>⋮</td><td>⋮</td><td>⋮</td><td>⋮</td><td>⋮</td></tr>\n",
              "\t<tr><th scope=row>862</th><td>0</td><td>2</td><td>1</td><td>21.00000</td><td>1</td><td>0</td><td>11.5000</td><td>S</td><td>0</td><td>0</td><td>0</td><td>1</td></tr>\n",
              "\t<tr><th scope=row>863</th><td>1</td><td>1</td><td>0</td><td>48.00000</td><td>0</td><td>0</td><td>25.9292</td><td>S</td><td>0</td><td>0</td><td>0</td><td>1</td></tr>\n",
              "\t<tr><th scope=row>864</th><td>0</td><td>3</td><td>0</td><td>29.88114</td><td>8</td><td>2</td><td>69.5500</td><td>S</td><td>0</td><td>0</td><td>0</td><td>1</td></tr>\n",
              "\t<tr><th scope=row>865</th><td>0</td><td>2</td><td>1</td><td>24.00000</td><td>0</td><td>0</td><td>13.0000</td><td>S</td><td>0</td><td>0</td><td>0</td><td>1</td></tr>\n",
              "\t<tr><th scope=row>866</th><td>1</td><td>2</td><td>0</td><td>42.00000</td><td>0</td><td>0</td><td>13.0000</td><td>S</td><td>0</td><td>0</td><td>0</td><td>1</td></tr>\n",
              "\t<tr><th scope=row>867</th><td>1</td><td>2</td><td>0</td><td>27.00000</td><td>1</td><td>0</td><td>13.8583</td><td>C</td><td>0</td><td>1</td><td>0</td><td>0</td></tr>\n",
              "\t<tr><th scope=row>868</th><td>0</td><td>1</td><td>1</td><td>31.00000</td><td>0</td><td>0</td><td>50.4958</td><td>S</td><td>0</td><td>0</td><td>0</td><td>1</td></tr>\n",
              "\t<tr><th scope=row>869</th><td>0</td><td>3</td><td>1</td><td>29.88114</td><td>0</td><td>0</td><td> 9.5000</td><td>S</td><td>0</td><td>0</td><td>0</td><td>1</td></tr>\n",
              "\t<tr><th scope=row>870</th><td>1</td><td>3</td><td>1</td><td> 4.00000</td><td>1</td><td>1</td><td>11.1333</td><td>S</td><td>0</td><td>0</td><td>0</td><td>1</td></tr>\n",
              "\t<tr><th scope=row>871</th><td>0</td><td>3</td><td>1</td><td>26.00000</td><td>0</td><td>0</td><td> 7.8958</td><td>S</td><td>0</td><td>0</td><td>0</td><td>1</td></tr>\n",
              "\t<tr><th scope=row>872</th><td>1</td><td>1</td><td>0</td><td>47.00000</td><td>1</td><td>1</td><td>52.5542</td><td>S</td><td>0</td><td>0</td><td>0</td><td>1</td></tr>\n",
              "\t<tr><th scope=row>873</th><td>0</td><td>1</td><td>1</td><td>33.00000</td><td>0</td><td>0</td><td> 5.0000</td><td>S</td><td>0</td><td>0</td><td>0</td><td>1</td></tr>\n",
              "\t<tr><th scope=row>874</th><td>0</td><td>3</td><td>1</td><td>47.00000</td><td>0</td><td>0</td><td> 9.0000</td><td>S</td><td>0</td><td>0</td><td>0</td><td>1</td></tr>\n",
              "\t<tr><th scope=row>875</th><td>1</td><td>2</td><td>0</td><td>28.00000</td><td>1</td><td>0</td><td>24.0000</td><td>C</td><td>0</td><td>1</td><td>0</td><td>0</td></tr>\n",
              "\t<tr><th scope=row>876</th><td>1</td><td>3</td><td>0</td><td>15.00000</td><td>0</td><td>0</td><td> 7.2250</td><td>C</td><td>0</td><td>1</td><td>0</td><td>0</td></tr>\n",
              "\t<tr><th scope=row>877</th><td>0</td><td>3</td><td>1</td><td>20.00000</td><td>0</td><td>0</td><td> 9.8458</td><td>S</td><td>0</td><td>0</td><td>0</td><td>1</td></tr>\n",
              "\t<tr><th scope=row>878</th><td>0</td><td>3</td><td>1</td><td>19.00000</td><td>0</td><td>0</td><td> 7.8958</td><td>S</td><td>0</td><td>0</td><td>0</td><td>1</td></tr>\n",
              "\t<tr><th scope=row>879</th><td>0</td><td>3</td><td>1</td><td>29.88114</td><td>0</td><td>0</td><td> 7.8958</td><td>S</td><td>0</td><td>0</td><td>0</td><td>1</td></tr>\n",
              "\t<tr><th scope=row>880</th><td>1</td><td>1</td><td>0</td><td>56.00000</td><td>0</td><td>1</td><td>83.1583</td><td>C</td><td>0</td><td>1</td><td>0</td><td>0</td></tr>\n",
              "\t<tr><th scope=row>881</th><td>1</td><td>2</td><td>0</td><td>25.00000</td><td>0</td><td>1</td><td>26.0000</td><td>S</td><td>0</td><td>0</td><td>0</td><td>1</td></tr>\n",
              "\t<tr><th scope=row>882</th><td>0</td><td>3</td><td>1</td><td>33.00000</td><td>0</td><td>0</td><td> 7.8958</td><td>S</td><td>0</td><td>0</td><td>0</td><td>1</td></tr>\n",
              "\t<tr><th scope=row>883</th><td>0</td><td>3</td><td>0</td><td>22.00000</td><td>0</td><td>0</td><td>10.5167</td><td>S</td><td>0</td><td>0</td><td>0</td><td>1</td></tr>\n",
              "\t<tr><th scope=row>884</th><td>0</td><td>2</td><td>1</td><td>28.00000</td><td>0</td><td>0</td><td>10.5000</td><td>S</td><td>0</td><td>0</td><td>0</td><td>1</td></tr>\n",
              "\t<tr><th scope=row>885</th><td>0</td><td>3</td><td>1</td><td>25.00000</td><td>0</td><td>0</td><td> 7.0500</td><td>S</td><td>0</td><td>0</td><td>0</td><td>1</td></tr>\n",
              "\t<tr><th scope=row>886</th><td>0</td><td>3</td><td>0</td><td>39.00000</td><td>0</td><td>5</td><td>29.1250</td><td>Q</td><td>0</td><td>0</td><td>1</td><td>0</td></tr>\n",
              "\t<tr><th scope=row>887</th><td>0</td><td>2</td><td>1</td><td>27.00000</td><td>0</td><td>0</td><td>13.0000</td><td>S</td><td>0</td><td>0</td><td>0</td><td>1</td></tr>\n",
              "\t<tr><th scope=row>888</th><td>1</td><td>1</td><td>0</td><td>19.00000</td><td>0</td><td>0</td><td>30.0000</td><td>S</td><td>0</td><td>0</td><td>0</td><td>1</td></tr>\n",
              "\t<tr><th scope=row>889</th><td>0</td><td>3</td><td>0</td><td>29.88114</td><td>1</td><td>2</td><td>23.4500</td><td>S</td><td>0</td><td>0</td><td>0</td><td>1</td></tr>\n",
              "\t<tr><th scope=row>890</th><td>1</td><td>1</td><td>1</td><td>26.00000</td><td>0</td><td>0</td><td>30.0000</td><td>C</td><td>0</td><td>1</td><td>0</td><td>0</td></tr>\n",
              "\t<tr><th scope=row>891</th><td>0</td><td>3</td><td>1</td><td>32.00000</td><td>0</td><td>0</td><td> 7.7500</td><td>Q</td><td>0</td><td>0</td><td>1</td><td>0</td></tr>\n",
              "</tbody>\n",
              "</table>\n"
            ]
          },
          "metadata": {
            "tags": []
          }
        }
      ]
    },
    {
      "cell_type": "code",
      "metadata": {
        "id": "v2UqbSeSlj8v"
      },
      "source": [
        "# Pré-Processamento\n",
        "\n",
        "dados_pre <- train %>% \n",
        "  recipe(Survived ~ .) %>% # define a funçao de treino\n",
        "  step_normalize(all_numeric()) %>%\n",
        "  prep()\n",
        "\n",
        "juice(dados_pre) # visualizando dados pré-processados"
      ],
      "execution_count": null,
      "outputs": []
    },
    {
      "cell_type": "code",
      "metadata": {
        "id": "kk0ShAR1Sx8u"
      },
      "source": [
        "# Criando banco de dados pre-processado\n",
        "\n",
        "bake(dados_pre, new_data = train)"
      ],
      "execution_count": null,
      "outputs": []
    },
    {
      "cell_type": "code",
      "metadata": {
        "id": "wIoBjM1US4P7"
      },
      "source": [
        "#Crias as especificações dos modelos\n",
        "\n",
        "#Knn\n",
        "knn_spec <- nearest_neighbor() %>% \n",
        "  set_engine(\"kknn\") %>% \n",
        "  set_mode(\"regression\")\n",
        "\n",
        "#Arvore de decisão\n",
        "decision_spec <- decision_tree() %>% \n",
        "  set_engine(\"rpart\") %>% \n",
        "  set_mode(\"regression\")\n",
        "\n",
        "#Naive Bayes\n",
        "bayes_spec = logistic_reg() %>%\n",
        "  set_engine(engine = \"stan\", \n",
        "             prior_intercept = prior.dist, \n",
        "             prior = prior.dist) %>%\n",
        "  set_mode(mode = \"classification\")\n",
        "\n",
        "#Random Forests\n",
        "rand_spec <- rand_forest() %>% \n",
        "  set_engine(\"ranger\") %>% \n",
        "  set_mode(\"classification\")\n",
        "\n",
        "#Logistic Regression\n",
        "logistic_spec <- logistic_reg() %>% \n",
        "  set_engine(\"glm\") %>% \n",
        "  set_mode(\"classification\")\n",
        "\n"
      ],
      "execution_count": 156,
      "outputs": []
    },
    {
      "cell_type": "code",
      "metadata": {
        "id": "fByfNxi4V4Yh"
      },
      "source": [
        "# Validação cruzada   -> K Folds\n",
        "\n",
        "validation <- vfold_cv(juice(dados_pre), \n",
        "                       v = 5, repeats = 1, \n",
        "                       prep = TRUE)\n",
        "\n",
        "validation"
      ],
      "execution_count": null,
      "outputs": []
    },
    {
      "cell_type": "markdown",
      "metadata": {
        "id": "gPzFO4twYWr0"
      },
      "source": [
        "### Aplicando Regressão Logística "
      ]
    },
    {
      "cell_type": "code",
      "metadata": {
        "id": "hP2XmlbYYc12"
      },
      "source": [
        "#Aplicando modelo Regressão logistica \n",
        "\n",
        "logistic_regression <- fit_resamples(Survived ~ ., \n",
        "                           logistic_spec, \n",
        "                           validation, \n",
        "                           control = control_resamples(save_pred = TRUE))\n",
        "\n",
        "logistic_regression\n"
      ],
      "execution_count": null,
      "outputs": []
    },
    {
      "cell_type": "code",
      "metadata": {
        "id": "jb1_R0fAeRsg"
      },
      "source": [
        "titanic <- titanic %>% \n",
        "mutate(Survived = as.factor(Survived))"
      ],
      "execution_count": null,
      "outputs": []
    },
    {
      "cell_type": "code",
      "metadata": {
        "id": "gyr4arzWZ6UC",
        "outputId": "2f9b627c-a897-4844-9b40-3a697dfef591",
        "colab": {
          "base_uri": "https://localhost:8080/",
          "height": 701
        }
      },
      "source": [
        "# Métricas da Regressão logistica \n",
        "\n",
        "logistic_regression %>% \n",
        "  dplyr::select(id, .metrics) %>% \n",
        "  unnest(.metrics) %>% \n",
        "  filter(.metric == \"rmse\")\n",
        "\n",
        "logistic_metrics <- logistic_regression %>% \n",
        "  collect_metrics() %>% \n",
        "  mutate(model = \"Logistic Regression\") %>% \n",
        "  filter(.metric == \"rmse\")\n"
      ],
      "execution_count": 167,
      "outputs": [
        {
          "output_type": "error",
          "ename": "ERROR",
          "evalue": "ignored",
          "traceback": [
            "Error: Problem with `filter()` input `..1`.\n\u001b[31m✖\u001b[39m object '.metric' not found\n\u001b[34mℹ\u001b[39m Input `..1` is `.metric == \"rmse\"`.\nTraceback:\n",
            "1. logistic_regression %>% dplyr::select(id, .metrics) %>% unnest(.metrics) %>% \n .     filter(.metric == \"rmse\")",
            "2. withVisible(eval(quote(`_fseq`(`_lhs`)), env, env))",
            "3. eval(quote(`_fseq`(`_lhs`)), env, env)",
            "4. eval(quote(`_fseq`(`_lhs`)), env, env)",
            "5. `_fseq`(`_lhs`)",
            "6. freduce(value, `_function_list`)",
            "7. withVisible(function_list[[k]](value))",
            "8. function_list[[k]](value)",
            "9. filter(., .metric == \"rmse\")",
            "10. filter.data.frame(., .metric == \"rmse\")",
            "11. filter_rows(.data, ...)",
            "12. withCallingHandlers(mask$eval_all_filter(dots, env_filter), error = function(e) {\n  .     local_call_step(dots = dots, .index = env_filter$current_expression, \n  .         .fn = \"filter\")\n  .     abort(c(cnd_bullet_header(), x = conditionMessage(e), i = cnd_bullet_input_info(), \n  .         i = cnd_bullet_cur_group_label()), class = \"dplyr_error\")\n  . })",
            "13. mask$eval_all_filter(dots, env_filter)",
            "14. .handleSimpleError(function (e) \n  . {\n  .     local_call_step(dots = dots, .index = env_filter$current_expression, \n  .         .fn = \"filter\")\n  .     abort(c(cnd_bullet_header(), x = conditionMessage(e), i = cnd_bullet_input_info(), \n  .         i = cnd_bullet_cur_group_label()), class = \"dplyr_error\")\n  . }, \"object '.metric' not found\", base::quote(mask$eval_all_filter(dots, \n  .     env_filter)))",
            "15. h(simpleError(msg, call))",
            "16. abort(c(cnd_bullet_header(), x = conditionMessage(e), i = cnd_bullet_input_info(), \n  .     i = cnd_bullet_cur_group_label()), class = \"dplyr_error\")",
            "17. signal_abort(cnd)"
          ]
        }
      ]
    },
    {
      "cell_type": "markdown",
      "metadata": {
        "id": "kLn1BSwcXJeY"
      },
      "source": [
        "### Aplicando KNN"
      ]
    },
    {
      "cell_type": "code",
      "metadata": {
        "id": "hSuGliskWIDL"
      },
      "source": [
        "# Aplicando modelo Knn\n",
        "\n",
        "install.packages(\"kknn\")\n",
        "\n",
        "knn_model <- fit_resamples(Survived ~ ., \n",
        "                          knn_spec, \n",
        "                          validation, \n",
        "                          control = control_resamples(save_pred = TRUE))\n",
        "\n",
        "knn_model"
      ],
      "execution_count": null,
      "outputs": []
    },
    {
      "cell_type": "code",
      "metadata": {
        "id": "z76VTBK4W1_u",
        "outputId": "a34f03ea-38db-47de-8214-60541d527d83",
        "colab": {
          "base_uri": "https://localhost:8080/",
          "height": 158
        }
      },
      "source": [
        "knn_model %>% \n",
        "  dplyr::select(id, .metrics) %>% \n",
        "  unnest(.metrics) %>% \n",
        "  filter(.metric == \"rmse\")\n",
        "\n",
        "knn_metrics <- knn_model %>% \n",
        "  collect_metrics() %>% \n",
        "  mutate(model = \"Knn Model\") %>% \n",
        "  filter(.metric == \"rmse\")"
      ],
      "execution_count": 160,
      "outputs": [
        {
          "output_type": "display_data",
          "data": {
            "text/plain": [
              "  id    .metric .estimator .estimate\n",
              "1 Fold1 rmse    standard   0.8447793\n",
              "2 Fold2 rmse    standard   0.7857360\n",
              "3 Fold3 rmse    standard   0.8454479\n",
              "4 Fold4 rmse    standard   0.8293876\n",
              "5 Fold5 rmse    standard   0.8282203"
            ],
            "text/latex": "A tibble: 5 × 4\n\\begin{tabular}{llll}\n id & .metric & .estimator & .estimate\\\\\n <chr> & <chr> & <chr> & <dbl>\\\\\n\\hline\n\t Fold1 & rmse & standard & 0.8447793\\\\\n\t Fold2 & rmse & standard & 0.7857360\\\\\n\t Fold3 & rmse & standard & 0.8454479\\\\\n\t Fold4 & rmse & standard & 0.8293876\\\\\n\t Fold5 & rmse & standard & 0.8282203\\\\\n\\end{tabular}\n",
            "text/markdown": "\nA tibble: 5 × 4\n\n| id &lt;chr&gt; | .metric &lt;chr&gt; | .estimator &lt;chr&gt; | .estimate &lt;dbl&gt; |\n|---|---|---|---|\n| Fold1 | rmse | standard | 0.8447793 |\n| Fold2 | rmse | standard | 0.7857360 |\n| Fold3 | rmse | standard | 0.8454479 |\n| Fold4 | rmse | standard | 0.8293876 |\n| Fold5 | rmse | standard | 0.8282203 |\n\n",
            "text/html": [
              "<table>\n",
              "<caption>A tibble: 5 × 4</caption>\n",
              "<thead>\n",
              "\t<tr><th scope=col>id</th><th scope=col>.metric</th><th scope=col>.estimator</th><th scope=col>.estimate</th></tr>\n",
              "\t<tr><th scope=col>&lt;chr&gt;</th><th scope=col>&lt;chr&gt;</th><th scope=col>&lt;chr&gt;</th><th scope=col>&lt;dbl&gt;</th></tr>\n",
              "</thead>\n",
              "<tbody>\n",
              "\t<tr><td>Fold1</td><td>rmse</td><td>standard</td><td>0.8447793</td></tr>\n",
              "\t<tr><td>Fold2</td><td>rmse</td><td>standard</td><td>0.7857360</td></tr>\n",
              "\t<tr><td>Fold3</td><td>rmse</td><td>standard</td><td>0.8454479</td></tr>\n",
              "\t<tr><td>Fold4</td><td>rmse</td><td>standard</td><td>0.8293876</td></tr>\n",
              "\t<tr><td>Fold5</td><td>rmse</td><td>standard</td><td>0.8282203</td></tr>\n",
              "</tbody>\n",
              "</table>\n"
            ]
          },
          "metadata": {
            "tags": []
          }
        }
      ]
    },
    {
      "cell_type": "code",
      "metadata": {
        "id": "agWZXbbcXBB6",
        "outputId": "f5caad7f-6be6-45f3-9e13-59c94045b274",
        "colab": {
          "base_uri": "https://localhost:8080/",
          "height": 230
        }
      },
      "source": [
        "# Retornar Parametros do modelo knn: \n",
        "\n",
        "knn_fit <- knn_spec %>% \n",
        "  fit(Survived ~ ., \n",
        "      data = juice(dados_pre))\n",
        "\n",
        "knn_fit"
      ],
      "execution_count": 161,
      "outputs": [
        {
          "output_type": "display_data",
          "data": {
            "text/plain": [
              "parsnip model object\n",
              "\n",
              "Fit time:  26ms \n",
              "\n",
              "Call:\n",
              "kknn::train.kknn(formula = Survived ~ ., data = data, ks = min_rows(5,     data, 5))\n",
              "\n",
              "Type of response variable: continuous\n",
              "minimal mean absolute error: 0.4885217\n",
              "Minimal mean squared error: 0.6674823\n",
              "Best kernel: optimal\n",
              "Best k: 5"
            ]
          },
          "metadata": {
            "tags": []
          }
        }
      ]
    },
    {
      "cell_type": "markdown",
      "metadata": {
        "id": "pLQ2rxB9XTda"
      },
      "source": [
        "### Aplicando Árvore de decisão"
      ]
    },
    {
      "cell_type": "code",
      "metadata": {
        "id": "FsCTE98EXYBj"
      },
      "source": [
        "#Aplicando modelo Arvore de decisão \n",
        "\n",
        "install.packages(\"rpart\")\n",
        "install.packages(\"rpart.plot\")\n",
        "library(rpart.plot)\n",
        "\n",
        "decision_model <- fit_resamples(Survived ~ ., \n",
        "                           decision_spec, \n",
        "                           validation, \n",
        "                           control = control_resamples(save_pred = TRUE))\n",
        "\n",
        "decision_model"
      ],
      "execution_count": null,
      "outputs": []
    },
    {
      "cell_type": "code",
      "metadata": {
        "id": "3qH8_govXjly",
        "outputId": "91d70ab0-fdd0-47a3-9840-8dc66c70ce04",
        "colab": {
          "base_uri": "https://localhost:8080/",
          "height": 701
        }
      },
      "source": [
        "# Métricas da árvore de decisão:\n",
        "\n",
        "decision_model %>% \n",
        "  dplyr::select(id, .metrics) %>% \n",
        "  unnest(.metrics) %>% \n",
        "  filter(.metric == \"rmse\")\n",
        "\n",
        "decision_metrics <- decision_model %>% \n",
        "  collect_metrics() %>% \n",
        "  mutate(model = \"Decision Model\") %>% \n",
        "  filter(.metric == \"rmse\")\n"
      ],
      "execution_count": 163,
      "outputs": [
        {
          "output_type": "error",
          "ename": "ERROR",
          "evalue": "ignored",
          "traceback": [
            "Error: Problem with `filter()` input `..1`.\n\u001b[31m✖\u001b[39m object '.metric' not found\n\u001b[34mℹ\u001b[39m Input `..1` is `.metric == \"rmse\"`.\nTraceback:\n",
            "1. decision_model %>% dplyr::select(id, .metrics) %>% unnest(.metrics) %>% \n .     filter(.metric == \"rmse\")",
            "2. withVisible(eval(quote(`_fseq`(`_lhs`)), env, env))",
            "3. eval(quote(`_fseq`(`_lhs`)), env, env)",
            "4. eval(quote(`_fseq`(`_lhs`)), env, env)",
            "5. `_fseq`(`_lhs`)",
            "6. freduce(value, `_function_list`)",
            "7. withVisible(function_list[[k]](value))",
            "8. function_list[[k]](value)",
            "9. filter(., .metric == \"rmse\")",
            "10. filter.data.frame(., .metric == \"rmse\")",
            "11. filter_rows(.data, ...)",
            "12. withCallingHandlers(mask$eval_all_filter(dots, env_filter), error = function(e) {\n  .     local_call_step(dots = dots, .index = env_filter$current_expression, \n  .         .fn = \"filter\")\n  .     abort(c(cnd_bullet_header(), x = conditionMessage(e), i = cnd_bullet_input_info(), \n  .         i = cnd_bullet_cur_group_label()), class = \"dplyr_error\")\n  . })",
            "13. mask$eval_all_filter(dots, env_filter)",
            "14. .handleSimpleError(function (e) \n  . {\n  .     local_call_step(dots = dots, .index = env_filter$current_expression, \n  .         .fn = \"filter\")\n  .     abort(c(cnd_bullet_header(), x = conditionMessage(e), i = cnd_bullet_input_info(), \n  .         i = cnd_bullet_cur_group_label()), class = \"dplyr_error\")\n  . }, \"object '.metric' not found\", base::quote(mask$eval_all_filter(dots, \n  .     env_filter)))",
            "15. h(simpleError(msg, call))",
            "16. abort(c(cnd_bullet_header(), x = conditionMessage(e), i = cnd_bullet_input_info(), \n  .     i = cnd_bullet_cur_group_label()), class = \"dplyr_error\")",
            "17. signal_abort(cnd)"
          ]
        }
      ]
    }
  ]
}